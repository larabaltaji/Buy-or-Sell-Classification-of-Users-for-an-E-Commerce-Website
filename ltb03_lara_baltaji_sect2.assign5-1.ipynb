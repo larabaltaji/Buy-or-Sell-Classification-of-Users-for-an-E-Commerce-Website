{
 "cells": [
  {
   "cell_type": "markdown",
   "id": "dcee609c",
   "metadata": {},
   "source": [
    "# 0 Importing Required Libraries and Preparing the Dataset"
   ]
  },
  {
   "cell_type": "markdown",
   "id": "6b884c6f",
   "metadata": {},
   "source": [
    "### Loading all necessary libraries"
   ]
  },
  {
   "cell_type": "code",
   "execution_count": 1,
   "id": "4d82ed31",
   "metadata": {},
   "outputs": [],
   "source": [
    "import pandas as pd\n",
    "from pandas.plotting import scatter_matrix\n",
    "import numpy as np\n",
    "from scipy.stats import chi2_contingency\n",
    "from scipy.stats import pearsonr\n",
    "\n",
    "#Visualization libraries\n",
    "import matplotlib.pyplot as plt\n",
    "import seaborn as sns\n",
    "\n",
    "#Preprocessing\n",
    "from sklearn.preprocessing import LabelEncoder\n",
    "from sklearn.preprocessing import MinMaxScaler\n",
    "from sklearn.impute import SimpleImputer\n",
    "from sklearn.preprocessing import OneHotEncoder\n",
    "\n",
    "#Pipeline\n",
    "from sklearn.compose import ColumnTransformer\n",
    "from sklearn.preprocessing import FunctionTransformer\n",
    "from sklearn.pipeline import Pipeline\n",
    "\n",
    "#models\n",
    "from sklearn.linear_model import LogisticRegression\n",
    "from sklearn.linear_model import SGDClassifier\n",
    "from sklearn.tree import DecisionTreeClassifier\n",
    "from sklearn.neighbors import KNeighborsClassifier\n",
    "from sklearn.naive_bayes import GaussianNB, MultinomialNB\n",
    "from sklearn.svm import SVC\n",
    "from sklearn.ensemble import GradientBoostingClassifier\n",
    "import xgboost as xgb\n",
    "\n",
    "#hyperparameter tuning\n",
    "from sklearn.model_selection import GridSearchCV\n",
    "\n",
    "# Evaluation\n",
    "from sklearn.metrics import confusion_matrix\n",
    "from sklearn.model_selection import train_test_split, cross_val_score, cross_validate, cross_val_predict \n",
    "from sklearn.model_selection import KFold, RepeatedKFold, RepeatedStratifiedKFold\n",
    "from sklearn.metrics import roc_curve, roc_auc_score, RocCurveDisplay\n",
    "from sklearn.metrics import classification_report\n",
    "from sklearn.metrics import accuracy_score\n",
    "\n",
    "# Feature Selection and Dimensionality Reduction\n",
    "from sklearn.inspection import permutation_importance\n",
    "from sklearn.feature_selection import RFE\n",
    "from sklearn.decomposition import PCA"
   ]
  },
  {
   "cell_type": "code",
   "execution_count": 2,
   "id": "516533b2",
   "metadata": {},
   "outputs": [
    {
     "name": "stderr",
     "output_type": "stream",
     "text": [
      "C:\\Users\\Lenovo\\AppData\\Local\\Temp\\ipykernel_25696\\2436019669.py:1: DtypeWarning: Columns (17) have mixed types. Specify dtype option on import or set low_memory=False.\n",
      "  df = pd.read_csv('train.csv')\n"
     ]
    }
   ],
   "source": [
    "df = pd.read_csv('train.csv')"
   ]
  },
  {
   "cell_type": "code",
   "execution_count": 3,
   "id": "0c718380",
   "metadata": {
    "scrolled": false
   },
   "outputs": [
    {
     "data": {
      "text/html": [
       "<div>\n",
       "<style scoped>\n",
       "    .dataframe tbody tr th:only-of-type {\n",
       "        vertical-align: middle;\n",
       "    }\n",
       "\n",
       "    .dataframe tbody tr th {\n",
       "        vertical-align: top;\n",
       "    }\n",
       "\n",
       "    .dataframe thead th {\n",
       "        text-align: right;\n",
       "    }\n",
       "</style>\n",
       "<table border=\"1\" class=\"dataframe\">\n",
       "  <thead>\n",
       "    <tr style=\"text-align: right;\">\n",
       "      <th></th>\n",
       "      <th>col1</th>\n",
       "      <th>col2</th>\n",
       "      <th>col3</th>\n",
       "      <th>col4</th>\n",
       "      <th>col5</th>\n",
       "      <th>col6</th>\n",
       "      <th>col7</th>\n",
       "      <th>col8</th>\n",
       "      <th>col9</th>\n",
       "      <th>col10</th>\n",
       "      <th>col11</th>\n",
       "      <th>col12</th>\n",
       "      <th>col13</th>\n",
       "      <th>col14</th>\n",
       "      <th>col15</th>\n",
       "      <th>col16</th>\n",
       "      <th>col17</th>\n",
       "      <th>col18</th>\n",
       "    </tr>\n",
       "  </thead>\n",
       "  <tbody>\n",
       "    <tr>\n",
       "      <th>0</th>\n",
       "      <td>b519c75c-f6fa-434c-81e8-cae20d82c8bb</td>\n",
       "      <td>082f3074-39b5-448d-b696-1e99de783de7</td>\n",
       "      <td>2017-03-07T00:17:41.049Z</td>\n",
       "      <td>2017-03-07T00:47:41.049Z</td>\n",
       "      <td>2016-06-26T00:00:00.180Z</td>\n",
       "      <td>420</td>\n",
       "      <td>PAGE_LOAD</td>\n",
       "      <td>0</td>\n",
       "      <td>NC</td>\n",
       "      <td>0</td>\n",
       "      <td>0.0</td>\n",
       "      <td>F</td>\n",
       "      <td>10.0</td>\n",
       "      <td>50.0</td>\n",
       "      <td>1.0</td>\n",
       "      <td>1048576.00</td>\n",
       "      <td>IGNORED</td>\n",
       "      <td>0</td>\n",
       "    </tr>\n",
       "    <tr>\n",
       "      <th>1</th>\n",
       "      <td>ef0fe1e7-432c-4cb0-b320-68d6186c92d4</td>\n",
       "      <td>4cc4beb5-1352-4ff7-aecf-f742ea4eb8de</td>\n",
       "      <td>2017-03-06T03:30:09.544Z</td>\n",
       "      <td>2017-03-06T04:00:09.544Z</td>\n",
       "      <td>2016-09-16T00:00:00.180Z</td>\n",
       "      <td>420</td>\n",
       "      <td>PAGE_LOAD</td>\n",
       "      <td>0</td>\n",
       "      <td>NC</td>\n",
       "      <td>0</td>\n",
       "      <td>0.0</td>\n",
       "      <td>F</td>\n",
       "      <td>10.0</td>\n",
       "      <td>50.0</td>\n",
       "      <td>1.0</td>\n",
       "      <td>2078102.25</td>\n",
       "      <td>IGNORED</td>\n",
       "      <td>0</td>\n",
       "    </tr>\n",
       "    <tr>\n",
       "      <th>2</th>\n",
       "      <td>e56669c6-83e8-4946-9c85-f59690aace0c</td>\n",
       "      <td>70b9ed34-4de3-47c4-ae00-2a0f4cd4579f</td>\n",
       "      <td>2017-03-03T07:17:25.925Z</td>\n",
       "      <td>2017-03-03T07:47:25.925Z</td>\n",
       "      <td>2017-01-17T05:48:46.209Z</td>\n",
       "      <td>480</td>\n",
       "      <td>PAGE_LOAD</td>\n",
       "      <td>0</td>\n",
       "      <td>NC</td>\n",
       "      <td>0</td>\n",
       "      <td>0.0</td>\n",
       "      <td>P</td>\n",
       "      <td>75.0</td>\n",
       "      <td>950.0</td>\n",
       "      <td>1.0</td>\n",
       "      <td>1048576.00</td>\n",
       "      <td>IGNORED</td>\n",
       "      <td>0</td>\n",
       "    </tr>\n",
       "    <tr>\n",
       "      <th>3</th>\n",
       "      <td>462fcaa1-b446-4533-9f35-cca47c631f9a</td>\n",
       "      <td>5838186d-164f-4f51-bd35-c82a293d5e14</td>\n",
       "      <td>2017-03-06T14:31:23.833Z</td>\n",
       "      <td>2017-03-06T15:01:23.833Z</td>\n",
       "      <td>2017-02-01T12:49:56.329Z</td>\n",
       "      <td>480</td>\n",
       "      <td>PAGE_LOAD</td>\n",
       "      <td>0</td>\n",
       "      <td>NC</td>\n",
       "      <td>0</td>\n",
       "      <td>0.0</td>\n",
       "      <td>P</td>\n",
       "      <td>10.0</td>\n",
       "      <td>50.0</td>\n",
       "      <td>1.0</td>\n",
       "      <td>1048576.00</td>\n",
       "      <td>IGNORED</td>\n",
       "      <td>0</td>\n",
       "    </tr>\n",
       "    <tr>\n",
       "      <th>4</th>\n",
       "      <td>3d27be7d-cba4-4955-8e46-5f78229c71b1</td>\n",
       "      <td>ee595e60-f3b3-44e7-bf78-25c834931ab9</td>\n",
       "      <td>2017-03-03T15:45:27.598Z</td>\n",
       "      <td>2017-03-03T16:15:27.598Z</td>\n",
       "      <td>2017-02-01T15:45:43.210Z</td>\n",
       "      <td>480</td>\n",
       "      <td>PAGE_LOAD</td>\n",
       "      <td>0</td>\n",
       "      <td>NC</td>\n",
       "      <td>0</td>\n",
       "      <td>0.0</td>\n",
       "      <td>F</td>\n",
       "      <td>10.0</td>\n",
       "      <td>50.0</td>\n",
       "      <td>1.0</td>\n",
       "      <td>1048576.00</td>\n",
       "      <td>IGNORED</td>\n",
       "      <td>0</td>\n",
       "    </tr>\n",
       "  </tbody>\n",
       "</table>\n",
       "</div>"
      ],
      "text/plain": [
       "                                   col1                                  col2  \\\n",
       "0  b519c75c-f6fa-434c-81e8-cae20d82c8bb  082f3074-39b5-448d-b696-1e99de783de7   \n",
       "1  ef0fe1e7-432c-4cb0-b320-68d6186c92d4  4cc4beb5-1352-4ff7-aecf-f742ea4eb8de   \n",
       "2  e56669c6-83e8-4946-9c85-f59690aace0c  70b9ed34-4de3-47c4-ae00-2a0f4cd4579f   \n",
       "3  462fcaa1-b446-4533-9f35-cca47c631f9a  5838186d-164f-4f51-bd35-c82a293d5e14   \n",
       "4  3d27be7d-cba4-4955-8e46-5f78229c71b1  ee595e60-f3b3-44e7-bf78-25c834931ab9   \n",
       "\n",
       "                       col3                      col4  \\\n",
       "0  2017-03-07T00:17:41.049Z  2017-03-07T00:47:41.049Z   \n",
       "1  2017-03-06T03:30:09.544Z  2017-03-06T04:00:09.544Z   \n",
       "2  2017-03-03T07:17:25.925Z  2017-03-03T07:47:25.925Z   \n",
       "3  2017-03-06T14:31:23.833Z  2017-03-06T15:01:23.833Z   \n",
       "4  2017-03-03T15:45:27.598Z  2017-03-03T16:15:27.598Z   \n",
       "\n",
       "                       col5  col6       col7  col8 col9  col10  col11 col12  \\\n",
       "0  2016-06-26T00:00:00.180Z   420  PAGE_LOAD     0   NC      0    0.0     F   \n",
       "1  2016-09-16T00:00:00.180Z   420  PAGE_LOAD     0   NC      0    0.0     F   \n",
       "2  2017-01-17T05:48:46.209Z   480  PAGE_LOAD     0   NC      0    0.0     P   \n",
       "3  2017-02-01T12:49:56.329Z   480  PAGE_LOAD     0   NC      0    0.0     P   \n",
       "4  2017-02-01T15:45:43.210Z   480  PAGE_LOAD     0   NC      0    0.0     F   \n",
       "\n",
       "   col13  col14  col15       col16    col17 col18  \n",
       "0   10.0   50.0    1.0  1048576.00  IGNORED     0  \n",
       "1   10.0   50.0    1.0  2078102.25  IGNORED     0  \n",
       "2   75.0  950.0    1.0  1048576.00  IGNORED     0  \n",
       "3   10.0   50.0    1.0  1048576.00  IGNORED     0  \n",
       "4   10.0   50.0    1.0  1048576.00  IGNORED     0  "
      ]
     },
     "execution_count": 3,
     "metadata": {},
     "output_type": "execute_result"
    }
   ],
   "source": [
    "df.head()"
   ]
  },
  {
   "cell_type": "markdown",
   "id": "3e5d5d23",
   "metadata": {},
   "source": [
    "- The warning message suggests that there may be inconsistency in the data types. Let us check it out after we rename the columns."
   ]
  },
  {
   "cell_type": "markdown",
   "id": "9ef78e75",
   "metadata": {},
   "source": [
    "### Renaming the columns"
   ]
  },
  {
   "cell_type": "code",
   "execution_count": 4,
   "id": "201fe6d6",
   "metadata": {},
   "outputs": [],
   "source": [
    "# changing the column names\n",
    "df = df.rename(columns={\n",
    "    'col1': 'user_id',\n",
    "    'col2': 'session_id',\n",
    "    'col3': 'session_start_time',\n",
    "    'col4': 'session_expiry_time',\n",
    "    'col5': 'event_time',\n",
    "    'col6': 'event_time_zone',\n",
    "    'col7': 'event_type',\n",
    "    'col8': 'offer_decline_count',\n",
    "    'col9': 'user_status',\n",
    "    'col10': 'cart_quantity',\n",
    "    'col11': 'cart_total',\n",
    "    'col12': 'last_offer_type',\n",
    "    'col13': 'last_reward_value',\n",
    "    'col14': 'last_spend_value',\n",
    "    'col15': 'offer_display_count',\n",
    "    'col16': 'user_screen_size',\n",
    "    'col17': 'offer_acceptance_state',\n",
    "    'col18': 'target'\n",
    "})"
   ]
  },
  {
   "cell_type": "code",
   "execution_count": 5,
   "id": "8315b372",
   "metadata": {
    "scrolled": false
   },
   "outputs": [
    {
     "data": {
      "text/html": [
       "<div>\n",
       "<style scoped>\n",
       "    .dataframe tbody tr th:only-of-type {\n",
       "        vertical-align: middle;\n",
       "    }\n",
       "\n",
       "    .dataframe tbody tr th {\n",
       "        vertical-align: top;\n",
       "    }\n",
       "\n",
       "    .dataframe thead th {\n",
       "        text-align: right;\n",
       "    }\n",
       "</style>\n",
       "<table border=\"1\" class=\"dataframe\">\n",
       "  <thead>\n",
       "    <tr style=\"text-align: right;\">\n",
       "      <th></th>\n",
       "      <th>user_id</th>\n",
       "      <th>session_id</th>\n",
       "      <th>session_start_time</th>\n",
       "      <th>session_expiry_time</th>\n",
       "      <th>event_time</th>\n",
       "      <th>event_time_zone</th>\n",
       "      <th>event_type</th>\n",
       "      <th>offer_decline_count</th>\n",
       "      <th>user_status</th>\n",
       "      <th>cart_quantity</th>\n",
       "      <th>cart_total</th>\n",
       "      <th>last_offer_type</th>\n",
       "      <th>last_reward_value</th>\n",
       "      <th>last_spend_value</th>\n",
       "      <th>offer_display_count</th>\n",
       "      <th>user_screen_size</th>\n",
       "      <th>offer_acceptance_state</th>\n",
       "      <th>target</th>\n",
       "    </tr>\n",
       "  </thead>\n",
       "  <tbody>\n",
       "    <tr>\n",
       "      <th>0</th>\n",
       "      <td>b519c75c-f6fa-434c-81e8-cae20d82c8bb</td>\n",
       "      <td>082f3074-39b5-448d-b696-1e99de783de7</td>\n",
       "      <td>2017-03-07T00:17:41.049Z</td>\n",
       "      <td>2017-03-07T00:47:41.049Z</td>\n",
       "      <td>2016-06-26T00:00:00.180Z</td>\n",
       "      <td>420</td>\n",
       "      <td>PAGE_LOAD</td>\n",
       "      <td>0</td>\n",
       "      <td>NC</td>\n",
       "      <td>0</td>\n",
       "      <td>0.0</td>\n",
       "      <td>F</td>\n",
       "      <td>10.0</td>\n",
       "      <td>50.0</td>\n",
       "      <td>1.0</td>\n",
       "      <td>1048576.00</td>\n",
       "      <td>IGNORED</td>\n",
       "      <td>0</td>\n",
       "    </tr>\n",
       "    <tr>\n",
       "      <th>1</th>\n",
       "      <td>ef0fe1e7-432c-4cb0-b320-68d6186c92d4</td>\n",
       "      <td>4cc4beb5-1352-4ff7-aecf-f742ea4eb8de</td>\n",
       "      <td>2017-03-06T03:30:09.544Z</td>\n",
       "      <td>2017-03-06T04:00:09.544Z</td>\n",
       "      <td>2016-09-16T00:00:00.180Z</td>\n",
       "      <td>420</td>\n",
       "      <td>PAGE_LOAD</td>\n",
       "      <td>0</td>\n",
       "      <td>NC</td>\n",
       "      <td>0</td>\n",
       "      <td>0.0</td>\n",
       "      <td>F</td>\n",
       "      <td>10.0</td>\n",
       "      <td>50.0</td>\n",
       "      <td>1.0</td>\n",
       "      <td>2078102.25</td>\n",
       "      <td>IGNORED</td>\n",
       "      <td>0</td>\n",
       "    </tr>\n",
       "    <tr>\n",
       "      <th>2</th>\n",
       "      <td>e56669c6-83e8-4946-9c85-f59690aace0c</td>\n",
       "      <td>70b9ed34-4de3-47c4-ae00-2a0f4cd4579f</td>\n",
       "      <td>2017-03-03T07:17:25.925Z</td>\n",
       "      <td>2017-03-03T07:47:25.925Z</td>\n",
       "      <td>2017-01-17T05:48:46.209Z</td>\n",
       "      <td>480</td>\n",
       "      <td>PAGE_LOAD</td>\n",
       "      <td>0</td>\n",
       "      <td>NC</td>\n",
       "      <td>0</td>\n",
       "      <td>0.0</td>\n",
       "      <td>P</td>\n",
       "      <td>75.0</td>\n",
       "      <td>950.0</td>\n",
       "      <td>1.0</td>\n",
       "      <td>1048576.00</td>\n",
       "      <td>IGNORED</td>\n",
       "      <td>0</td>\n",
       "    </tr>\n",
       "    <tr>\n",
       "      <th>3</th>\n",
       "      <td>462fcaa1-b446-4533-9f35-cca47c631f9a</td>\n",
       "      <td>5838186d-164f-4f51-bd35-c82a293d5e14</td>\n",
       "      <td>2017-03-06T14:31:23.833Z</td>\n",
       "      <td>2017-03-06T15:01:23.833Z</td>\n",
       "      <td>2017-02-01T12:49:56.329Z</td>\n",
       "      <td>480</td>\n",
       "      <td>PAGE_LOAD</td>\n",
       "      <td>0</td>\n",
       "      <td>NC</td>\n",
       "      <td>0</td>\n",
       "      <td>0.0</td>\n",
       "      <td>P</td>\n",
       "      <td>10.0</td>\n",
       "      <td>50.0</td>\n",
       "      <td>1.0</td>\n",
       "      <td>1048576.00</td>\n",
       "      <td>IGNORED</td>\n",
       "      <td>0</td>\n",
       "    </tr>\n",
       "    <tr>\n",
       "      <th>4</th>\n",
       "      <td>3d27be7d-cba4-4955-8e46-5f78229c71b1</td>\n",
       "      <td>ee595e60-f3b3-44e7-bf78-25c834931ab9</td>\n",
       "      <td>2017-03-03T15:45:27.598Z</td>\n",
       "      <td>2017-03-03T16:15:27.598Z</td>\n",
       "      <td>2017-02-01T15:45:43.210Z</td>\n",
       "      <td>480</td>\n",
       "      <td>PAGE_LOAD</td>\n",
       "      <td>0</td>\n",
       "      <td>NC</td>\n",
       "      <td>0</td>\n",
       "      <td>0.0</td>\n",
       "      <td>F</td>\n",
       "      <td>10.0</td>\n",
       "      <td>50.0</td>\n",
       "      <td>1.0</td>\n",
       "      <td>1048576.00</td>\n",
       "      <td>IGNORED</td>\n",
       "      <td>0</td>\n",
       "    </tr>\n",
       "  </tbody>\n",
       "</table>\n",
       "</div>"
      ],
      "text/plain": [
       "                                user_id                            session_id  \\\n",
       "0  b519c75c-f6fa-434c-81e8-cae20d82c8bb  082f3074-39b5-448d-b696-1e99de783de7   \n",
       "1  ef0fe1e7-432c-4cb0-b320-68d6186c92d4  4cc4beb5-1352-4ff7-aecf-f742ea4eb8de   \n",
       "2  e56669c6-83e8-4946-9c85-f59690aace0c  70b9ed34-4de3-47c4-ae00-2a0f4cd4579f   \n",
       "3  462fcaa1-b446-4533-9f35-cca47c631f9a  5838186d-164f-4f51-bd35-c82a293d5e14   \n",
       "4  3d27be7d-cba4-4955-8e46-5f78229c71b1  ee595e60-f3b3-44e7-bf78-25c834931ab9   \n",
       "\n",
       "         session_start_time       session_expiry_time  \\\n",
       "0  2017-03-07T00:17:41.049Z  2017-03-07T00:47:41.049Z   \n",
       "1  2017-03-06T03:30:09.544Z  2017-03-06T04:00:09.544Z   \n",
       "2  2017-03-03T07:17:25.925Z  2017-03-03T07:47:25.925Z   \n",
       "3  2017-03-06T14:31:23.833Z  2017-03-06T15:01:23.833Z   \n",
       "4  2017-03-03T15:45:27.598Z  2017-03-03T16:15:27.598Z   \n",
       "\n",
       "                 event_time  event_time_zone event_type  offer_decline_count  \\\n",
       "0  2016-06-26T00:00:00.180Z              420  PAGE_LOAD                    0   \n",
       "1  2016-09-16T00:00:00.180Z              420  PAGE_LOAD                    0   \n",
       "2  2017-01-17T05:48:46.209Z              480  PAGE_LOAD                    0   \n",
       "3  2017-02-01T12:49:56.329Z              480  PAGE_LOAD                    0   \n",
       "4  2017-02-01T15:45:43.210Z              480  PAGE_LOAD                    0   \n",
       "\n",
       "  user_status  cart_quantity  cart_total last_offer_type  last_reward_value  \\\n",
       "0          NC              0         0.0               F               10.0   \n",
       "1          NC              0         0.0               F               10.0   \n",
       "2          NC              0         0.0               P               75.0   \n",
       "3          NC              0         0.0               P               10.0   \n",
       "4          NC              0         0.0               F               10.0   \n",
       "\n",
       "   last_spend_value  offer_display_count  user_screen_size  \\\n",
       "0              50.0                  1.0        1048576.00   \n",
       "1              50.0                  1.0        2078102.25   \n",
       "2             950.0                  1.0        1048576.00   \n",
       "3              50.0                  1.0        1048576.00   \n",
       "4              50.0                  1.0        1048576.00   \n",
       "\n",
       "  offer_acceptance_state target  \n",
       "0                IGNORED      0  \n",
       "1                IGNORED      0  \n",
       "2                IGNORED      0  \n",
       "3                IGNORED      0  \n",
       "4                IGNORED      0  "
      ]
     },
     "execution_count": 5,
     "metadata": {},
     "output_type": "execute_result"
    }
   ],
   "source": [
    "df.head()"
   ]
  },
  {
   "cell_type": "markdown",
   "id": "9a0c22ae",
   "metadata": {},
   "source": [
    "## Checking the data types of features"
   ]
  },
  {
   "cell_type": "code",
   "execution_count": 6,
   "id": "aa610b07",
   "metadata": {
    "scrolled": false
   },
   "outputs": [
    {
     "name": "stdout",
     "output_type": "stream",
     "text": [
      "<class 'pandas.core.frame.DataFrame'>\n",
      "RangeIndex: 396875 entries, 0 to 396874\n",
      "Data columns (total 18 columns):\n",
      " #   Column                  Non-Null Count   Dtype  \n",
      "---  ------                  --------------   -----  \n",
      " 0   user_id                 396875 non-null  object \n",
      " 1   session_id              396875 non-null  object \n",
      " 2   session_start_time      396875 non-null  object \n",
      " 3   session_expiry_time     396875 non-null  object \n",
      " 4   event_time              396875 non-null  object \n",
      " 5   event_time_zone         396875 non-null  int64  \n",
      " 6   event_type              396875 non-null  object \n",
      " 7   offer_decline_count     396875 non-null  int64  \n",
      " 8   user_status             396875 non-null  object \n",
      " 9   cart_quantity           396875 non-null  int64  \n",
      " 10  cart_total              396875 non-null  float64\n",
      " 11  last_offer_type         276353 non-null  object \n",
      " 12  last_reward_value       276353 non-null  float64\n",
      " 13  last_spend_value        276353 non-null  float64\n",
      " 14  offer_display_count     276353 non-null  float64\n",
      " 15  user_screen_size        396875 non-null  float64\n",
      " 16  offer_acceptance_state  276353 non-null  object \n",
      " 17  target                  396875 non-null  object \n",
      "dtypes: float64(5), int64(3), object(10)\n",
      "memory usage: 54.5+ MB\n"
     ]
    }
   ],
   "source": [
    "df.info()"
   ]
  },
  {
   "cell_type": "code",
   "execution_count": 7,
   "id": "c4214319",
   "metadata": {},
   "outputs": [],
   "source": [
    "# convert time features to datetime\n",
    "time_features = ['session_start_time', 'session_expiry_time', 'event_time']\n",
    "for feature in time_features:\n",
    "    df[feature] = pd.to_datetime(df[feature])"
   ]
  },
  {
   "cell_type": "markdown",
   "id": "582d93b1",
   "metadata": {},
   "source": [
    "#### target"
   ]
  },
  {
   "cell_type": "code",
   "execution_count": 8,
   "id": "6e91bc72",
   "metadata": {},
   "outputs": [
    {
     "data": {
      "text/plain": [
       "0        353318\n",
       "0         32016\n",
       "1         10789\n",
       "1           751\n",
       "FALSE         1\n",
       "Name: target, dtype: int64"
      ]
     },
     "execution_count": 8,
     "metadata": {},
     "output_type": "execute_result"
    }
   ],
   "source": [
    "df['target'].value_counts(dropna = False)"
   ]
  },
  {
   "cell_type": "code",
   "execution_count": 9,
   "id": "4ae74dc7",
   "metadata": {},
   "outputs": [],
   "source": [
    "# There exists one target with a value 'False', and there seems to be inconsistency in the 0s and 1s (some may include spaces)\n",
    "# Let us fix it now "
   ]
  },
  {
   "cell_type": "code",
   "execution_count": 10,
   "id": "a7d58434",
   "metadata": {},
   "outputs": [
    {
     "data": {
      "text/plain": [
       "0    353319\n",
       "0     32016\n",
       "1     10789\n",
       "1       751\n",
       "Name: target, dtype: int64"
      ]
     },
     "execution_count": 10,
     "metadata": {},
     "output_type": "execute_result"
    }
   ],
   "source": [
    "df['target'] = df['target'].replace('FALSE', 0)\n",
    "df['target'].value_counts(dropna = False)"
   ]
  },
  {
   "cell_type": "code",
   "execution_count": 11,
   "id": "bb31bb5f",
   "metadata": {
    "scrolled": false
   },
   "outputs": [
    {
     "data": {
      "text/html": [
       "<div>\n",
       "<style scoped>\n",
       "    .dataframe tbody tr th:only-of-type {\n",
       "        vertical-align: middle;\n",
       "    }\n",
       "\n",
       "    .dataframe tbody tr th {\n",
       "        vertical-align: top;\n",
       "    }\n",
       "\n",
       "    .dataframe thead th {\n",
       "        text-align: right;\n",
       "    }\n",
       "</style>\n",
       "<table border=\"1\" class=\"dataframe\">\n",
       "  <thead>\n",
       "    <tr style=\"text-align: right;\">\n",
       "      <th></th>\n",
       "      <th>user_id</th>\n",
       "      <th>session_id</th>\n",
       "      <th>session_start_time</th>\n",
       "      <th>session_expiry_time</th>\n",
       "      <th>event_time</th>\n",
       "      <th>event_time_zone</th>\n",
       "      <th>event_type</th>\n",
       "      <th>offer_decline_count</th>\n",
       "      <th>user_status</th>\n",
       "      <th>cart_quantity</th>\n",
       "      <th>cart_total</th>\n",
       "      <th>last_offer_type</th>\n",
       "      <th>last_reward_value</th>\n",
       "      <th>last_spend_value</th>\n",
       "      <th>offer_display_count</th>\n",
       "      <th>user_screen_size</th>\n",
       "      <th>offer_acceptance_state</th>\n",
       "      <th>target</th>\n",
       "    </tr>\n",
       "  </thead>\n",
       "  <tbody>\n",
       "    <tr>\n",
       "      <th>0</th>\n",
       "      <td>b519c75c-f6fa-434c-81e8-cae20d82c8bb</td>\n",
       "      <td>082f3074-39b5-448d-b696-1e99de783de7</td>\n",
       "      <td>2017-03-07 00:17:41.049000+00:00</td>\n",
       "      <td>2017-03-07 00:47:41.049000+00:00</td>\n",
       "      <td>2016-06-26 00:00:00.180000+00:00</td>\n",
       "      <td>420</td>\n",
       "      <td>PAGE_LOAD</td>\n",
       "      <td>0</td>\n",
       "      <td>NC</td>\n",
       "      <td>0</td>\n",
       "      <td>0.0</td>\n",
       "      <td>F</td>\n",
       "      <td>10.0</td>\n",
       "      <td>50.0</td>\n",
       "      <td>1.0</td>\n",
       "      <td>1048576.00</td>\n",
       "      <td>IGNORED</td>\n",
       "      <td>0</td>\n",
       "    </tr>\n",
       "    <tr>\n",
       "      <th>1</th>\n",
       "      <td>ef0fe1e7-432c-4cb0-b320-68d6186c92d4</td>\n",
       "      <td>4cc4beb5-1352-4ff7-aecf-f742ea4eb8de</td>\n",
       "      <td>2017-03-06 03:30:09.544000+00:00</td>\n",
       "      <td>2017-03-06 04:00:09.544000+00:00</td>\n",
       "      <td>2016-09-16 00:00:00.180000+00:00</td>\n",
       "      <td>420</td>\n",
       "      <td>PAGE_LOAD</td>\n",
       "      <td>0</td>\n",
       "      <td>NC</td>\n",
       "      <td>0</td>\n",
       "      <td>0.0</td>\n",
       "      <td>F</td>\n",
       "      <td>10.0</td>\n",
       "      <td>50.0</td>\n",
       "      <td>1.0</td>\n",
       "      <td>2078102.25</td>\n",
       "      <td>IGNORED</td>\n",
       "      <td>0</td>\n",
       "    </tr>\n",
       "    <tr>\n",
       "      <th>2</th>\n",
       "      <td>e56669c6-83e8-4946-9c85-f59690aace0c</td>\n",
       "      <td>70b9ed34-4de3-47c4-ae00-2a0f4cd4579f</td>\n",
       "      <td>2017-03-03 07:17:25.925000+00:00</td>\n",
       "      <td>2017-03-03 07:47:25.925000+00:00</td>\n",
       "      <td>2017-01-17 05:48:46.209000+00:00</td>\n",
       "      <td>480</td>\n",
       "      <td>PAGE_LOAD</td>\n",
       "      <td>0</td>\n",
       "      <td>NC</td>\n",
       "      <td>0</td>\n",
       "      <td>0.0</td>\n",
       "      <td>P</td>\n",
       "      <td>75.0</td>\n",
       "      <td>950.0</td>\n",
       "      <td>1.0</td>\n",
       "      <td>1048576.00</td>\n",
       "      <td>IGNORED</td>\n",
       "      <td>0</td>\n",
       "    </tr>\n",
       "    <tr>\n",
       "      <th>3</th>\n",
       "      <td>462fcaa1-b446-4533-9f35-cca47c631f9a</td>\n",
       "      <td>5838186d-164f-4f51-bd35-c82a293d5e14</td>\n",
       "      <td>2017-03-06 14:31:23.833000+00:00</td>\n",
       "      <td>2017-03-06 15:01:23.833000+00:00</td>\n",
       "      <td>2017-02-01 12:49:56.329000+00:00</td>\n",
       "      <td>480</td>\n",
       "      <td>PAGE_LOAD</td>\n",
       "      <td>0</td>\n",
       "      <td>NC</td>\n",
       "      <td>0</td>\n",
       "      <td>0.0</td>\n",
       "      <td>P</td>\n",
       "      <td>10.0</td>\n",
       "      <td>50.0</td>\n",
       "      <td>1.0</td>\n",
       "      <td>1048576.00</td>\n",
       "      <td>IGNORED</td>\n",
       "      <td>0</td>\n",
       "    </tr>\n",
       "    <tr>\n",
       "      <th>4</th>\n",
       "      <td>3d27be7d-cba4-4955-8e46-5f78229c71b1</td>\n",
       "      <td>ee595e60-f3b3-44e7-bf78-25c834931ab9</td>\n",
       "      <td>2017-03-03 15:45:27.598000+00:00</td>\n",
       "      <td>2017-03-03 16:15:27.598000+00:00</td>\n",
       "      <td>2017-02-01 15:45:43.210000+00:00</td>\n",
       "      <td>480</td>\n",
       "      <td>PAGE_LOAD</td>\n",
       "      <td>0</td>\n",
       "      <td>NC</td>\n",
       "      <td>0</td>\n",
       "      <td>0.0</td>\n",
       "      <td>F</td>\n",
       "      <td>10.0</td>\n",
       "      <td>50.0</td>\n",
       "      <td>1.0</td>\n",
       "      <td>1048576.00</td>\n",
       "      <td>IGNORED</td>\n",
       "      <td>0</td>\n",
       "    </tr>\n",
       "  </tbody>\n",
       "</table>\n",
       "</div>"
      ],
      "text/plain": [
       "                                user_id                            session_id  \\\n",
       "0  b519c75c-f6fa-434c-81e8-cae20d82c8bb  082f3074-39b5-448d-b696-1e99de783de7   \n",
       "1  ef0fe1e7-432c-4cb0-b320-68d6186c92d4  4cc4beb5-1352-4ff7-aecf-f742ea4eb8de   \n",
       "2  e56669c6-83e8-4946-9c85-f59690aace0c  70b9ed34-4de3-47c4-ae00-2a0f4cd4579f   \n",
       "3  462fcaa1-b446-4533-9f35-cca47c631f9a  5838186d-164f-4f51-bd35-c82a293d5e14   \n",
       "4  3d27be7d-cba4-4955-8e46-5f78229c71b1  ee595e60-f3b3-44e7-bf78-25c834931ab9   \n",
       "\n",
       "                session_start_time              session_expiry_time  \\\n",
       "0 2017-03-07 00:17:41.049000+00:00 2017-03-07 00:47:41.049000+00:00   \n",
       "1 2017-03-06 03:30:09.544000+00:00 2017-03-06 04:00:09.544000+00:00   \n",
       "2 2017-03-03 07:17:25.925000+00:00 2017-03-03 07:47:25.925000+00:00   \n",
       "3 2017-03-06 14:31:23.833000+00:00 2017-03-06 15:01:23.833000+00:00   \n",
       "4 2017-03-03 15:45:27.598000+00:00 2017-03-03 16:15:27.598000+00:00   \n",
       "\n",
       "                        event_time  event_time_zone event_type  \\\n",
       "0 2016-06-26 00:00:00.180000+00:00              420  PAGE_LOAD   \n",
       "1 2016-09-16 00:00:00.180000+00:00              420  PAGE_LOAD   \n",
       "2 2017-01-17 05:48:46.209000+00:00              480  PAGE_LOAD   \n",
       "3 2017-02-01 12:49:56.329000+00:00              480  PAGE_LOAD   \n",
       "4 2017-02-01 15:45:43.210000+00:00              480  PAGE_LOAD   \n",
       "\n",
       "   offer_decline_count user_status  cart_quantity  cart_total last_offer_type  \\\n",
       "0                    0          NC              0         0.0               F   \n",
       "1                    0          NC              0         0.0               F   \n",
       "2                    0          NC              0         0.0               P   \n",
       "3                    0          NC              0         0.0               P   \n",
       "4                    0          NC              0         0.0               F   \n",
       "\n",
       "   last_reward_value  last_spend_value  offer_display_count  user_screen_size  \\\n",
       "0               10.0              50.0                  1.0        1048576.00   \n",
       "1               10.0              50.0                  1.0        2078102.25   \n",
       "2               75.0             950.0                  1.0        1048576.00   \n",
       "3               10.0              50.0                  1.0        1048576.00   \n",
       "4               10.0              50.0                  1.0        1048576.00   \n",
       "\n",
       "  offer_acceptance_state target  \n",
       "0                IGNORED      0  \n",
       "1                IGNORED      0  \n",
       "2                IGNORED      0  \n",
       "3                IGNORED      0  \n",
       "4                IGNORED      0  "
      ]
     },
     "execution_count": 11,
     "metadata": {},
     "output_type": "execute_result"
    }
   ],
   "source": [
    "df[df['target']== 0].head()"
   ]
  },
  {
   "cell_type": "code",
   "execution_count": 12,
   "id": "db03f26d",
   "metadata": {},
   "outputs": [
    {
     "data": {
      "text/html": [
       "<div>\n",
       "<style scoped>\n",
       "    .dataframe tbody tr th:only-of-type {\n",
       "        vertical-align: middle;\n",
       "    }\n",
       "\n",
       "    .dataframe tbody tr th {\n",
       "        vertical-align: top;\n",
       "    }\n",
       "\n",
       "    .dataframe thead th {\n",
       "        text-align: right;\n",
       "    }\n",
       "</style>\n",
       "<table border=\"1\" class=\"dataframe\">\n",
       "  <thead>\n",
       "    <tr style=\"text-align: right;\">\n",
       "      <th></th>\n",
       "      <th>user_id</th>\n",
       "      <th>session_id</th>\n",
       "      <th>session_start_time</th>\n",
       "      <th>session_expiry_time</th>\n",
       "      <th>event_time</th>\n",
       "      <th>event_time_zone</th>\n",
       "      <th>event_type</th>\n",
       "      <th>offer_decline_count</th>\n",
       "      <th>user_status</th>\n",
       "      <th>cart_quantity</th>\n",
       "      <th>cart_total</th>\n",
       "      <th>last_offer_type</th>\n",
       "      <th>last_reward_value</th>\n",
       "      <th>last_spend_value</th>\n",
       "      <th>offer_display_count</th>\n",
       "      <th>user_screen_size</th>\n",
       "      <th>offer_acceptance_state</th>\n",
       "      <th>target</th>\n",
       "    </tr>\n",
       "  </thead>\n",
       "  <tbody>\n",
       "    <tr>\n",
       "      <th>196608</th>\n",
       "      <td>b878e4ae-2573-4547-a7e8-f9be510e52db</td>\n",
       "      <td>ea766862-fca6-4538-b126-3f5a38cf2e69</td>\n",
       "      <td>2017-03-05 03:18:48.007000+00:00</td>\n",
       "      <td>2017-03-05 03:48:53.549000+00:00</td>\n",
       "      <td>2017-03-05 03:19:26.298000+00:00</td>\n",
       "      <td>300</td>\n",
       "      <td>PAGE_LOAD</td>\n",
       "      <td>0</td>\n",
       "      <td>OC</td>\n",
       "      <td>0</td>\n",
       "      <td>0.00</td>\n",
       "      <td>F</td>\n",
       "      <td>10.0</td>\n",
       "      <td>50.0</td>\n",
       "      <td>1.0</td>\n",
       "      <td>4608000.0</td>\n",
       "      <td>IGNORED</td>\n",
       "      <td>0</td>\n",
       "    </tr>\n",
       "    <tr>\n",
       "      <th>196609</th>\n",
       "      <td>61314e1b-f746-428c-8a5b-019bef15f55c</td>\n",
       "      <td>4d593299-b651-4fa5-a0bb-3afcef1d7183</td>\n",
       "      <td>2017-03-05 03:19:26.954000+00:00</td>\n",
       "      <td>2017-03-05 03:49:26.954000+00:00</td>\n",
       "      <td>2017-03-05 03:19:26.902000+00:00</td>\n",
       "      <td>300</td>\n",
       "      <td>PAGE_LOAD</td>\n",
       "      <td>0</td>\n",
       "      <td>NC</td>\n",
       "      <td>3</td>\n",
       "      <td>177.85</td>\n",
       "      <td>NaN</td>\n",
       "      <td>NaN</td>\n",
       "      <td>NaN</td>\n",
       "      <td>NaN</td>\n",
       "      <td>2962440.0</td>\n",
       "      <td>NaN</td>\n",
       "      <td>0</td>\n",
       "    </tr>\n",
       "    <tr>\n",
       "      <th>196610</th>\n",
       "      <td>48f37a36-c346-461e-ae70-434487c47f78</td>\n",
       "      <td>d46d0627-fa7d-4a77-a857-41e36870c61e</td>\n",
       "      <td>2017-03-05 03:19:27.704000+00:00</td>\n",
       "      <td>2017-03-05 03:49:27.704000+00:00</td>\n",
       "      <td>2017-03-05 03:19:27.454000+00:00</td>\n",
       "      <td>300</td>\n",
       "      <td>PAGE_LOAD</td>\n",
       "      <td>0</td>\n",
       "      <td>NC</td>\n",
       "      <td>0</td>\n",
       "      <td>0.00</td>\n",
       "      <td>NaN</td>\n",
       "      <td>NaN</td>\n",
       "      <td>NaN</td>\n",
       "      <td>NaN</td>\n",
       "      <td>2740500.0</td>\n",
       "      <td>NaN</td>\n",
       "      <td>0</td>\n",
       "    </tr>\n",
       "    <tr>\n",
       "      <th>196611</th>\n",
       "      <td>2893eff8-b235-40f9-93f1-8e8c07377696</td>\n",
       "      <td>6ca5a4af-b6e8-4ad0-93b2-c947fda51819</td>\n",
       "      <td>2017-03-05 03:17:07.569000+00:00</td>\n",
       "      <td>2017-03-05 03:49:20.735000+00:00</td>\n",
       "      <td>2017-03-05 03:19:27.939000+00:00</td>\n",
       "      <td>300</td>\n",
       "      <td>PAGE_LOAD</td>\n",
       "      <td>0</td>\n",
       "      <td>OC</td>\n",
       "      <td>0</td>\n",
       "      <td>0.00</td>\n",
       "      <td>F</td>\n",
       "      <td>10.0</td>\n",
       "      <td>50.0</td>\n",
       "      <td>1.0</td>\n",
       "      <td>2073600.0</td>\n",
       "      <td>IGNORED</td>\n",
       "      <td>0</td>\n",
       "    </tr>\n",
       "    <tr>\n",
       "      <th>196612</th>\n",
       "      <td>7f1f5958-c23f-4cee-a1b0-d240e556a7b1</td>\n",
       "      <td>c40c9a7e-de3b-447d-b591-9f13992b5559</td>\n",
       "      <td>2017-03-05 03:17:51.280000+00:00</td>\n",
       "      <td>2017-03-05 03:47:51.748000+00:00</td>\n",
       "      <td>2017-03-05 03:19:28.650000+00:00</td>\n",
       "      <td>420</td>\n",
       "      <td>PAGE_LOAD</td>\n",
       "      <td>0</td>\n",
       "      <td>OC</td>\n",
       "      <td>0</td>\n",
       "      <td>0.00</td>\n",
       "      <td>F</td>\n",
       "      <td>10.0</td>\n",
       "      <td>50.0</td>\n",
       "      <td>1.0</td>\n",
       "      <td>1483776.0</td>\n",
       "      <td>IGNORED</td>\n",
       "      <td>0</td>\n",
       "    </tr>\n",
       "  </tbody>\n",
       "</table>\n",
       "</div>"
      ],
      "text/plain": [
       "                                     user_id  \\\n",
       "196608  b878e4ae-2573-4547-a7e8-f9be510e52db   \n",
       "196609  61314e1b-f746-428c-8a5b-019bef15f55c   \n",
       "196610  48f37a36-c346-461e-ae70-434487c47f78   \n",
       "196611  2893eff8-b235-40f9-93f1-8e8c07377696   \n",
       "196612  7f1f5958-c23f-4cee-a1b0-d240e556a7b1   \n",
       "\n",
       "                                  session_id               session_start_time  \\\n",
       "196608  ea766862-fca6-4538-b126-3f5a38cf2e69 2017-03-05 03:18:48.007000+00:00   \n",
       "196609  4d593299-b651-4fa5-a0bb-3afcef1d7183 2017-03-05 03:19:26.954000+00:00   \n",
       "196610  d46d0627-fa7d-4a77-a857-41e36870c61e 2017-03-05 03:19:27.704000+00:00   \n",
       "196611  6ca5a4af-b6e8-4ad0-93b2-c947fda51819 2017-03-05 03:17:07.569000+00:00   \n",
       "196612  c40c9a7e-de3b-447d-b591-9f13992b5559 2017-03-05 03:17:51.280000+00:00   \n",
       "\n",
       "                    session_expiry_time                       event_time  \\\n",
       "196608 2017-03-05 03:48:53.549000+00:00 2017-03-05 03:19:26.298000+00:00   \n",
       "196609 2017-03-05 03:49:26.954000+00:00 2017-03-05 03:19:26.902000+00:00   \n",
       "196610 2017-03-05 03:49:27.704000+00:00 2017-03-05 03:19:27.454000+00:00   \n",
       "196611 2017-03-05 03:49:20.735000+00:00 2017-03-05 03:19:27.939000+00:00   \n",
       "196612 2017-03-05 03:47:51.748000+00:00 2017-03-05 03:19:28.650000+00:00   \n",
       "\n",
       "        event_time_zone event_type  offer_decline_count user_status  \\\n",
       "196608              300  PAGE_LOAD                    0          OC   \n",
       "196609              300  PAGE_LOAD                    0          NC   \n",
       "196610              300  PAGE_LOAD                    0          NC   \n",
       "196611              300  PAGE_LOAD                    0          OC   \n",
       "196612              420  PAGE_LOAD                    0          OC   \n",
       "\n",
       "        cart_quantity  cart_total last_offer_type  last_reward_value  \\\n",
       "196608              0        0.00               F               10.0   \n",
       "196609              3      177.85             NaN                NaN   \n",
       "196610              0        0.00             NaN                NaN   \n",
       "196611              0        0.00               F               10.0   \n",
       "196612              0        0.00               F               10.0   \n",
       "\n",
       "        last_spend_value  offer_display_count  user_screen_size  \\\n",
       "196608              50.0                  1.0         4608000.0   \n",
       "196609               NaN                  NaN         2962440.0   \n",
       "196610               NaN                  NaN         2740500.0   \n",
       "196611              50.0                  1.0         2073600.0   \n",
       "196612              50.0                  1.0         1483776.0   \n",
       "\n",
       "       offer_acceptance_state target  \n",
       "196608                IGNORED      0  \n",
       "196609                    NaN      0  \n",
       "196610                    NaN      0  \n",
       "196611                IGNORED      0  \n",
       "196612                IGNORED      0  "
      ]
     },
     "execution_count": 12,
     "metadata": {},
     "output_type": "execute_result"
    }
   ],
   "source": [
    "df[df['target']== '0'].head()"
   ]
  },
  {
   "cell_type": "code",
   "execution_count": 13,
   "id": "6af4443e",
   "metadata": {},
   "outputs": [],
   "source": [
    "# We should change the dtypes to int\n",
    "df['target'] = df['target'].astype('int64')"
   ]
  },
  {
   "cell_type": "code",
   "execution_count": 14,
   "id": "7df0b53d",
   "metadata": {
    "scrolled": true
   },
   "outputs": [
    {
     "data": {
      "text/plain": [
       "0    385335\n",
       "1     11540\n",
       "Name: target, dtype: int64"
      ]
     },
     "execution_count": 14,
     "metadata": {},
     "output_type": "execute_result"
    }
   ],
   "source": [
    "df['target'].value_counts(dropna = False)"
   ]
  },
  {
   "cell_type": "code",
   "execution_count": 15,
   "id": "d6f8e0ee",
   "metadata": {
    "scrolled": true
   },
   "outputs": [
    {
     "data": {
      "text/plain": [
       "(396875, 18)"
      ]
     },
     "execution_count": 15,
     "metadata": {},
     "output_type": "execute_result"
    }
   ],
   "source": [
    "df.shape"
   ]
  },
  {
   "cell_type": "markdown",
   "id": "7b00fadc",
   "metadata": {},
   "source": [
    "### Splitting the data into 70% for training and 30% for validation"
   ]
  },
  {
   "cell_type": "code",
   "execution_count": 16,
   "id": "06864f83",
   "metadata": {},
   "outputs": [],
   "source": [
    "train, valid = train_test_split(df, test_size = 0.3, random_state =  1, shuffle = True)"
   ]
  },
  {
   "cell_type": "code",
   "execution_count": 17,
   "id": "32b47ca3",
   "metadata": {
    "scrolled": true
   },
   "outputs": [
    {
     "data": {
      "text/plain": [
       "(277812, 18)"
      ]
     },
     "execution_count": 17,
     "metadata": {},
     "output_type": "execute_result"
    }
   ],
   "source": [
    "train.shape"
   ]
  },
  {
   "cell_type": "code",
   "execution_count": 18,
   "id": "f3084ad6",
   "metadata": {},
   "outputs": [
    {
     "data": {
      "text/plain": [
       "(119063, 18)"
      ]
     },
     "execution_count": 18,
     "metadata": {},
     "output_type": "execute_result"
    }
   ],
   "source": [
    "valid.shape"
   ]
  },
  {
   "cell_type": "markdown",
   "id": "e9d8350e",
   "metadata": {},
   "source": [
    "___\n",
    "# 1 Exploratory Data Analysis (EDA) "
   ]
  },
  {
   "cell_type": "markdown",
   "id": "4c3f8f36",
   "metadata": {},
   "source": [
    "## Preliminary Statistical Summary"
   ]
  },
  {
   "cell_type": "code",
   "execution_count": 19,
   "id": "32f84c79",
   "metadata": {
    "scrolled": false
   },
   "outputs": [
    {
     "data": {
      "text/html": [
       "<div>\n",
       "<style scoped>\n",
       "    .dataframe tbody tr th:only-of-type {\n",
       "        vertical-align: middle;\n",
       "    }\n",
       "\n",
       "    .dataframe tbody tr th {\n",
       "        vertical-align: top;\n",
       "    }\n",
       "\n",
       "    .dataframe thead th {\n",
       "        text-align: right;\n",
       "    }\n",
       "</style>\n",
       "<table border=\"1\" class=\"dataframe\">\n",
       "  <thead>\n",
       "    <tr style=\"text-align: right;\">\n",
       "      <th></th>\n",
       "      <th>count</th>\n",
       "      <th>mean</th>\n",
       "      <th>std</th>\n",
       "      <th>min</th>\n",
       "      <th>25%</th>\n",
       "      <th>50%</th>\n",
       "      <th>75%</th>\n",
       "      <th>max</th>\n",
       "    </tr>\n",
       "  </thead>\n",
       "  <tbody>\n",
       "    <tr>\n",
       "      <th>event_time_zone</th>\n",
       "      <td>277812.0</td>\n",
       "      <td>3.199818e+02</td>\n",
       "      <td>1.188930e+02</td>\n",
       "      <td>-780.0</td>\n",
       "      <td>300.0</td>\n",
       "      <td>300.0</td>\n",
       "      <td>420.00</td>\n",
       "      <td>720.0</td>\n",
       "    </tr>\n",
       "    <tr>\n",
       "      <th>offer_decline_count</th>\n",
       "      <td>277812.0</td>\n",
       "      <td>3.693145e-03</td>\n",
       "      <td>6.350021e-02</td>\n",
       "      <td>0.0</td>\n",
       "      <td>0.0</td>\n",
       "      <td>0.0</td>\n",
       "      <td>0.00</td>\n",
       "      <td>7.0</td>\n",
       "    </tr>\n",
       "    <tr>\n",
       "      <th>cart_quantity</th>\n",
       "      <td>277812.0</td>\n",
       "      <td>8.029135e-01</td>\n",
       "      <td>4.089479e+00</td>\n",
       "      <td>0.0</td>\n",
       "      <td>0.0</td>\n",
       "      <td>0.0</td>\n",
       "      <td>1.00</td>\n",
       "      <td>287.0</td>\n",
       "    </tr>\n",
       "    <tr>\n",
       "      <th>cart_total</th>\n",
       "      <td>277812.0</td>\n",
       "      <td>1.090416e+02</td>\n",
       "      <td>1.245752e+03</td>\n",
       "      <td>0.0</td>\n",
       "      <td>0.0</td>\n",
       "      <td>0.0</td>\n",
       "      <td>27.33</td>\n",
       "      <td>239335.8</td>\n",
       "    </tr>\n",
       "    <tr>\n",
       "      <th>last_reward_value</th>\n",
       "      <td>193268.0</td>\n",
       "      <td>1.520609e+01</td>\n",
       "      <td>1.808637e+01</td>\n",
       "      <td>5.0</td>\n",
       "      <td>10.0</td>\n",
       "      <td>10.0</td>\n",
       "      <td>10.00</td>\n",
       "      <td>100.0</td>\n",
       "    </tr>\n",
       "    <tr>\n",
       "      <th>last_spend_value</th>\n",
       "      <td>193268.0</td>\n",
       "      <td>1.513953e+02</td>\n",
       "      <td>2.955560e+02</td>\n",
       "      <td>50.0</td>\n",
       "      <td>50.0</td>\n",
       "      <td>50.0</td>\n",
       "      <td>100.00</td>\n",
       "      <td>2000.0</td>\n",
       "    </tr>\n",
       "    <tr>\n",
       "      <th>offer_display_count</th>\n",
       "      <td>193268.0</td>\n",
       "      <td>1.350855e+00</td>\n",
       "      <td>3.186739e+00</td>\n",
       "      <td>1.0</td>\n",
       "      <td>1.0</td>\n",
       "      <td>1.0</td>\n",
       "      <td>1.00</td>\n",
       "      <td>219.0</td>\n",
       "    </tr>\n",
       "    <tr>\n",
       "      <th>user_screen_size</th>\n",
       "      <td>277812.0</td>\n",
       "      <td>2.444879e+06</td>\n",
       "      <td>1.329537e+06</td>\n",
       "      <td>0.0</td>\n",
       "      <td>1483776.0</td>\n",
       "      <td>2529280.0</td>\n",
       "      <td>3145728.00</td>\n",
       "      <td>45158400.0</td>\n",
       "    </tr>\n",
       "    <tr>\n",
       "      <th>target</th>\n",
       "      <td>277812.0</td>\n",
       "      <td>2.910241e-02</td>\n",
       "      <td>1.680939e-01</td>\n",
       "      <td>0.0</td>\n",
       "      <td>0.0</td>\n",
       "      <td>0.0</td>\n",
       "      <td>0.00</td>\n",
       "      <td>1.0</td>\n",
       "    </tr>\n",
       "  </tbody>\n",
       "</table>\n",
       "</div>"
      ],
      "text/plain": [
       "                        count          mean           std    min        25%  \\\n",
       "event_time_zone      277812.0  3.199818e+02  1.188930e+02 -780.0      300.0   \n",
       "offer_decline_count  277812.0  3.693145e-03  6.350021e-02    0.0        0.0   \n",
       "cart_quantity        277812.0  8.029135e-01  4.089479e+00    0.0        0.0   \n",
       "cart_total           277812.0  1.090416e+02  1.245752e+03    0.0        0.0   \n",
       "last_reward_value    193268.0  1.520609e+01  1.808637e+01    5.0       10.0   \n",
       "last_spend_value     193268.0  1.513953e+02  2.955560e+02   50.0       50.0   \n",
       "offer_display_count  193268.0  1.350855e+00  3.186739e+00    1.0        1.0   \n",
       "user_screen_size     277812.0  2.444879e+06  1.329537e+06    0.0  1483776.0   \n",
       "target               277812.0  2.910241e-02  1.680939e-01    0.0        0.0   \n",
       "\n",
       "                           50%         75%         max  \n",
       "event_time_zone          300.0      420.00       720.0  \n",
       "offer_decline_count        0.0        0.00         7.0  \n",
       "cart_quantity              0.0        1.00       287.0  \n",
       "cart_total                 0.0       27.33    239335.8  \n",
       "last_reward_value         10.0       10.00       100.0  \n",
       "last_spend_value          50.0      100.00      2000.0  \n",
       "offer_display_count        1.0        1.00       219.0  \n",
       "user_screen_size     2529280.0  3145728.00  45158400.0  \n",
       "target                     0.0        0.00         1.0  "
      ]
     },
     "execution_count": 19,
     "metadata": {},
     "output_type": "execute_result"
    }
   ],
   "source": [
    "train.describe().T"
   ]
  },
  {
   "cell_type": "markdown",
   "id": "ed54f9c0",
   "metadata": {},
   "source": [
    "**Statistical Summary Insights**:\n",
    "1. The *event_time_zone* variable seems to represent the time zone of the event, with negative values indicating a time zone to the west of Greenwich and positive values indicating a time zone to the east of Greenwich. Q1, Q2 and Q3 suggest that the majority of events occurred in time zones ranging from 300 to 420.\n",
    "2. The *offer_decline_count* variable seems to represent the number of times an offer has been declined. Q1, Q2 and Q3 are all at 0, indicating that most users did not decline any offers. In addition, its standard deviation is very small indicating that it is not very significant.\n",
    "3. The *cart_quantity* represents the number of items in the shopping cart. Q1, Q2 and Q3 are all at 0, suggesting that most users did not have any items in their cart.\n",
    "4. The *car_total* represents the total amount spent in the shopping cart.  Q1, Q2 and Q3 are all at 0, indicating that most users did not make any purchases.\n",
    "5. The *last_reward_value* represents the value of the last reward received. Q1, Q2 and Q3 are all 10, indicating that most rewards were valued at 10.\n",
    "6. The *last_spend_value* represents the value of the last purchase made. Q1, Q2 are at 50, suggesting that most users spent 50.\n",
    "7. The *offer_display_count* represents the number of times an offer has been displayed. Q1, Q2 and Q3  are all at 1, indicating that most offers were displayed once.\n",
    "8. This *user_screen_size* represents the screen size of the user's device.  Its values suggest that most users had a screen size between 1.4838 million pixels and 3.1457 million pixels.\n"
   ]
  },
  {
   "cell_type": "markdown",
   "id": "7b8878bc",
   "metadata": {},
   "source": [
    "## Checking for missing values"
   ]
  },
  {
   "cell_type": "code",
   "execution_count": 20,
   "id": "ceb41901",
   "metadata": {
    "scrolled": false
   },
   "outputs": [
    {
     "name": "stdout",
     "output_type": "stream",
     "text": [
      "Number of missing values for each field:\n"
     ]
    },
    {
     "data": {
      "text/plain": [
       "user_id                       0\n",
       "session_id                    0\n",
       "session_start_time            0\n",
       "session_expiry_time           0\n",
       "event_time                    0\n",
       "event_time_zone               0\n",
       "event_type                    0\n",
       "offer_decline_count           0\n",
       "user_status                   0\n",
       "cart_quantity                 0\n",
       "cart_total                    0\n",
       "last_offer_type           84544\n",
       "last_reward_value         84544\n",
       "last_spend_value          84544\n",
       "offer_display_count       84544\n",
       "user_screen_size              0\n",
       "offer_acceptance_state    84544\n",
       "target                        0\n",
       "dtype: int64"
      ]
     },
     "execution_count": 20,
     "metadata": {},
     "output_type": "execute_result"
    }
   ],
   "source": [
    "print('Number of missing values for each field:')\n",
    "train.isnull().sum()"
   ]
  },
  {
   "cell_type": "markdown",
   "id": "e8f558f1",
   "metadata": {},
   "source": [
    "- Five fields have 84544 missing values each\n",
    "- We will deal with nulls later during the preprocessing stage"
   ]
  },
  {
   "cell_type": "markdown",
   "id": "8e4c85b8",
   "metadata": {},
   "source": [
    "## Checking for duplicates"
   ]
  },
  {
   "cell_type": "code",
   "execution_count": 21,
   "id": "1af9120e",
   "metadata": {},
   "outputs": [],
   "source": [
    "# find duplicates\n",
    "dups = train.duplicated()"
   ]
  },
  {
   "cell_type": "code",
   "execution_count": 22,
   "id": "9295a26e",
   "metadata": {},
   "outputs": [
    {
     "data": {
      "text/html": [
       "<div>\n",
       "<style scoped>\n",
       "    .dataframe tbody tr th:only-of-type {\n",
       "        vertical-align: middle;\n",
       "    }\n",
       "\n",
       "    .dataframe tbody tr th {\n",
       "        vertical-align: top;\n",
       "    }\n",
       "\n",
       "    .dataframe thead th {\n",
       "        text-align: right;\n",
       "    }\n",
       "</style>\n",
       "<table border=\"1\" class=\"dataframe\">\n",
       "  <thead>\n",
       "    <tr style=\"text-align: right;\">\n",
       "      <th></th>\n",
       "      <th>user_id</th>\n",
       "      <th>session_id</th>\n",
       "      <th>session_start_time</th>\n",
       "      <th>session_expiry_time</th>\n",
       "      <th>event_time</th>\n",
       "      <th>event_time_zone</th>\n",
       "      <th>event_type</th>\n",
       "      <th>offer_decline_count</th>\n",
       "      <th>user_status</th>\n",
       "      <th>cart_quantity</th>\n",
       "      <th>cart_total</th>\n",
       "      <th>last_offer_type</th>\n",
       "      <th>last_reward_value</th>\n",
       "      <th>last_spend_value</th>\n",
       "      <th>offer_display_count</th>\n",
       "      <th>user_screen_size</th>\n",
       "      <th>offer_acceptance_state</th>\n",
       "      <th>target</th>\n",
       "    </tr>\n",
       "  </thead>\n",
       "  <tbody>\n",
       "  </tbody>\n",
       "</table>\n",
       "</div>"
      ],
      "text/plain": [
       "Empty DataFrame\n",
       "Columns: [user_id, session_id, session_start_time, session_expiry_time, event_time, event_time_zone, event_type, offer_decline_count, user_status, cart_quantity, cart_total, last_offer_type, last_reward_value, last_spend_value, offer_display_count, user_screen_size, offer_acceptance_state, target]\n",
       "Index: []"
      ]
     },
     "execution_count": 22,
     "metadata": {},
     "output_type": "execute_result"
    }
   ],
   "source": [
    "train[dups]"
   ]
  },
  {
   "cell_type": "code",
   "execution_count": 23,
   "id": "1d1be7d6",
   "metadata": {
    "scrolled": true
   },
   "outputs": [
    {
     "name": "stdout",
     "output_type": "stream",
     "text": [
      "There are 0 duplicate rows.\n"
     ]
    }
   ],
   "source": [
    "print(f\"There are {dups.sum()} duplicate rows.\")"
   ]
  },
  {
   "cell_type": "markdown",
   "id": "a1144dcc",
   "metadata": {},
   "source": [
    "\n",
    "\n",
    "- When a user refreshes the page, they will be assigned a new session_id. \n",
    "- So, there might exist duplicates of user_id with different session_ids\n",
    "\n",
    "Let us check for duplicates with a subset 'user_id':"
   ]
  },
  {
   "cell_type": "code",
   "execution_count": 24,
   "id": "2f88047a",
   "metadata": {
    "scrolled": false
   },
   "outputs": [
    {
     "data": {
      "text/html": [
       "<div>\n",
       "<style scoped>\n",
       "    .dataframe tbody tr th:only-of-type {\n",
       "        vertical-align: middle;\n",
       "    }\n",
       "\n",
       "    .dataframe tbody tr th {\n",
       "        vertical-align: top;\n",
       "    }\n",
       "\n",
       "    .dataframe thead th {\n",
       "        text-align: right;\n",
       "    }\n",
       "</style>\n",
       "<table border=\"1\" class=\"dataframe\">\n",
       "  <thead>\n",
       "    <tr style=\"text-align: right;\">\n",
       "      <th></th>\n",
       "      <th>user_id</th>\n",
       "      <th>session_id</th>\n",
       "      <th>session_start_time</th>\n",
       "      <th>session_expiry_time</th>\n",
       "      <th>event_time</th>\n",
       "      <th>event_time_zone</th>\n",
       "      <th>event_type</th>\n",
       "      <th>offer_decline_count</th>\n",
       "      <th>user_status</th>\n",
       "      <th>cart_quantity</th>\n",
       "      <th>cart_total</th>\n",
       "      <th>last_offer_type</th>\n",
       "      <th>last_reward_value</th>\n",
       "      <th>last_spend_value</th>\n",
       "      <th>offer_display_count</th>\n",
       "      <th>user_screen_size</th>\n",
       "      <th>offer_acceptance_state</th>\n",
       "      <th>target</th>\n",
       "    </tr>\n",
       "  </thead>\n",
       "  <tbody>\n",
       "    <tr>\n",
       "      <th>135933</th>\n",
       "      <td>ea483b67-394a-4aa9-9ccc-21dfd9b3ec47</td>\n",
       "      <td>a81f445b-97da-45fb-9bb9-5b974d9f6119</td>\n",
       "      <td>2017-03-04 13:29:07.592000+00:00</td>\n",
       "      <td>2017-03-04 13:59:07.592000+00:00</td>\n",
       "      <td>2017-03-04 13:29:06.529000+00:00</td>\n",
       "      <td>300</td>\n",
       "      <td>PAGE_LOAD</td>\n",
       "      <td>0</td>\n",
       "      <td>OC</td>\n",
       "      <td>0</td>\n",
       "      <td>0.00</td>\n",
       "      <td>P</td>\n",
       "      <td>15.0</td>\n",
       "      <td>150.0</td>\n",
       "      <td>1.0</td>\n",
       "      <td>2594025.0</td>\n",
       "      <td>IGNORED</td>\n",
       "      <td>0</td>\n",
       "    </tr>\n",
       "    <tr>\n",
       "      <th>242728</th>\n",
       "      <td>56eb9273-0c79-4ad4-92a4-0dadc0b6084e</td>\n",
       "      <td>71812626-837d-4be8-8ba0-b38ce2d1d3bb</td>\n",
       "      <td>2017-03-05 17:25:11.833000+00:00</td>\n",
       "      <td>2017-03-05 17:56:08.581000+00:00</td>\n",
       "      <td>2017-03-05 17:26:20.581000+00:00</td>\n",
       "      <td>300</td>\n",
       "      <td>PAGE_LOAD</td>\n",
       "      <td>0</td>\n",
       "      <td>OC</td>\n",
       "      <td>0</td>\n",
       "      <td>0.00</td>\n",
       "      <td>P</td>\n",
       "      <td>10.0</td>\n",
       "      <td>50.0</td>\n",
       "      <td>1.0</td>\n",
       "      <td>2962440.0</td>\n",
       "      <td>IGNORED</td>\n",
       "      <td>0</td>\n",
       "    </tr>\n",
       "    <tr>\n",
       "      <th>207488</th>\n",
       "      <td>26bab061-d177-497a-a29f-c19b8df0543b</td>\n",
       "      <td>9a83c294-19b7-4ec9-a9c4-56f047423437</td>\n",
       "      <td>2017-03-05 05:43:21.741000+00:00</td>\n",
       "      <td>2017-03-05 06:14:09.933000+00:00</td>\n",
       "      <td>2017-03-05 05:44:15.415000+00:00</td>\n",
       "      <td>300</td>\n",
       "      <td>CART_CHANGE</td>\n",
       "      <td>0</td>\n",
       "      <td>OC</td>\n",
       "      <td>0</td>\n",
       "      <td>0.00</td>\n",
       "      <td>C</td>\n",
       "      <td>10.0</td>\n",
       "      <td>50.0</td>\n",
       "      <td>1.0</td>\n",
       "      <td>2742336.0</td>\n",
       "      <td>IGNORED</td>\n",
       "      <td>0</td>\n",
       "    </tr>\n",
       "    <tr>\n",
       "      <th>34974</th>\n",
       "      <td>ad6c3e4a-bd20-48c7-8ae6-80198a1e7592</td>\n",
       "      <td>ceba1c55-586a-4f92-99be-9e2e49574a2b</td>\n",
       "      <td>2017-03-03 11:03:59.607000+00:00</td>\n",
       "      <td>2017-03-03 13:07:56.386000+00:00</td>\n",
       "      <td>2017-03-03 12:39:29.471000+00:00</td>\n",
       "      <td>420</td>\n",
       "      <td>PAGE_LOAD</td>\n",
       "      <td>0</td>\n",
       "      <td>OC</td>\n",
       "      <td>19</td>\n",
       "      <td>1316.25</td>\n",
       "      <td>C</td>\n",
       "      <td>50.0</td>\n",
       "      <td>1000.0</td>\n",
       "      <td>1.0</td>\n",
       "      <td>3499200.0</td>\n",
       "      <td>IGNORED</td>\n",
       "      <td>0</td>\n",
       "    </tr>\n",
       "    <tr>\n",
       "      <th>29396</th>\n",
       "      <td>99a4b9e5-7874-455e-be4d-8b3a5f153101</td>\n",
       "      <td>4f82eb77-8359-416d-82f8-d3f9c2db0817</td>\n",
       "      <td>2017-03-03 08:44:35.699000+00:00</td>\n",
       "      <td>2017-03-03 09:14:35.699000+00:00</td>\n",
       "      <td>2017-03-03 08:44:34.975000+00:00</td>\n",
       "      <td>360</td>\n",
       "      <td>PAGE_LOAD</td>\n",
       "      <td>0</td>\n",
       "      <td>OC</td>\n",
       "      <td>3</td>\n",
       "      <td>20.99</td>\n",
       "      <td>C</td>\n",
       "      <td>10.0</td>\n",
       "      <td>50.0</td>\n",
       "      <td>1.0</td>\n",
       "      <td>1483776.0</td>\n",
       "      <td>IGNORED</td>\n",
       "      <td>0</td>\n",
       "    </tr>\n",
       "    <tr>\n",
       "      <th>...</th>\n",
       "      <td>...</td>\n",
       "      <td>...</td>\n",
       "      <td>...</td>\n",
       "      <td>...</td>\n",
       "      <td>...</td>\n",
       "      <td>...</td>\n",
       "      <td>...</td>\n",
       "      <td>...</td>\n",
       "      <td>...</td>\n",
       "      <td>...</td>\n",
       "      <td>...</td>\n",
       "      <td>...</td>\n",
       "      <td>...</td>\n",
       "      <td>...</td>\n",
       "      <td>...</td>\n",
       "      <td>...</td>\n",
       "      <td>...</td>\n",
       "      <td>...</td>\n",
       "    </tr>\n",
       "    <tr>\n",
       "      <th>246322</th>\n",
       "      <td>b1dafeb4-c559-4d40-b5c4-4c00506fa1e6</td>\n",
       "      <td>c83715c5-3bd6-4195-aaf0-e07b2d7c4575</td>\n",
       "      <td>2017-03-05 18:13:36.766000+00:00</td>\n",
       "      <td>2017-03-05 18:43:36.766000+00:00</td>\n",
       "      <td>2017-03-05 18:13:35.963000+00:00</td>\n",
       "      <td>300</td>\n",
       "      <td>PAGE_LOAD</td>\n",
       "      <td>0</td>\n",
       "      <td>OC</td>\n",
       "      <td>1</td>\n",
       "      <td>49.88</td>\n",
       "      <td>C</td>\n",
       "      <td>10.0</td>\n",
       "      <td>50.0</td>\n",
       "      <td>1.0</td>\n",
       "      <td>3145728.0</td>\n",
       "      <td>IGNORED</td>\n",
       "      <td>0</td>\n",
       "    </tr>\n",
       "    <tr>\n",
       "      <th>166802</th>\n",
       "      <td>8f7f6acc-a93a-45d0-b221-dd32b8668316</td>\n",
       "      <td>6ff6f6fa-322b-42d1-98f4-bf387b30ab7e</td>\n",
       "      <td>2017-03-04 19:31:29.255000+00:00</td>\n",
       "      <td>2017-03-04 20:17:16.645000+00:00</td>\n",
       "      <td>2017-03-04 19:47:48.148000+00:00</td>\n",
       "      <td>300</td>\n",
       "      <td>PAGE_LOAD</td>\n",
       "      <td>0</td>\n",
       "      <td>OC</td>\n",
       "      <td>0</td>\n",
       "      <td>0.00</td>\n",
       "      <td>P</td>\n",
       "      <td>10.0</td>\n",
       "      <td>50.0</td>\n",
       "      <td>1.0</td>\n",
       "      <td>2073600.0</td>\n",
       "      <td>IGNORED</td>\n",
       "      <td>0</td>\n",
       "    </tr>\n",
       "    <tr>\n",
       "      <th>167302</th>\n",
       "      <td>d8b7f06c-cc2f-45bc-a419-854bfc479237</td>\n",
       "      <td>9261ff05-f195-4a6c-9837-b46d238ae310</td>\n",
       "      <td>2017-03-04 19:42:08.306000+00:00</td>\n",
       "      <td>2017-03-04 20:24:01.498000+00:00</td>\n",
       "      <td>2017-03-04 19:55:27.060000+00:00</td>\n",
       "      <td>300</td>\n",
       "      <td>PAGE_LOAD</td>\n",
       "      <td>0</td>\n",
       "      <td>OC</td>\n",
       "      <td>0</td>\n",
       "      <td>0.00</td>\n",
       "      <td>F</td>\n",
       "      <td>5.0</td>\n",
       "      <td>50.0</td>\n",
       "      <td>1.0</td>\n",
       "      <td>3145728.0</td>\n",
       "      <td>DECLINED</td>\n",
       "      <td>0</td>\n",
       "    </tr>\n",
       "    <tr>\n",
       "      <th>229520</th>\n",
       "      <td>26e21411-c21f-401e-b747-83d55cfc6cf0</td>\n",
       "      <td>b3246206-8593-4f51-888a-b88c62c22098</td>\n",
       "      <td>2017-03-05 14:49:43.517000+00:00</td>\n",
       "      <td>2017-03-05 15:19:43.918000+00:00</td>\n",
       "      <td>2017-03-05 14:50:32.508000+00:00</td>\n",
       "      <td>300</td>\n",
       "      <td>PAGE_LOAD</td>\n",
       "      <td>0</td>\n",
       "      <td>OC</td>\n",
       "      <td>0</td>\n",
       "      <td>0.00</td>\n",
       "      <td>F</td>\n",
       "      <td>10.0</td>\n",
       "      <td>50.0</td>\n",
       "      <td>1.0</td>\n",
       "      <td>1483776.0</td>\n",
       "      <td>IGNORED</td>\n",
       "      <td>0</td>\n",
       "    </tr>\n",
       "    <tr>\n",
       "      <th>371403</th>\n",
       "      <td>09aceb84-330b-47f0-9b18-684b99e3e7ea</td>\n",
       "      <td>76f28395-4380-46d2-b26d-695adf79082d</td>\n",
       "      <td>2017-03-06 22:42:21.132000+00:00</td>\n",
       "      <td>2017-03-06 23:14:03.239000+00:00</td>\n",
       "      <td>2017-03-06 23:02:54.370000+00:00</td>\n",
       "      <td>300</td>\n",
       "      <td>PAGE_LOAD</td>\n",
       "      <td>0</td>\n",
       "      <td>OC</td>\n",
       "      <td>0</td>\n",
       "      <td>0.00</td>\n",
       "      <td>P</td>\n",
       "      <td>10.0</td>\n",
       "      <td>125.0</td>\n",
       "      <td>1.0</td>\n",
       "      <td>1764000.0</td>\n",
       "      <td>IGNORED</td>\n",
       "      <td>0</td>\n",
       "    </tr>\n",
       "  </tbody>\n",
       "</table>\n",
       "<p>86118 rows × 18 columns</p>\n",
       "</div>"
      ],
      "text/plain": [
       "                                     user_id  \\\n",
       "135933  ea483b67-394a-4aa9-9ccc-21dfd9b3ec47   \n",
       "242728  56eb9273-0c79-4ad4-92a4-0dadc0b6084e   \n",
       "207488  26bab061-d177-497a-a29f-c19b8df0543b   \n",
       "34974   ad6c3e4a-bd20-48c7-8ae6-80198a1e7592   \n",
       "29396   99a4b9e5-7874-455e-be4d-8b3a5f153101   \n",
       "...                                      ...   \n",
       "246322  b1dafeb4-c559-4d40-b5c4-4c00506fa1e6   \n",
       "166802  8f7f6acc-a93a-45d0-b221-dd32b8668316   \n",
       "167302  d8b7f06c-cc2f-45bc-a419-854bfc479237   \n",
       "229520  26e21411-c21f-401e-b747-83d55cfc6cf0   \n",
       "371403  09aceb84-330b-47f0-9b18-684b99e3e7ea   \n",
       "\n",
       "                                  session_id               session_start_time  \\\n",
       "135933  a81f445b-97da-45fb-9bb9-5b974d9f6119 2017-03-04 13:29:07.592000+00:00   \n",
       "242728  71812626-837d-4be8-8ba0-b38ce2d1d3bb 2017-03-05 17:25:11.833000+00:00   \n",
       "207488  9a83c294-19b7-4ec9-a9c4-56f047423437 2017-03-05 05:43:21.741000+00:00   \n",
       "34974   ceba1c55-586a-4f92-99be-9e2e49574a2b 2017-03-03 11:03:59.607000+00:00   \n",
       "29396   4f82eb77-8359-416d-82f8-d3f9c2db0817 2017-03-03 08:44:35.699000+00:00   \n",
       "...                                      ...                              ...   \n",
       "246322  c83715c5-3bd6-4195-aaf0-e07b2d7c4575 2017-03-05 18:13:36.766000+00:00   \n",
       "166802  6ff6f6fa-322b-42d1-98f4-bf387b30ab7e 2017-03-04 19:31:29.255000+00:00   \n",
       "167302  9261ff05-f195-4a6c-9837-b46d238ae310 2017-03-04 19:42:08.306000+00:00   \n",
       "229520  b3246206-8593-4f51-888a-b88c62c22098 2017-03-05 14:49:43.517000+00:00   \n",
       "371403  76f28395-4380-46d2-b26d-695adf79082d 2017-03-06 22:42:21.132000+00:00   \n",
       "\n",
       "                    session_expiry_time                       event_time  \\\n",
       "135933 2017-03-04 13:59:07.592000+00:00 2017-03-04 13:29:06.529000+00:00   \n",
       "242728 2017-03-05 17:56:08.581000+00:00 2017-03-05 17:26:20.581000+00:00   \n",
       "207488 2017-03-05 06:14:09.933000+00:00 2017-03-05 05:44:15.415000+00:00   \n",
       "34974  2017-03-03 13:07:56.386000+00:00 2017-03-03 12:39:29.471000+00:00   \n",
       "29396  2017-03-03 09:14:35.699000+00:00 2017-03-03 08:44:34.975000+00:00   \n",
       "...                                 ...                              ...   \n",
       "246322 2017-03-05 18:43:36.766000+00:00 2017-03-05 18:13:35.963000+00:00   \n",
       "166802 2017-03-04 20:17:16.645000+00:00 2017-03-04 19:47:48.148000+00:00   \n",
       "167302 2017-03-04 20:24:01.498000+00:00 2017-03-04 19:55:27.060000+00:00   \n",
       "229520 2017-03-05 15:19:43.918000+00:00 2017-03-05 14:50:32.508000+00:00   \n",
       "371403 2017-03-06 23:14:03.239000+00:00 2017-03-06 23:02:54.370000+00:00   \n",
       "\n",
       "        event_time_zone   event_type  offer_decline_count user_status  \\\n",
       "135933              300    PAGE_LOAD                    0          OC   \n",
       "242728              300    PAGE_LOAD                    0          OC   \n",
       "207488              300  CART_CHANGE                    0          OC   \n",
       "34974               420    PAGE_LOAD                    0          OC   \n",
       "29396               360    PAGE_LOAD                    0          OC   \n",
       "...                 ...          ...                  ...         ...   \n",
       "246322              300    PAGE_LOAD                    0          OC   \n",
       "166802              300    PAGE_LOAD                    0          OC   \n",
       "167302              300    PAGE_LOAD                    0          OC   \n",
       "229520              300    PAGE_LOAD                    0          OC   \n",
       "371403              300    PAGE_LOAD                    0          OC   \n",
       "\n",
       "        cart_quantity  cart_total last_offer_type  last_reward_value  \\\n",
       "135933              0        0.00               P               15.0   \n",
       "242728              0        0.00               P               10.0   \n",
       "207488              0        0.00               C               10.0   \n",
       "34974              19     1316.25               C               50.0   \n",
       "29396               3       20.99               C               10.0   \n",
       "...               ...         ...             ...                ...   \n",
       "246322              1       49.88               C               10.0   \n",
       "166802              0        0.00               P               10.0   \n",
       "167302              0        0.00               F                5.0   \n",
       "229520              0        0.00               F               10.0   \n",
       "371403              0        0.00               P               10.0   \n",
       "\n",
       "        last_spend_value  offer_display_count  user_screen_size  \\\n",
       "135933             150.0                  1.0         2594025.0   \n",
       "242728              50.0                  1.0         2962440.0   \n",
       "207488              50.0                  1.0         2742336.0   \n",
       "34974             1000.0                  1.0         3499200.0   \n",
       "29396               50.0                  1.0         1483776.0   \n",
       "...                  ...                  ...               ...   \n",
       "246322              50.0                  1.0         3145728.0   \n",
       "166802              50.0                  1.0         2073600.0   \n",
       "167302              50.0                  1.0         3145728.0   \n",
       "229520              50.0                  1.0         1483776.0   \n",
       "371403             125.0                  1.0         1764000.0   \n",
       "\n",
       "       offer_acceptance_state  target  \n",
       "135933                IGNORED       0  \n",
       "242728                IGNORED       0  \n",
       "207488                IGNORED       0  \n",
       "34974                 IGNORED       0  \n",
       "29396                 IGNORED       0  \n",
       "...                       ...     ...  \n",
       "246322                IGNORED       0  \n",
       "166802                IGNORED       0  \n",
       "167302               DECLINED       0  \n",
       "229520                IGNORED       0  \n",
       "371403                IGNORED       0  \n",
       "\n",
       "[86118 rows x 18 columns]"
      ]
     },
     "execution_count": 24,
     "metadata": {},
     "output_type": "execute_result"
    }
   ],
   "source": [
    "dups_user = train.duplicated(subset = 'user_id', keep='first')\n",
    "train[dups_user]"
   ]
  },
  {
   "cell_type": "code",
   "execution_count": 25,
   "id": "b8c40259",
   "metadata": {},
   "outputs": [
    {
     "data": {
      "text/plain": [
       "191694"
      ]
     },
     "execution_count": 25,
     "metadata": {},
     "output_type": "execute_result"
    }
   ],
   "source": [
    "train['user_id'].nunique()"
   ]
  },
  {
   "cell_type": "code",
   "execution_count": 26,
   "id": "34049dc3",
   "metadata": {
    "scrolled": true
   },
   "outputs": [
    {
     "name": "stdout",
     "output_type": "stream",
     "text": [
      "Number of duplicated users:86118\n"
     ]
    }
   ],
   "source": [
    "dups_user_count = train['user_id'].duplicated().sum()\n",
    "print(f'Number of duplicated users:{dups_user_count}')"
   ]
  },
  {
   "cell_type": "code",
   "execution_count": 27,
   "id": "7736b656",
   "metadata": {
    "scrolled": true
   },
   "outputs": [
    {
     "data": {
      "text/html": [
       "<div>\n",
       "<style scoped>\n",
       "    .dataframe tbody tr th:only-of-type {\n",
       "        vertical-align: middle;\n",
       "    }\n",
       "\n",
       "    .dataframe tbody tr th {\n",
       "        vertical-align: top;\n",
       "    }\n",
       "\n",
       "    .dataframe thead th {\n",
       "        text-align: right;\n",
       "    }\n",
       "</style>\n",
       "<table border=\"1\" class=\"dataframe\">\n",
       "  <thead>\n",
       "    <tr style=\"text-align: right;\">\n",
       "      <th></th>\n",
       "      <th>user_id</th>\n",
       "      <th>session_id</th>\n",
       "      <th>session_start_time</th>\n",
       "      <th>session_expiry_time</th>\n",
       "      <th>event_time</th>\n",
       "      <th>event_time_zone</th>\n",
       "      <th>event_type</th>\n",
       "      <th>offer_decline_count</th>\n",
       "      <th>user_status</th>\n",
       "      <th>cart_quantity</th>\n",
       "      <th>cart_total</th>\n",
       "      <th>last_offer_type</th>\n",
       "      <th>last_reward_value</th>\n",
       "      <th>last_spend_value</th>\n",
       "      <th>offer_display_count</th>\n",
       "      <th>user_screen_size</th>\n",
       "      <th>offer_acceptance_state</th>\n",
       "      <th>target</th>\n",
       "    </tr>\n",
       "  </thead>\n",
       "  <tbody>\n",
       "    <tr>\n",
       "      <th>5</th>\n",
       "      <td>e9333d81-5b6c-43b5-9eeb-4de56c874fd3</td>\n",
       "      <td>128bfbf6-e949-42d5-8e23-48d1d9f83bf2</td>\n",
       "      <td>2017-03-05 10:39:37.622000+00:00</td>\n",
       "      <td>2017-03-05 11:09:37.622000+00:00</td>\n",
       "      <td>2017-02-03 10:04:33.227000+00:00</td>\n",
       "      <td>480</td>\n",
       "      <td>PAGE_LOAD</td>\n",
       "      <td>0</td>\n",
       "      <td>NC</td>\n",
       "      <td>0</td>\n",
       "      <td>0.0</td>\n",
       "      <td>P</td>\n",
       "      <td>10.0</td>\n",
       "      <td>50.0</td>\n",
       "      <td>1.0</td>\n",
       "      <td>1048576.0</td>\n",
       "      <td>IGNORED</td>\n",
       "      <td>0</td>\n",
       "    </tr>\n",
       "    <tr>\n",
       "      <th>6</th>\n",
       "      <td>e9333d81-5b6c-43b5-9eeb-4de56c874fd3</td>\n",
       "      <td>264860a8-8488-4ead-8cee-9b646a7341bd</td>\n",
       "      <td>2017-03-06 20:47:33.650000+00:00</td>\n",
       "      <td>2017-03-06 21:17:33.650000+00:00</td>\n",
       "      <td>2017-02-06 16:40:33.221000+00:00</td>\n",
       "      <td>480</td>\n",
       "      <td>PAGE_LOAD</td>\n",
       "      <td>0</td>\n",
       "      <td>NC</td>\n",
       "      <td>0</td>\n",
       "      <td>0.0</td>\n",
       "      <td>P</td>\n",
       "      <td>10.0</td>\n",
       "      <td>125.0</td>\n",
       "      <td>1.0</td>\n",
       "      <td>1048576.0</td>\n",
       "      <td>IGNORED</td>\n",
       "      <td>0</td>\n",
       "    </tr>\n",
       "    <tr>\n",
       "      <th>98213</th>\n",
       "      <td>e9333d81-5b6c-43b5-9eeb-4de56c874fd3</td>\n",
       "      <td>3f375dc7-0a2f-4dda-b016-5deba4ca7234</td>\n",
       "      <td>2017-03-04 05:36:31.704000+00:00</td>\n",
       "      <td>2017-03-04 06:06:31.704000+00:00</td>\n",
       "      <td>2017-03-04 00:00:00.318000+00:00</td>\n",
       "      <td>480</td>\n",
       "      <td>PAGE_LOAD</td>\n",
       "      <td>0</td>\n",
       "      <td>NC</td>\n",
       "      <td>0</td>\n",
       "      <td>0.0</td>\n",
       "      <td>P</td>\n",
       "      <td>5.0</td>\n",
       "      <td>50.0</td>\n",
       "      <td>1.0</td>\n",
       "      <td>1048576.0</td>\n",
       "      <td>IGNORED</td>\n",
       "      <td>0</td>\n",
       "    </tr>\n",
       "  </tbody>\n",
       "</table>\n",
       "</div>"
      ],
      "text/plain": [
       "                                    user_id  \\\n",
       "5      e9333d81-5b6c-43b5-9eeb-4de56c874fd3   \n",
       "6      e9333d81-5b6c-43b5-9eeb-4de56c874fd3   \n",
       "98213  e9333d81-5b6c-43b5-9eeb-4de56c874fd3   \n",
       "\n",
       "                                 session_id               session_start_time  \\\n",
       "5      128bfbf6-e949-42d5-8e23-48d1d9f83bf2 2017-03-05 10:39:37.622000+00:00   \n",
       "6      264860a8-8488-4ead-8cee-9b646a7341bd 2017-03-06 20:47:33.650000+00:00   \n",
       "98213  3f375dc7-0a2f-4dda-b016-5deba4ca7234 2017-03-04 05:36:31.704000+00:00   \n",
       "\n",
       "                   session_expiry_time                       event_time  \\\n",
       "5     2017-03-05 11:09:37.622000+00:00 2017-02-03 10:04:33.227000+00:00   \n",
       "6     2017-03-06 21:17:33.650000+00:00 2017-02-06 16:40:33.221000+00:00   \n",
       "98213 2017-03-04 06:06:31.704000+00:00 2017-03-04 00:00:00.318000+00:00   \n",
       "\n",
       "       event_time_zone event_type  offer_decline_count user_status  \\\n",
       "5                  480  PAGE_LOAD                    0          NC   \n",
       "6                  480  PAGE_LOAD                    0          NC   \n",
       "98213              480  PAGE_LOAD                    0          NC   \n",
       "\n",
       "       cart_quantity  cart_total last_offer_type  last_reward_value  \\\n",
       "5                  0         0.0               P               10.0   \n",
       "6                  0         0.0               P               10.0   \n",
       "98213              0         0.0               P                5.0   \n",
       "\n",
       "       last_spend_value  offer_display_count  user_screen_size  \\\n",
       "5                  50.0                  1.0         1048576.0   \n",
       "6                 125.0                  1.0         1048576.0   \n",
       "98213              50.0                  1.0         1048576.0   \n",
       "\n",
       "      offer_acceptance_state  target  \n",
       "5                    IGNORED       0  \n",
       "6                    IGNORED       0  \n",
       "98213                IGNORED       0  "
      ]
     },
     "execution_count": 27,
     "metadata": {},
     "output_type": "execute_result"
    }
   ],
   "source": [
    "# Example: user e9333d81-5b6c-43b5-9eeb-4de56c874fd3 is duplicated 3 times in our dataset\n",
    "df[df['user_id']=='e9333d81-5b6c-43b5-9eeb-4de56c874fd3']"
   ]
  },
  {
   "cell_type": "markdown",
   "id": "16f037a6",
   "metadata": {},
   "source": [
    "- We will remove the duplicates later during the preprocessing stage. \n",
    "- This is because the goal is to develop a machine learning system that can accurately predict whether a user will buy a product"
   ]
  },
  {
   "cell_type": "markdown",
   "id": "beb41b7d",
   "metadata": {},
   "source": [
    "## Plotting the target variable"
   ]
  },
  {
   "cell_type": "code",
   "execution_count": 28,
   "id": "bf8d461d",
   "metadata": {
    "scrolled": true
   },
   "outputs": [
    {
     "data": {
      "image/png": "[encoded data removed]",
      "text/plain": [
       "<Figure size 432x288 with 1 Axes>"
      ]
     },
     "metadata": {
      "needs_background": "light"
     },
     "output_type": "display_data"
    }
   ],
   "source": [
    "plt.hist(train['target'])\n",
    "plt.xlabel('Purchased')\n",
    "plt.ylabel('Frequency')\n",
    "plt.title('Histogram of Purchased')\n",
    "plt.show()"
   ]
  },
  {
   "cell_type": "code",
   "execution_count": 29,
   "id": "5af132e1",
   "metadata": {
    "scrolled": true
   },
   "outputs": [
    {
     "data": {
      "image/png": "[encoded data removed]",
      "text/plain": [
       "<Figure size 432x288 with 1 Axes>"
      ]
     },
     "metadata": {},
     "output_type": "display_data"
    }
   ],
   "source": [
    "plt.pie(train['target'].value_counts(), labels= [\"purchased\", \"didn't purchase\"], colors = sns.color_palette('pastel')[0:2],  autopct='%.0f%%')\n",
    "plt.show()"
   ]
  },
  {
   "cell_type": "markdown",
   "id": "1d5228c5",
   "metadata": {},
   "source": [
    "- Our target variable is imbalanced with only 3% of the sessions resulting in a purchase."
   ]
  },
  {
   "cell_type": "markdown",
   "id": "5ed76a9c",
   "metadata": {},
   "source": [
    "## Checking for outliers"
   ]
  },
  {
   "cell_type": "code",
   "execution_count": 30,
   "id": "3557dee7",
   "metadata": {},
   "outputs": [],
   "source": [
    "# I excluded irrelevant features such as the user_id, session_id, session_start_time, session_expiry_time, and event_time \n",
    "# They give little to no information about outliers since they mostly include unique values \n",
    "numerical = ['offer_decline_count', 'cart_quantity', 'cart_total', 'last_reward_value', 'last_spend_value', 'offer_display_count', 'user_screen_size', 'event_time_zone']\n",
    "categorical = ['event_type', 'user_status', 'last_offer_type', 'offer_acceptance_state', 'target']"
   ]
  },
  {
   "cell_type": "markdown",
   "id": "61184a49",
   "metadata": {},
   "source": [
    "#### 1 Using Z-score (Which assumes that the data is normally distributed)"
   ]
  },
  {
   "cell_type": "code",
   "execution_count": 31,
   "id": "7070bedd",
   "metadata": {
    "scrolled": true
   },
   "outputs": [
    {
     "name": "stdout",
     "output_type": "stream",
     "text": [
      "Identified outliers in offer_decline_count: 999\n",
      "Identified outliers in cart_quantity: 1255\n",
      "Identified outliers in cart_total: 932\n",
      "Identified outliers in last_reward_value: 8190\n",
      "Identified outliers in last_spend_value: 3887\n",
      "Identified outliers in offer_display_count: 2111\n",
      "Identified outliers in user_screen_size: 2402\n",
      "Identified outliers in event_time_zone: 1785\n"
     ]
    }
   ],
   "source": [
    "for col in numerical:\n",
    "    # calculate summary statistics\n",
    "    col_mean, col_std = np.mean(train[col]), np.std(train[col])\n",
    "    # define outliers\n",
    "    cut_off = col_std * 3\n",
    "    lower, upper = col_mean - cut_off, col_mean + cut_off\n",
    "    # identify outliers\n",
    "    outliers = [i for i in train[col] if (i<lower) or (i>upper)]\n",
    "    print(f'Identified outliers in {col}: {len(outliers)}')"
   ]
  },
  {
   "cell_type": "markdown",
   "id": "76ee1cb9",
   "metadata": {},
   "source": [
    "- Assuming that the numerical values are normally distributed will result in the assumption that there exists many outliers\n",
    "- However, those outliers are genuine extreme values in the data which is making the data skewed.\n",
    "\n",
    "- Most numerical variables have very low values (mostly zero) which will eventually assume that big numbers are outliers using z-score\n",
    "- That is a faulty assumption because only a small portion of users are purchasing and adding items to their carts \n",
    "- So we cannot assume that the numerical data is normally distributed\n",
    "\n",
    "Let us look for outliers using the IQR:"
   ]
  },
  {
   "cell_type": "markdown",
   "id": "477b8446",
   "metadata": {},
   "source": [
    "#### 2 Using IQR "
   ]
  },
  {
   "cell_type": "code",
   "execution_count": 32,
   "id": "0ace6a7c",
   "metadata": {
    "scrolled": false
   },
   "outputs": [
    {
     "name": "stdout",
     "output_type": "stream",
     "text": [
      "Identified outliers in offer_decline_count: 999\n",
      "Identified outliers in cart_quantity: 23599\n",
      "Identified outliers in cart_total: 54501\n",
      "Identified outliers in last_reward_value: 49835\n",
      "Identified outliers in last_spend_value: 29759\n",
      "Identified outliers in offer_display_count: 7677\n",
      "Identified outliers in user_screen_size: 3007\n",
      "Identified outliers in event_time_zone: 17014\n"
     ]
    }
   ],
   "source": [
    "for col in numerical:\n",
    "    # Calculate the IQR for each numerical variable\n",
    "    Q1 = train[col].quantile(0.25)\n",
    "    Q3 = train[col].quantile(0.75)\n",
    "    IQR = Q3 - Q1\n",
    "    # calculate the outlier cutoff\n",
    "    cut_off = IQR * 1.5\n",
    "    lower, upper = Q1 - cut_off, Q3 + cut_off\n",
    "    # identify outliers\n",
    "    outliers =  [i for i in train[col] if (i<lower) or (i>upper)]\n",
    "    print(f'Identified outliers in {col}: {len(outliers)}')"
   ]
  },
  {
   "cell_type": "code",
   "execution_count": 33,
   "id": "39e84670",
   "metadata": {
    "scrolled": false
   },
   "outputs": [
    {
     "data": {
      "image/png": "[encoded data removed]",
      "text/plain": [
       "<Figure size 720x432 with 8 Axes>"
      ]
     },
     "metadata": {
      "needs_background": "light"
     },
     "output_type": "display_data"
    }
   ],
   "source": [
    "# Visualizing the IQR using a box plot for each numerical variable\n",
    "fig, axes = plt.subplots(nrows=2, ncols=4, figsize=(10, 6))\n",
    "ax = axes.ravel()\n",
    "for i, col in enumerate(numerical):\n",
    "    sns.boxplot(x=train[col], ax=ax[i], color='skyblue')\n",
    "    ax[i].set_title(col)\n",
    "\n",
    "plt.tight_layout()\n",
    "plt.show()"
   ]
  },
  {
   "cell_type": "markdown",
   "id": "cc8be090",
   "metadata": {},
   "source": [
    "- Also using the IQR, there are a significant number of outliers in each numerical variable.\n",
    "- This may be because the data is skewed\n",
    "- We need to transform the data (normalizing or standardizing) to find the real outliers and remove them\n",
    "\n",
    "Let us visualize the distribution of each numerical variable:"
   ]
  },
  {
   "cell_type": "markdown",
   "id": "a143fff3",
   "metadata": {},
   "source": [
    "## Checking the distribution of numerical data"
   ]
  },
  {
   "cell_type": "code",
   "execution_count": 34,
   "id": "02154c52",
   "metadata": {},
   "outputs": [
    {
     "data": {
      "image/png": "[encoded data removed]",
      "text/plain": [
       "<Figure size 1440x1080 with 9 Axes>"
      ]
     },
     "metadata": {
      "needs_background": "light"
     },
     "output_type": "display_data"
    }
   ],
   "source": [
    "train[numerical].hist(bins=50, figsize=(20,15))\n",
    "plt.show()"
   ]
  },
  {
   "cell_type": "markdown",
   "id": "b4e14bf8",
   "metadata": {},
   "source": [
    "- None of the variables is normally distributed. \n",
    "- We will need to transform (standardize of normalize) the data during the Preprocessing phase."
   ]
  },
  {
   "cell_type": "markdown",
   "id": "f02de911",
   "metadata": {},
   "source": [
    "## Analyzing Relationships"
   ]
  },
  {
   "cell_type": "markdown",
   "id": "4483d7e4",
   "metadata": {},
   "source": [
    "#### Numerical Variables:"
   ]
  },
  {
   "cell_type": "code",
   "execution_count": 35,
   "id": "a3dd7e24",
   "metadata": {},
   "outputs": [
    {
     "data": {
      "image/png": "[encoded data removed]",
      "text/plain": [
       "<Figure size 1440x720 with 8 Axes>"
      ]
     },
     "metadata": {
      "needs_background": "light"
     },
     "output_type": "display_data"
    }
   ],
   "source": [
    "# Boxplots\n",
    "fig, axes = plt.subplots(nrows=2, ncols=4, figsize=(20,10))\n",
    "\n",
    "for i, var in enumerate(numerical):\n",
    "    row = i // 4\n",
    "    col = i % 4\n",
    "    sns.boxplot(x='target', y=var, data=train, ax=axes[row,col])\n",
    "    axes[row,col].set_title(f'{var} vs target')\n",
    "    axes[row,col].set_xlabel('target')\n",
    "    axes[row,col].set_ylabel(var)\n",
    "\n",
    "plt.tight_layout()\n",
    "plt.show()"
   ]
  },
  {
   "cell_type": "code",
   "execution_count": 36,
   "id": "d9dd0e92",
   "metadata": {},
   "outputs": [
    {
     "data": {
      "image/png": "[encoded data removed]",
      "text/plain": [
       "<Figure size 600x400 with 2 Axes>"
      ]
     },
     "metadata": {
      "needs_background": "light"
     },
     "output_type": "display_data"
    }
   ],
   "source": [
    "# Correlation Matrix\n",
    "corr = train.corr()\n",
    "mask = np.triu(np.ones_like(corr,dtype = bool))\n",
    "plt.figure(dpi=100)\n",
    "ax = plt.axes()\n",
    "sns.heatmap(corr,annot=False, mask=mask,lw=0,linecolor='white',fmt = \"0.2f\", cmap=\"RdBu_r\")\n",
    "plt.title('Correlation Analysis')\n",
    "plt.axis('tight')\n",
    "plt.show()"
   ]
  },
  {
   "cell_type": "markdown",
   "id": "7d1f75c8",
   "metadata": {},
   "source": [
    "- We can notice that there exists a high correlation between last_reward_value and last_spend_value. \n",
    "- We will remove one of the two redundant features in the baseline"
   ]
  },
  {
   "cell_type": "code",
   "execution_count": 37,
   "id": "87e15e80",
   "metadata": {
    "scrolled": false
   },
   "outputs": [
    {
     "data": {
      "text/plain": [
       "target                 1.000000\n",
       "offer_display_count    0.125421\n",
       "cart_quantity          0.055487\n",
       "event_time_zone        0.022969\n",
       "user_screen_size       0.015507\n",
       "offer_decline_count    0.012525\n",
       "cart_total             0.012427\n",
       "last_spend_value       0.012037\n",
       "last_reward_value      0.002227\n",
       "Name: target, dtype: float64"
      ]
     },
     "execution_count": 37,
     "metadata": {},
     "output_type": "execute_result"
    }
   ],
   "source": [
    "corr[\"target\"].sort_values(ascending=False)"
   ]
  },
  {
   "cell_type": "code",
   "execution_count": 38,
   "id": "556063c0",
   "metadata": {},
   "outputs": [
    {
     "name": "stdout",
     "output_type": "stream",
     "text": [
      "Correlation between offer_decline_count and target: 0.013, p-value: 0.000\n",
      "Correlation between cart_quantity and target: 0.055, p-value: 0.000\n",
      "Correlation between cart_total and target: 0.012, p-value: 0.000\n",
      "Correlation between last_reward_value and target: 0.002, p-value: 0.327\n",
      "Correlation between last_spend_value and target: 0.012, p-value: 0.000\n",
      "Correlation between offer_display_count and target: 0.125, p-value: 0.000\n",
      "Correlation between user_screen_size and target: 0.016, p-value: 0.000\n",
      "Correlation between event_time_zone and target: 0.023, p-value: 0.000\n"
     ]
    }
   ],
   "source": [
    "# Loop through all numerical columns except the target column\n",
    "for col in train[numerical]:\n",
    "    # Drop null values from the column and the target variable\n",
    "    data = train[[col, 'target']].dropna()\n",
    "    # Calculate the correlation and p-value\n",
    "    corr, p_value = pearsonr(data[col], data['target'])\n",
    "    # Print the results\n",
    "    print(f\"Correlation between {col} and target: {corr:.3f}, p-value: {p_value:.3f}\")"
   ]
  },
  {
   "cell_type": "markdown",
   "id": "8cdd553a",
   "metadata": {},
   "source": [
    "- The numerical variables that are most correlated with out target are offer_display_count, cart_quantity, event_time_zone, user_screen_size, offer_decline_count, last_spend_value and cart_total"
   ]
  },
  {
   "cell_type": "markdown",
   "id": "efd00e9f",
   "metadata": {},
   "source": [
    "#### Categorical variables"
   ]
  },
  {
   "cell_type": "code",
   "execution_count": 39,
   "id": "05b1de24",
   "metadata": {
    "scrolled": false
   },
   "outputs": [
    {
     "data": {
      "image/png": "[encoded data removed]",
      "text/plain": [
       "<Figure size 1080x576 with 5 Axes>"
      ]
     },
     "metadata": {
      "needs_background": "light"
     },
     "output_type": "display_data"
    }
   ],
   "source": [
    "fig, axes = plt.subplots(nrows=2, ncols=3, figsize=(15, 8))\n",
    "\n",
    "for i, var in enumerate(categorical):\n",
    "    r = i // 3  # row index\n",
    "    c = i % 3   # column index\n",
    "    data = train.groupby([var, 'target']).size().unstack()\n",
    "    data.plot(kind='bar', stacked=False, position=0.5,width=0.4, ax=axes[r,c])\n",
    "    axes[r,c].set_title(f'{var} vs target')\n",
    "    axes[r,c].set_xlabel(var)\n",
    "    axes[r,c].set_ylabel('count')\n",
    "if len(categorical) % 3 != 0:\n",
    "    fig.delaxes(axes[1, 2])\n",
    "\n",
    "plt.tight_layout()\n",
    "plt.show()"
   ]
  },
  {
   "cell_type": "code",
   "execution_count": 40,
   "id": "fdd3e9eb",
   "metadata": {
    "scrolled": false
   },
   "outputs": [
    {
     "name": "stdout",
     "output_type": "stream",
     "text": [
      "Chi-square test results for event_type:\n",
      "  Chi-square statistic: 157.649\n",
      "  p-value: 0.000\n",
      "  Degrees of freedom: 1\n",
      "  Contingency table:\n",
      "target            0     1\n",
      "event_type               \n",
      "CART_CHANGE    5838    10\n",
      "PAGE_LOAD    263889  8075\n",
      "______________________________\n",
      "Chi-square test results for user_status:\n",
      "  Chi-square statistic: 2177.884\n",
      "  p-value: 0.000\n",
      "  Degrees of freedom: 1\n",
      "  Contingency table:\n",
      "target            0     1\n",
      "user_status              \n",
      "NC           116473  1386\n",
      "OC           153254  6699\n",
      "______________________________\n",
      "Chi-square test results for last_offer_type:\n",
      "  Chi-square statistic: 11398.157\n",
      "  p-value: 0.000\n",
      "  Degrees of freedom: 3\n",
      "  Contingency table:\n",
      "target               0     1\n",
      "last_offer_type             \n",
      "C                47433  5138\n",
      "F                88322  1462\n",
      "P                48544   617\n",
      "S                 1118   634\n",
      "______________________________\n",
      "Chi-square test results for offer_acceptance_state:\n",
      "  Chi-square statistic: 7761.863\n",
      "  p-value: 0.000\n",
      "  Degrees of freedom: 2\n",
      "  Contingency table:\n",
      "target                       0     1\n",
      "offer_acceptance_state              \n",
      "ACCEPTED                  4737  1604\n",
      "DECLINED                  8486    48\n",
      "IGNORED                 172194  6199\n",
      "______________________________\n",
      "Chi-square test results for target:\n",
      "  Chi-square statistic: 277776.610\n",
      "  p-value: 0.000\n",
      "  Degrees of freedom: 1\n",
      "  Contingency table:\n",
      "target       0     1\n",
      "target              \n",
      "0       269727     0\n",
      "1            0  8085\n",
      "______________________________\n"
     ]
    }
   ],
   "source": [
    "for feature in categorical:\n",
    "    contingency_table = pd.crosstab(train[feature], train['target'])\n",
    "    chi2, p_val, dof, expected = chi2_contingency(contingency_table)\n",
    "    print(f\"Chi-square test results for {feature}:\")\n",
    "    print(f\"  Chi-square statistic: {chi2:.3f}\")\n",
    "    print(f\"  p-value: {p_val:.3f}\")\n",
    "    print(f\"  Degrees of freedom: {dof}\")\n",
    "    print(\"  Contingency table:\")\n",
    "    print(contingency_table)\n",
    "    print('______________________________')"
   ]
  },
  {
   "cell_type": "markdown",
   "id": "fd3166e7",
   "metadata": {},
   "source": [
    "- All categorical variables seem to be correlated with out target variable (event_type, user_status, last_offer_type, and offer_acceptance_state) since Chi-square pvalue < 0.05"
   ]
  },
  {
   "cell_type": "markdown",
   "id": "3bf88707",
   "metadata": {},
   "source": [
    "### Summary of the most relevant findings and insights:\n",
    "1.\tThe statistical summary suggests that most users only browse or view items without making a purchase (cart_quantity, cart_value).\n",
    "2.\tThe dataset includes null values in the last_offer_type, last_reward_value, last_spend_value, offer_display_count, and offer_acceptance_state. We will have to deal with them during the preprocessing stage.\n",
    "3.\tThe dataset has no duplicate rows. However, it does include duplicate user_ids, which may be due to the fact that every user is assigned a new session whenever he/she refreshes the page. We will have to deal with them during the preprocessing stage.\n",
    "4.\tThe numerical features need to be scaled (standardized or scaled) for better model performance. \n",
    "5.\tlast_reward_value and last_spend_value have a very high correlation (0.93) which might affect our model accuracy due to redundancy.\n",
    "6. The numerical variables that are most correlated with out target are offer_display_count, car_quantity, and event_time_zone\n",
    "7. The categorical variables that seem to be mostly correlated with out target variable are event_type, last_offer_type, and offer_acceptance_state"
   ]
  },
  {
   "cell_type": "markdown",
   "id": "dbc8a935",
   "metadata": {},
   "source": [
    "___\n",
    "# 2 Baseline System \n",
    "\n",
    "In this section, I will build a simple baseline system using a logistic regression and using basic preprocessing and a subset of the feature which I believe have a strong predictive power based on EDA and intuition.\n",
    "1. Removing all null values\n",
    "2. Remove all user duplicates\n",
    "3. Dropping features that are expected to have low predictive power based on EDA and intuition\n",
    "4. Scaling numerical features using MinMaxScaler()\n",
    "5. Encoding categorical features\n",
    "6. Deploying the LogisticRegression() model"
   ]
  },
  {
   "cell_type": "code",
   "execution_count": 41,
   "id": "08ed2d35",
   "metadata": {},
   "outputs": [],
   "source": [
    "# Let's create a copy of the train and valid datasets\n",
    "train_copy1 = train.copy()\n",
    "valid_copy1 = valid.copy()"
   ]
  },
  {
   "cell_type": "markdown",
   "id": "37f4f3b7",
   "metadata": {},
   "source": [
    "### Removing Null Values"
   ]
  },
  {
   "cell_type": "code",
   "execution_count": 42,
   "id": "9c01cd44",
   "metadata": {},
   "outputs": [
    {
     "data": {
      "text/plain": [
       "user_id                       0\n",
       "session_id                    0\n",
       "session_start_time            0\n",
       "session_expiry_time           0\n",
       "event_time                    0\n",
       "event_time_zone               0\n",
       "event_type                    0\n",
       "offer_decline_count           0\n",
       "user_status                   0\n",
       "cart_quantity                 0\n",
       "cart_total                    0\n",
       "last_offer_type           84544\n",
       "last_reward_value         84544\n",
       "last_spend_value          84544\n",
       "offer_display_count       84544\n",
       "user_screen_size              0\n",
       "offer_acceptance_state    84544\n",
       "target                        0\n",
       "dtype: int64"
      ]
     },
     "execution_count": 42,
     "metadata": {},
     "output_type": "execute_result"
    }
   ],
   "source": [
    "train_copy1.isnull().sum()"
   ]
  },
  {
   "cell_type": "code",
   "execution_count": 43,
   "id": "b673b5af",
   "metadata": {},
   "outputs": [],
   "source": [
    "train_copy1 = train_copy1.dropna()"
   ]
  },
  {
   "cell_type": "code",
   "execution_count": 44,
   "id": "128c01b2",
   "metadata": {},
   "outputs": [
    {
     "data": {
      "text/plain": [
       "user_id                       0\n",
       "session_id                    0\n",
       "session_start_time            0\n",
       "session_expiry_time           0\n",
       "event_time                    0\n",
       "event_time_zone               0\n",
       "event_type                    0\n",
       "offer_decline_count           0\n",
       "user_status                   0\n",
       "cart_quantity                 0\n",
       "cart_total                    0\n",
       "last_offer_type           35978\n",
       "last_reward_value         35978\n",
       "last_spend_value          35978\n",
       "offer_display_count       35978\n",
       "user_screen_size              0\n",
       "offer_acceptance_state    35978\n",
       "target                        0\n",
       "dtype: int64"
      ]
     },
     "execution_count": 44,
     "metadata": {},
     "output_type": "execute_result"
    }
   ],
   "source": [
    "valid_copy1.isnull().sum()"
   ]
  },
  {
   "cell_type": "code",
   "execution_count": 45,
   "id": "ff32d448",
   "metadata": {},
   "outputs": [],
   "source": [
    "valid_copy1 = valid_copy1.dropna()"
   ]
  },
  {
   "cell_type": "markdown",
   "id": "d94b803f",
   "metadata": {},
   "source": [
    "### Removing user duplicates"
   ]
  },
  {
   "cell_type": "code",
   "execution_count": 46,
   "id": "aef55578",
   "metadata": {},
   "outputs": [
    {
     "data": {
      "text/plain": [
       "83378"
      ]
     },
     "execution_count": 46,
     "metadata": {},
     "output_type": "execute_result"
    }
   ],
   "source": [
    "train_copy1.duplicated(subset = ['user_id']).sum()"
   ]
  },
  {
   "cell_type": "code",
   "execution_count": 47,
   "id": "80c8d644",
   "metadata": {},
   "outputs": [
    {
     "data": {
      "text/html": [
       "<div>\n",
       "<style scoped>\n",
       "    .dataframe tbody tr th:only-of-type {\n",
       "        vertical-align: middle;\n",
       "    }\n",
       "\n",
       "    .dataframe tbody tr th {\n",
       "        vertical-align: top;\n",
       "    }\n",
       "\n",
       "    .dataframe thead th {\n",
       "        text-align: right;\n",
       "    }\n",
       "</style>\n",
       "<table border=\"1\" class=\"dataframe\">\n",
       "  <thead>\n",
       "    <tr style=\"text-align: right;\">\n",
       "      <th></th>\n",
       "      <th>user_id</th>\n",
       "      <th>session_id</th>\n",
       "      <th>session_start_time</th>\n",
       "      <th>session_expiry_time</th>\n",
       "      <th>event_time</th>\n",
       "      <th>event_time_zone</th>\n",
       "      <th>event_type</th>\n",
       "      <th>offer_decline_count</th>\n",
       "      <th>user_status</th>\n",
       "      <th>cart_quantity</th>\n",
       "      <th>cart_total</th>\n",
       "      <th>last_offer_type</th>\n",
       "      <th>last_reward_value</th>\n",
       "      <th>last_spend_value</th>\n",
       "      <th>offer_display_count</th>\n",
       "      <th>user_screen_size</th>\n",
       "      <th>offer_acceptance_state</th>\n",
       "      <th>target</th>\n",
       "    </tr>\n",
       "  </thead>\n",
       "  <tbody>\n",
       "    <tr>\n",
       "      <th>135933</th>\n",
       "      <td>ea483b67-394a-4aa9-9ccc-21dfd9b3ec47</td>\n",
       "      <td>a81f445b-97da-45fb-9bb9-5b974d9f6119</td>\n",
       "      <td>2017-03-04 13:29:07.592000+00:00</td>\n",
       "      <td>2017-03-04 13:59:07.592000+00:00</td>\n",
       "      <td>2017-03-04 13:29:06.529000+00:00</td>\n",
       "      <td>300</td>\n",
       "      <td>PAGE_LOAD</td>\n",
       "      <td>0</td>\n",
       "      <td>OC</td>\n",
       "      <td>0</td>\n",
       "      <td>0.00</td>\n",
       "      <td>P</td>\n",
       "      <td>15.0</td>\n",
       "      <td>150.0</td>\n",
       "      <td>1.0</td>\n",
       "      <td>2594025.0</td>\n",
       "      <td>IGNORED</td>\n",
       "      <td>0</td>\n",
       "    </tr>\n",
       "    <tr>\n",
       "      <th>242728</th>\n",
       "      <td>56eb9273-0c79-4ad4-92a4-0dadc0b6084e</td>\n",
       "      <td>71812626-837d-4be8-8ba0-b38ce2d1d3bb</td>\n",
       "      <td>2017-03-05 17:25:11.833000+00:00</td>\n",
       "      <td>2017-03-05 17:56:08.581000+00:00</td>\n",
       "      <td>2017-03-05 17:26:20.581000+00:00</td>\n",
       "      <td>300</td>\n",
       "      <td>PAGE_LOAD</td>\n",
       "      <td>0</td>\n",
       "      <td>OC</td>\n",
       "      <td>0</td>\n",
       "      <td>0.00</td>\n",
       "      <td>P</td>\n",
       "      <td>10.0</td>\n",
       "      <td>50.0</td>\n",
       "      <td>1.0</td>\n",
       "      <td>2962440.0</td>\n",
       "      <td>IGNORED</td>\n",
       "      <td>0</td>\n",
       "    </tr>\n",
       "    <tr>\n",
       "      <th>207488</th>\n",
       "      <td>26bab061-d177-497a-a29f-c19b8df0543b</td>\n",
       "      <td>9a83c294-19b7-4ec9-a9c4-56f047423437</td>\n",
       "      <td>2017-03-05 05:43:21.741000+00:00</td>\n",
       "      <td>2017-03-05 06:14:09.933000+00:00</td>\n",
       "      <td>2017-03-05 05:44:15.415000+00:00</td>\n",
       "      <td>300</td>\n",
       "      <td>CART_CHANGE</td>\n",
       "      <td>0</td>\n",
       "      <td>OC</td>\n",
       "      <td>0</td>\n",
       "      <td>0.00</td>\n",
       "      <td>C</td>\n",
       "      <td>10.0</td>\n",
       "      <td>50.0</td>\n",
       "      <td>1.0</td>\n",
       "      <td>2742336.0</td>\n",
       "      <td>IGNORED</td>\n",
       "      <td>0</td>\n",
       "    </tr>\n",
       "    <tr>\n",
       "      <th>34974</th>\n",
       "      <td>ad6c3e4a-bd20-48c7-8ae6-80198a1e7592</td>\n",
       "      <td>ceba1c55-586a-4f92-99be-9e2e49574a2b</td>\n",
       "      <td>2017-03-03 11:03:59.607000+00:00</td>\n",
       "      <td>2017-03-03 13:07:56.386000+00:00</td>\n",
       "      <td>2017-03-03 12:39:29.471000+00:00</td>\n",
       "      <td>420</td>\n",
       "      <td>PAGE_LOAD</td>\n",
       "      <td>0</td>\n",
       "      <td>OC</td>\n",
       "      <td>19</td>\n",
       "      <td>1316.25</td>\n",
       "      <td>C</td>\n",
       "      <td>50.0</td>\n",
       "      <td>1000.0</td>\n",
       "      <td>1.0</td>\n",
       "      <td>3499200.0</td>\n",
       "      <td>IGNORED</td>\n",
       "      <td>0</td>\n",
       "    </tr>\n",
       "    <tr>\n",
       "      <th>29396</th>\n",
       "      <td>99a4b9e5-7874-455e-be4d-8b3a5f153101</td>\n",
       "      <td>4f82eb77-8359-416d-82f8-d3f9c2db0817</td>\n",
       "      <td>2017-03-03 08:44:35.699000+00:00</td>\n",
       "      <td>2017-03-03 09:14:35.699000+00:00</td>\n",
       "      <td>2017-03-03 08:44:34.975000+00:00</td>\n",
       "      <td>360</td>\n",
       "      <td>PAGE_LOAD</td>\n",
       "      <td>0</td>\n",
       "      <td>OC</td>\n",
       "      <td>3</td>\n",
       "      <td>20.99</td>\n",
       "      <td>C</td>\n",
       "      <td>10.0</td>\n",
       "      <td>50.0</td>\n",
       "      <td>1.0</td>\n",
       "      <td>1483776.0</td>\n",
       "      <td>IGNORED</td>\n",
       "      <td>0</td>\n",
       "    </tr>\n",
       "    <tr>\n",
       "      <th>...</th>\n",
       "      <td>...</td>\n",
       "      <td>...</td>\n",
       "      <td>...</td>\n",
       "      <td>...</td>\n",
       "      <td>...</td>\n",
       "      <td>...</td>\n",
       "      <td>...</td>\n",
       "      <td>...</td>\n",
       "      <td>...</td>\n",
       "      <td>...</td>\n",
       "      <td>...</td>\n",
       "      <td>...</td>\n",
       "      <td>...</td>\n",
       "      <td>...</td>\n",
       "      <td>...</td>\n",
       "      <td>...</td>\n",
       "      <td>...</td>\n",
       "      <td>...</td>\n",
       "    </tr>\n",
       "    <tr>\n",
       "      <th>246322</th>\n",
       "      <td>b1dafeb4-c559-4d40-b5c4-4c00506fa1e6</td>\n",
       "      <td>c83715c5-3bd6-4195-aaf0-e07b2d7c4575</td>\n",
       "      <td>2017-03-05 18:13:36.766000+00:00</td>\n",
       "      <td>2017-03-05 18:43:36.766000+00:00</td>\n",
       "      <td>2017-03-05 18:13:35.963000+00:00</td>\n",
       "      <td>300</td>\n",
       "      <td>PAGE_LOAD</td>\n",
       "      <td>0</td>\n",
       "      <td>OC</td>\n",
       "      <td>1</td>\n",
       "      <td>49.88</td>\n",
       "      <td>C</td>\n",
       "      <td>10.0</td>\n",
       "      <td>50.0</td>\n",
       "      <td>1.0</td>\n",
       "      <td>3145728.0</td>\n",
       "      <td>IGNORED</td>\n",
       "      <td>0</td>\n",
       "    </tr>\n",
       "    <tr>\n",
       "      <th>166802</th>\n",
       "      <td>8f7f6acc-a93a-45d0-b221-dd32b8668316</td>\n",
       "      <td>6ff6f6fa-322b-42d1-98f4-bf387b30ab7e</td>\n",
       "      <td>2017-03-04 19:31:29.255000+00:00</td>\n",
       "      <td>2017-03-04 20:17:16.645000+00:00</td>\n",
       "      <td>2017-03-04 19:47:48.148000+00:00</td>\n",
       "      <td>300</td>\n",
       "      <td>PAGE_LOAD</td>\n",
       "      <td>0</td>\n",
       "      <td>OC</td>\n",
       "      <td>0</td>\n",
       "      <td>0.00</td>\n",
       "      <td>P</td>\n",
       "      <td>10.0</td>\n",
       "      <td>50.0</td>\n",
       "      <td>1.0</td>\n",
       "      <td>2073600.0</td>\n",
       "      <td>IGNORED</td>\n",
       "      <td>0</td>\n",
       "    </tr>\n",
       "    <tr>\n",
       "      <th>167302</th>\n",
       "      <td>d8b7f06c-cc2f-45bc-a419-854bfc479237</td>\n",
       "      <td>9261ff05-f195-4a6c-9837-b46d238ae310</td>\n",
       "      <td>2017-03-04 19:42:08.306000+00:00</td>\n",
       "      <td>2017-03-04 20:24:01.498000+00:00</td>\n",
       "      <td>2017-03-04 19:55:27.060000+00:00</td>\n",
       "      <td>300</td>\n",
       "      <td>PAGE_LOAD</td>\n",
       "      <td>0</td>\n",
       "      <td>OC</td>\n",
       "      <td>0</td>\n",
       "      <td>0.00</td>\n",
       "      <td>F</td>\n",
       "      <td>5.0</td>\n",
       "      <td>50.0</td>\n",
       "      <td>1.0</td>\n",
       "      <td>3145728.0</td>\n",
       "      <td>DECLINED</td>\n",
       "      <td>0</td>\n",
       "    </tr>\n",
       "    <tr>\n",
       "      <th>229520</th>\n",
       "      <td>26e21411-c21f-401e-b747-83d55cfc6cf0</td>\n",
       "      <td>b3246206-8593-4f51-888a-b88c62c22098</td>\n",
       "      <td>2017-03-05 14:49:43.517000+00:00</td>\n",
       "      <td>2017-03-05 15:19:43.918000+00:00</td>\n",
       "      <td>2017-03-05 14:50:32.508000+00:00</td>\n",
       "      <td>300</td>\n",
       "      <td>PAGE_LOAD</td>\n",
       "      <td>0</td>\n",
       "      <td>OC</td>\n",
       "      <td>0</td>\n",
       "      <td>0.00</td>\n",
       "      <td>F</td>\n",
       "      <td>10.0</td>\n",
       "      <td>50.0</td>\n",
       "      <td>1.0</td>\n",
       "      <td>1483776.0</td>\n",
       "      <td>IGNORED</td>\n",
       "      <td>0</td>\n",
       "    </tr>\n",
       "    <tr>\n",
       "      <th>371403</th>\n",
       "      <td>09aceb84-330b-47f0-9b18-684b99e3e7ea</td>\n",
       "      <td>76f28395-4380-46d2-b26d-695adf79082d</td>\n",
       "      <td>2017-03-06 22:42:21.132000+00:00</td>\n",
       "      <td>2017-03-06 23:14:03.239000+00:00</td>\n",
       "      <td>2017-03-06 23:02:54.370000+00:00</td>\n",
       "      <td>300</td>\n",
       "      <td>PAGE_LOAD</td>\n",
       "      <td>0</td>\n",
       "      <td>OC</td>\n",
       "      <td>0</td>\n",
       "      <td>0.00</td>\n",
       "      <td>P</td>\n",
       "      <td>10.0</td>\n",
       "      <td>125.0</td>\n",
       "      <td>1.0</td>\n",
       "      <td>1764000.0</td>\n",
       "      <td>IGNORED</td>\n",
       "      <td>0</td>\n",
       "    </tr>\n",
       "  </tbody>\n",
       "</table>\n",
       "<p>83378 rows × 18 columns</p>\n",
       "</div>"
      ],
      "text/plain": [
       "                                     user_id  \\\n",
       "135933  ea483b67-394a-4aa9-9ccc-21dfd9b3ec47   \n",
       "242728  56eb9273-0c79-4ad4-92a4-0dadc0b6084e   \n",
       "207488  26bab061-d177-497a-a29f-c19b8df0543b   \n",
       "34974   ad6c3e4a-bd20-48c7-8ae6-80198a1e7592   \n",
       "29396   99a4b9e5-7874-455e-be4d-8b3a5f153101   \n",
       "...                                      ...   \n",
       "246322  b1dafeb4-c559-4d40-b5c4-4c00506fa1e6   \n",
       "166802  8f7f6acc-a93a-45d0-b221-dd32b8668316   \n",
       "167302  d8b7f06c-cc2f-45bc-a419-854bfc479237   \n",
       "229520  26e21411-c21f-401e-b747-83d55cfc6cf0   \n",
       "371403  09aceb84-330b-47f0-9b18-684b99e3e7ea   \n",
       "\n",
       "                                  session_id               session_start_time  \\\n",
       "135933  a81f445b-97da-45fb-9bb9-5b974d9f6119 2017-03-04 13:29:07.592000+00:00   \n",
       "242728  71812626-837d-4be8-8ba0-b38ce2d1d3bb 2017-03-05 17:25:11.833000+00:00   \n",
       "207488  9a83c294-19b7-4ec9-a9c4-56f047423437 2017-03-05 05:43:21.741000+00:00   \n",
       "34974   ceba1c55-586a-4f92-99be-9e2e49574a2b 2017-03-03 11:03:59.607000+00:00   \n",
       "29396   4f82eb77-8359-416d-82f8-d3f9c2db0817 2017-03-03 08:44:35.699000+00:00   \n",
       "...                                      ...                              ...   \n",
       "246322  c83715c5-3bd6-4195-aaf0-e07b2d7c4575 2017-03-05 18:13:36.766000+00:00   \n",
       "166802  6ff6f6fa-322b-42d1-98f4-bf387b30ab7e 2017-03-04 19:31:29.255000+00:00   \n",
       "167302  9261ff05-f195-4a6c-9837-b46d238ae310 2017-03-04 19:42:08.306000+00:00   \n",
       "229520  b3246206-8593-4f51-888a-b88c62c22098 2017-03-05 14:49:43.517000+00:00   \n",
       "371403  76f28395-4380-46d2-b26d-695adf79082d 2017-03-06 22:42:21.132000+00:00   \n",
       "\n",
       "                    session_expiry_time                       event_time  \\\n",
       "135933 2017-03-04 13:59:07.592000+00:00 2017-03-04 13:29:06.529000+00:00   \n",
       "242728 2017-03-05 17:56:08.581000+00:00 2017-03-05 17:26:20.581000+00:00   \n",
       "207488 2017-03-05 06:14:09.933000+00:00 2017-03-05 05:44:15.415000+00:00   \n",
       "34974  2017-03-03 13:07:56.386000+00:00 2017-03-03 12:39:29.471000+00:00   \n",
       "29396  2017-03-03 09:14:35.699000+00:00 2017-03-03 08:44:34.975000+00:00   \n",
       "...                                 ...                              ...   \n",
       "246322 2017-03-05 18:43:36.766000+00:00 2017-03-05 18:13:35.963000+00:00   \n",
       "166802 2017-03-04 20:17:16.645000+00:00 2017-03-04 19:47:48.148000+00:00   \n",
       "167302 2017-03-04 20:24:01.498000+00:00 2017-03-04 19:55:27.060000+00:00   \n",
       "229520 2017-03-05 15:19:43.918000+00:00 2017-03-05 14:50:32.508000+00:00   \n",
       "371403 2017-03-06 23:14:03.239000+00:00 2017-03-06 23:02:54.370000+00:00   \n",
       "\n",
       "        event_time_zone   event_type  offer_decline_count user_status  \\\n",
       "135933              300    PAGE_LOAD                    0          OC   \n",
       "242728              300    PAGE_LOAD                    0          OC   \n",
       "207488              300  CART_CHANGE                    0          OC   \n",
       "34974               420    PAGE_LOAD                    0          OC   \n",
       "29396               360    PAGE_LOAD                    0          OC   \n",
       "...                 ...          ...                  ...         ...   \n",
       "246322              300    PAGE_LOAD                    0          OC   \n",
       "166802              300    PAGE_LOAD                    0          OC   \n",
       "167302              300    PAGE_LOAD                    0          OC   \n",
       "229520              300    PAGE_LOAD                    0          OC   \n",
       "371403              300    PAGE_LOAD                    0          OC   \n",
       "\n",
       "        cart_quantity  cart_total last_offer_type  last_reward_value  \\\n",
       "135933              0        0.00               P               15.0   \n",
       "242728              0        0.00               P               10.0   \n",
       "207488              0        0.00               C               10.0   \n",
       "34974              19     1316.25               C               50.0   \n",
       "29396               3       20.99               C               10.0   \n",
       "...               ...         ...             ...                ...   \n",
       "246322              1       49.88               C               10.0   \n",
       "166802              0        0.00               P               10.0   \n",
       "167302              0        0.00               F                5.0   \n",
       "229520              0        0.00               F               10.0   \n",
       "371403              0        0.00               P               10.0   \n",
       "\n",
       "        last_spend_value  offer_display_count  user_screen_size  \\\n",
       "135933             150.0                  1.0         2594025.0   \n",
       "242728              50.0                  1.0         2962440.0   \n",
       "207488              50.0                  1.0         2742336.0   \n",
       "34974             1000.0                  1.0         3499200.0   \n",
       "29396               50.0                  1.0         1483776.0   \n",
       "...                  ...                  ...               ...   \n",
       "246322              50.0                  1.0         3145728.0   \n",
       "166802              50.0                  1.0         2073600.0   \n",
       "167302              50.0                  1.0         3145728.0   \n",
       "229520              50.0                  1.0         1483776.0   \n",
       "371403             125.0                  1.0         1764000.0   \n",
       "\n",
       "       offer_acceptance_state  target  \n",
       "135933                IGNORED       0  \n",
       "242728                IGNORED       0  \n",
       "207488                IGNORED       0  \n",
       "34974                 IGNORED       0  \n",
       "29396                 IGNORED       0  \n",
       "...                       ...     ...  \n",
       "246322                IGNORED       0  \n",
       "166802                IGNORED       0  \n",
       "167302               DECLINED       0  \n",
       "229520                IGNORED       0  \n",
       "371403                IGNORED       0  \n",
       "\n",
       "[83378 rows x 18 columns]"
      ]
     },
     "execution_count": 47,
     "metadata": {},
     "output_type": "execute_result"
    }
   ],
   "source": [
    "train_copy1[train_copy1.duplicated(subset = ['user_id'], keep = 'first')]"
   ]
  },
  {
   "cell_type": "code",
   "execution_count": 48,
   "id": "e5c6e495",
   "metadata": {},
   "outputs": [],
   "source": [
    "train_copy1 = train_copy1.drop_duplicates(subset=['user_id'], keep='first')"
   ]
  },
  {
   "cell_type": "code",
   "execution_count": 49,
   "id": "e21b8687",
   "metadata": {},
   "outputs": [
    {
     "data": {
      "text/plain": [
       "23002"
      ]
     },
     "execution_count": 49,
     "metadata": {},
     "output_type": "execute_result"
    }
   ],
   "source": [
    "valid_copy1.duplicated(subset = ['user_id'], keep = 'first').sum()"
   ]
  },
  {
   "cell_type": "code",
   "execution_count": 50,
   "id": "fecd716a",
   "metadata": {},
   "outputs": [
    {
     "data": {
      "text/html": [
       "<div>\n",
       "<style scoped>\n",
       "    .dataframe tbody tr th:only-of-type {\n",
       "        vertical-align: middle;\n",
       "    }\n",
       "\n",
       "    .dataframe tbody tr th {\n",
       "        vertical-align: top;\n",
       "    }\n",
       "\n",
       "    .dataframe thead th {\n",
       "        text-align: right;\n",
       "    }\n",
       "</style>\n",
       "<table border=\"1\" class=\"dataframe\">\n",
       "  <thead>\n",
       "    <tr style=\"text-align: right;\">\n",
       "      <th></th>\n",
       "      <th>user_id</th>\n",
       "      <th>session_id</th>\n",
       "      <th>session_start_time</th>\n",
       "      <th>session_expiry_time</th>\n",
       "      <th>event_time</th>\n",
       "      <th>event_time_zone</th>\n",
       "      <th>event_type</th>\n",
       "      <th>offer_decline_count</th>\n",
       "      <th>user_status</th>\n",
       "      <th>cart_quantity</th>\n",
       "      <th>cart_total</th>\n",
       "      <th>last_offer_type</th>\n",
       "      <th>last_reward_value</th>\n",
       "      <th>last_spend_value</th>\n",
       "      <th>offer_display_count</th>\n",
       "      <th>user_screen_size</th>\n",
       "      <th>offer_acceptance_state</th>\n",
       "      <th>target</th>\n",
       "    </tr>\n",
       "  </thead>\n",
       "  <tbody>\n",
       "    <tr>\n",
       "      <th>116893</th>\n",
       "      <td>96fa89c4-fcf8-47ac-ba24-ee6e12f1d0e5</td>\n",
       "      <td>3c87377a-8f05-4a9f-9aeb-2be4240ef24a</td>\n",
       "      <td>2017-03-04 03:55:16.504000+00:00</td>\n",
       "      <td>2017-03-04 04:34:00.100000+00:00</td>\n",
       "      <td>2017-03-04 04:04:04.992000+00:00</td>\n",
       "      <td>300</td>\n",
       "      <td>PAGE_LOAD</td>\n",
       "      <td>0</td>\n",
       "      <td>OC</td>\n",
       "      <td>4</td>\n",
       "      <td>221.71</td>\n",
       "      <td>C</td>\n",
       "      <td>40.0</td>\n",
       "      <td>375.0</td>\n",
       "      <td>1.0</td>\n",
       "      <td>1167429.756</td>\n",
       "      <td>IGNORED</td>\n",
       "      <td>0</td>\n",
       "    </tr>\n",
       "    <tr>\n",
       "      <th>36742</th>\n",
       "      <td>eab4e790-47f8-4e53-93d7-2355284a2748</td>\n",
       "      <td>fd94b99f-4c9b-4c36-be8b-b73298473518</td>\n",
       "      <td>2017-03-03 13:03:59.380000+00:00</td>\n",
       "      <td>2017-03-03 13:36:27.976000+00:00</td>\n",
       "      <td>2017-03-03 13:06:40.804000+00:00</td>\n",
       "      <td>240</td>\n",
       "      <td>PAGE_LOAD</td>\n",
       "      <td>0</td>\n",
       "      <td>OC</td>\n",
       "      <td>0</td>\n",
       "      <td>0.00</td>\n",
       "      <td>C</td>\n",
       "      <td>5.0</td>\n",
       "      <td>100.0</td>\n",
       "      <td>1.0</td>\n",
       "      <td>3870400.000</td>\n",
       "      <td>IGNORED</td>\n",
       "      <td>0</td>\n",
       "    </tr>\n",
       "    <tr>\n",
       "      <th>169846</th>\n",
       "      <td>b3356c9e-8b5d-401e-9624-2b4d4d6346a8</td>\n",
       "      <td>156e250b-0d31-4533-8c51-20919dcad71a</td>\n",
       "      <td>2017-03-04 20:37:27.184000+00:00</td>\n",
       "      <td>2017-03-04 21:07:27.184000+00:00</td>\n",
       "      <td>2017-03-04 20:37:26.114000+00:00</td>\n",
       "      <td>420</td>\n",
       "      <td>PAGE_LOAD</td>\n",
       "      <td>0</td>\n",
       "      <td>OC</td>\n",
       "      <td>3</td>\n",
       "      <td>249.13</td>\n",
       "      <td>C</td>\n",
       "      <td>20.0</td>\n",
       "      <td>200.0</td>\n",
       "      <td>1.0</td>\n",
       "      <td>2962440.000</td>\n",
       "      <td>IGNORED</td>\n",
       "      <td>0</td>\n",
       "    </tr>\n",
       "    <tr>\n",
       "      <th>280107</th>\n",
       "      <td>5a732a83-9632-41cb-900c-7fe7449b3b44</td>\n",
       "      <td>6eeb44e0-a0ce-40b1-88a4-cda20096766c</td>\n",
       "      <td>2017-03-06 02:05:54.266000+00:00</td>\n",
       "      <td>2017-03-06 02:58:44.541000+00:00</td>\n",
       "      <td>2017-03-06 02:29:13.968000+00:00</td>\n",
       "      <td>300</td>\n",
       "      <td>PAGE_LOAD</td>\n",
       "      <td>0</td>\n",
       "      <td>OC</td>\n",
       "      <td>0</td>\n",
       "      <td>0.00</td>\n",
       "      <td>F</td>\n",
       "      <td>10.0</td>\n",
       "      <td>50.0</td>\n",
       "      <td>1.0</td>\n",
       "      <td>2073600.000</td>\n",
       "      <td>IGNORED</td>\n",
       "      <td>0</td>\n",
       "    </tr>\n",
       "    <tr>\n",
       "      <th>242836</th>\n",
       "      <td>d80bd312-a138-4dc2-9f4e-90501ede3c56</td>\n",
       "      <td>a4b864b0-77c8-4add-9738-d1afec11ef3d</td>\n",
       "      <td>2017-03-05 17:23:56.256000+00:00</td>\n",
       "      <td>2017-03-05 17:57:24.554000+00:00</td>\n",
       "      <td>2017-03-05 17:27:42.105000+00:00</td>\n",
       "      <td>300</td>\n",
       "      <td>PAGE_LOAD</td>\n",
       "      <td>0</td>\n",
       "      <td>OC</td>\n",
       "      <td>2</td>\n",
       "      <td>84.21</td>\n",
       "      <td>C</td>\n",
       "      <td>10.0</td>\n",
       "      <td>50.0</td>\n",
       "      <td>1.0</td>\n",
       "      <td>3606840.000</td>\n",
       "      <td>IGNORED</td>\n",
       "      <td>0</td>\n",
       "    </tr>\n",
       "    <tr>\n",
       "      <th>...</th>\n",
       "      <td>...</td>\n",
       "      <td>...</td>\n",
       "      <td>...</td>\n",
       "      <td>...</td>\n",
       "      <td>...</td>\n",
       "      <td>...</td>\n",
       "      <td>...</td>\n",
       "      <td>...</td>\n",
       "      <td>...</td>\n",
       "      <td>...</td>\n",
       "      <td>...</td>\n",
       "      <td>...</td>\n",
       "      <td>...</td>\n",
       "      <td>...</td>\n",
       "      <td>...</td>\n",
       "      <td>...</td>\n",
       "      <td>...</td>\n",
       "      <td>...</td>\n",
       "    </tr>\n",
       "    <tr>\n",
       "      <th>152663</th>\n",
       "      <td>d3cefbf2-eeb3-41f2-a0c1-b5c235e704c4</td>\n",
       "      <td>c74b6189-adb7-4e85-9715-02e6b8463031</td>\n",
       "      <td>2017-03-04 16:32:32.564000+00:00</td>\n",
       "      <td>2017-03-04 17:14:37.077000+00:00</td>\n",
       "      <td>2017-03-04 16:44:42.768000+00:00</td>\n",
       "      <td>300</td>\n",
       "      <td>PAGE_LOAD</td>\n",
       "      <td>0</td>\n",
       "      <td>OC</td>\n",
       "      <td>0</td>\n",
       "      <td>0.00</td>\n",
       "      <td>F</td>\n",
       "      <td>10.0</td>\n",
       "      <td>50.0</td>\n",
       "      <td>1.0</td>\n",
       "      <td>1049088.000</td>\n",
       "      <td>IGNORED</td>\n",
       "      <td>0</td>\n",
       "    </tr>\n",
       "    <tr>\n",
       "      <th>140639</th>\n",
       "      <td>92050309-6ee2-4a3f-abad-d0b7244ba749</td>\n",
       "      <td>b55377cf-5875-4ef7-b2b3-1b917764c9ac</td>\n",
       "      <td>2017-03-04 14:17:50.347000+00:00</td>\n",
       "      <td>2017-03-04 14:48:49.329000+00:00</td>\n",
       "      <td>2017-03-04 14:22:06.328000+00:00</td>\n",
       "      <td>300</td>\n",
       "      <td>PAGE_LOAD</td>\n",
       "      <td>0</td>\n",
       "      <td>OC</td>\n",
       "      <td>0</td>\n",
       "      <td>0.00</td>\n",
       "      <td>P</td>\n",
       "      <td>10.0</td>\n",
       "      <td>100.0</td>\n",
       "      <td>1.0</td>\n",
       "      <td>2592000.000</td>\n",
       "      <td>IGNORED</td>\n",
       "      <td>0</td>\n",
       "    </tr>\n",
       "    <tr>\n",
       "      <th>130236</th>\n",
       "      <td>b9a67bc7-2b96-4496-a3b5-c500b805558e</td>\n",
       "      <td>0053692e-7056-4bbb-91e6-818b3952d2f7</td>\n",
       "      <td>2017-03-04 11:44:50.991000+00:00</td>\n",
       "      <td>2017-03-04 12:16:08.035000+00:00</td>\n",
       "      <td>2017-03-04 11:46:11.870000+00:00</td>\n",
       "      <td>240</td>\n",
       "      <td>PAGE_LOAD</td>\n",
       "      <td>0</td>\n",
       "      <td>OC</td>\n",
       "      <td>3</td>\n",
       "      <td>460.33</td>\n",
       "      <td>C</td>\n",
       "      <td>40.0</td>\n",
       "      <td>400.0</td>\n",
       "      <td>1.0</td>\n",
       "      <td>2073600.000</td>\n",
       "      <td>IGNORED</td>\n",
       "      <td>0</td>\n",
       "    </tr>\n",
       "    <tr>\n",
       "      <th>159015</th>\n",
       "      <td>284f9a50-f9c9-4e1a-9149-4fe73c76b433</td>\n",
       "      <td>63d92741-8846-4228-92a3-ef4a3ea66176</td>\n",
       "      <td>2017-03-04 17:57:00.878000+00:00</td>\n",
       "      <td>2017-03-04 18:30:43.850000+00:00</td>\n",
       "      <td>2017-03-04 18:01:51.799000+00:00</td>\n",
       "      <td>300</td>\n",
       "      <td>PAGE_LOAD</td>\n",
       "      <td>0</td>\n",
       "      <td>OC</td>\n",
       "      <td>0</td>\n",
       "      <td>0.00</td>\n",
       "      <td>F</td>\n",
       "      <td>10.0</td>\n",
       "      <td>50.0</td>\n",
       "      <td>1.0</td>\n",
       "      <td>5184000.000</td>\n",
       "      <td>IGNORED</td>\n",
       "      <td>0</td>\n",
       "    </tr>\n",
       "    <tr>\n",
       "      <th>350742</th>\n",
       "      <td>ea6fd813-4ecc-48f3-99c8-b3c15ea996ba</td>\n",
       "      <td>5d0c00df-ad25-4832-a1d5-8c3b8fe1aa94</td>\n",
       "      <td>2017-03-06 17:47:23.902000+00:00</td>\n",
       "      <td>2017-03-06 18:20:29.784000+00:00</td>\n",
       "      <td>2017-03-06 17:51:28.124000+00:00</td>\n",
       "      <td>300</td>\n",
       "      <td>PAGE_LOAD</td>\n",
       "      <td>0</td>\n",
       "      <td>NC</td>\n",
       "      <td>0</td>\n",
       "      <td>0.00</td>\n",
       "      <td>F</td>\n",
       "      <td>10.0</td>\n",
       "      <td>50.0</td>\n",
       "      <td>1.0</td>\n",
       "      <td>2076060.414</td>\n",
       "      <td>IGNORED</td>\n",
       "      <td>0</td>\n",
       "    </tr>\n",
       "  </tbody>\n",
       "</table>\n",
       "<p>23002 rows × 18 columns</p>\n",
       "</div>"
      ],
      "text/plain": [
       "                                     user_id  \\\n",
       "116893  96fa89c4-fcf8-47ac-ba24-ee6e12f1d0e5   \n",
       "36742   eab4e790-47f8-4e53-93d7-2355284a2748   \n",
       "169846  b3356c9e-8b5d-401e-9624-2b4d4d6346a8   \n",
       "280107  5a732a83-9632-41cb-900c-7fe7449b3b44   \n",
       "242836  d80bd312-a138-4dc2-9f4e-90501ede3c56   \n",
       "...                                      ...   \n",
       "152663  d3cefbf2-eeb3-41f2-a0c1-b5c235e704c4   \n",
       "140639  92050309-6ee2-4a3f-abad-d0b7244ba749   \n",
       "130236  b9a67bc7-2b96-4496-a3b5-c500b805558e   \n",
       "159015  284f9a50-f9c9-4e1a-9149-4fe73c76b433   \n",
       "350742  ea6fd813-4ecc-48f3-99c8-b3c15ea996ba   \n",
       "\n",
       "                                  session_id               session_start_time  \\\n",
       "116893  3c87377a-8f05-4a9f-9aeb-2be4240ef24a 2017-03-04 03:55:16.504000+00:00   \n",
       "36742   fd94b99f-4c9b-4c36-be8b-b73298473518 2017-03-03 13:03:59.380000+00:00   \n",
       "169846  156e250b-0d31-4533-8c51-20919dcad71a 2017-03-04 20:37:27.184000+00:00   \n",
       "280107  6eeb44e0-a0ce-40b1-88a4-cda20096766c 2017-03-06 02:05:54.266000+00:00   \n",
       "242836  a4b864b0-77c8-4add-9738-d1afec11ef3d 2017-03-05 17:23:56.256000+00:00   \n",
       "...                                      ...                              ...   \n",
       "152663  c74b6189-adb7-4e85-9715-02e6b8463031 2017-03-04 16:32:32.564000+00:00   \n",
       "140639  b55377cf-5875-4ef7-b2b3-1b917764c9ac 2017-03-04 14:17:50.347000+00:00   \n",
       "130236  0053692e-7056-4bbb-91e6-818b3952d2f7 2017-03-04 11:44:50.991000+00:00   \n",
       "159015  63d92741-8846-4228-92a3-ef4a3ea66176 2017-03-04 17:57:00.878000+00:00   \n",
       "350742  5d0c00df-ad25-4832-a1d5-8c3b8fe1aa94 2017-03-06 17:47:23.902000+00:00   \n",
       "\n",
       "                    session_expiry_time                       event_time  \\\n",
       "116893 2017-03-04 04:34:00.100000+00:00 2017-03-04 04:04:04.992000+00:00   \n",
       "36742  2017-03-03 13:36:27.976000+00:00 2017-03-03 13:06:40.804000+00:00   \n",
       "169846 2017-03-04 21:07:27.184000+00:00 2017-03-04 20:37:26.114000+00:00   \n",
       "280107 2017-03-06 02:58:44.541000+00:00 2017-03-06 02:29:13.968000+00:00   \n",
       "242836 2017-03-05 17:57:24.554000+00:00 2017-03-05 17:27:42.105000+00:00   \n",
       "...                                 ...                              ...   \n",
       "152663 2017-03-04 17:14:37.077000+00:00 2017-03-04 16:44:42.768000+00:00   \n",
       "140639 2017-03-04 14:48:49.329000+00:00 2017-03-04 14:22:06.328000+00:00   \n",
       "130236 2017-03-04 12:16:08.035000+00:00 2017-03-04 11:46:11.870000+00:00   \n",
       "159015 2017-03-04 18:30:43.850000+00:00 2017-03-04 18:01:51.799000+00:00   \n",
       "350742 2017-03-06 18:20:29.784000+00:00 2017-03-06 17:51:28.124000+00:00   \n",
       "\n",
       "        event_time_zone event_type  offer_decline_count user_status  \\\n",
       "116893              300  PAGE_LOAD                    0          OC   \n",
       "36742               240  PAGE_LOAD                    0          OC   \n",
       "169846              420  PAGE_LOAD                    0          OC   \n",
       "280107              300  PAGE_LOAD                    0          OC   \n",
       "242836              300  PAGE_LOAD                    0          OC   \n",
       "...                 ...        ...                  ...         ...   \n",
       "152663              300  PAGE_LOAD                    0          OC   \n",
       "140639              300  PAGE_LOAD                    0          OC   \n",
       "130236              240  PAGE_LOAD                    0          OC   \n",
       "159015              300  PAGE_LOAD                    0          OC   \n",
       "350742              300  PAGE_LOAD                    0          NC   \n",
       "\n",
       "        cart_quantity  cart_total last_offer_type  last_reward_value  \\\n",
       "116893              4      221.71               C               40.0   \n",
       "36742               0        0.00               C                5.0   \n",
       "169846              3      249.13               C               20.0   \n",
       "280107              0        0.00               F               10.0   \n",
       "242836              2       84.21               C               10.0   \n",
       "...               ...         ...             ...                ...   \n",
       "152663              0        0.00               F               10.0   \n",
       "140639              0        0.00               P               10.0   \n",
       "130236              3      460.33               C               40.0   \n",
       "159015              0        0.00               F               10.0   \n",
       "350742              0        0.00               F               10.0   \n",
       "\n",
       "        last_spend_value  offer_display_count  user_screen_size  \\\n",
       "116893             375.0                  1.0       1167429.756   \n",
       "36742              100.0                  1.0       3870400.000   \n",
       "169846             200.0                  1.0       2962440.000   \n",
       "280107              50.0                  1.0       2073600.000   \n",
       "242836              50.0                  1.0       3606840.000   \n",
       "...                  ...                  ...               ...   \n",
       "152663              50.0                  1.0       1049088.000   \n",
       "140639             100.0                  1.0       2592000.000   \n",
       "130236             400.0                  1.0       2073600.000   \n",
       "159015              50.0                  1.0       5184000.000   \n",
       "350742              50.0                  1.0       2076060.414   \n",
       "\n",
       "       offer_acceptance_state  target  \n",
       "116893                IGNORED       0  \n",
       "36742                 IGNORED       0  \n",
       "169846                IGNORED       0  \n",
       "280107                IGNORED       0  \n",
       "242836                IGNORED       0  \n",
       "...                       ...     ...  \n",
       "152663                IGNORED       0  \n",
       "140639                IGNORED       0  \n",
       "130236                IGNORED       0  \n",
       "159015                IGNORED       0  \n",
       "350742                IGNORED       0  \n",
       "\n",
       "[23002 rows x 18 columns]"
      ]
     },
     "execution_count": 50,
     "metadata": {},
     "output_type": "execute_result"
    }
   ],
   "source": [
    "valid_copy1[valid_copy1.duplicated(subset = ['user_id'], keep = 'first')]"
   ]
  },
  {
   "cell_type": "code",
   "execution_count": 51,
   "id": "be73d071",
   "metadata": {},
   "outputs": [],
   "source": [
    "valid_copy1 = valid_copy1.drop_duplicates(subset=['user_id'], keep='first')"
   ]
  },
  {
   "cell_type": "markdown",
   "id": "0700ac2c",
   "metadata": {},
   "source": [
    "### Dropping features that are expected to have low predictive power\n",
    "\n",
    "- I will filter the train and valid based on attributes that are expected to have high predictive power based on EDA and intuition. \n",
    "- Note that I decided to remove the user_screen_size because I personally do not believe that it affects the purchase power.\n",
    "- I also removed the last_reward_value because it is highly correlated with last_spend_value which may lead to redundancy"
   ]
  },
  {
   "cell_type": "code",
   "execution_count": 52,
   "id": "fcdd4305",
   "metadata": {},
   "outputs": [],
   "source": [
    "attributes_to_keep = ['event_time_zone', 'event_type', 'offer_decline_count',  'user_status', 'cart_quantity', 'cart_total', \n",
    "                      'last_offer_type', 'last_spend_value', 'offer_display_count', 'offer_acceptance_state', 'target']\n",
    "train_copy1 = train_copy1[attributes_to_keep]\n",
    "valid_copy1 = valid_copy1[attributes_to_keep]"
   ]
  },
  {
   "cell_type": "code",
   "execution_count": 53,
   "id": "95dd655b",
   "metadata": {
    "scrolled": true
   },
   "outputs": [
    {
     "data": {
      "text/html": [
       "<div>\n",
       "<style scoped>\n",
       "    .dataframe tbody tr th:only-of-type {\n",
       "        vertical-align: middle;\n",
       "    }\n",
       "\n",
       "    .dataframe tbody tr th {\n",
       "        vertical-align: top;\n",
       "    }\n",
       "\n",
       "    .dataframe thead th {\n",
       "        text-align: right;\n",
       "    }\n",
       "</style>\n",
       "<table border=\"1\" class=\"dataframe\">\n",
       "  <thead>\n",
       "    <tr style=\"text-align: right;\">\n",
       "      <th></th>\n",
       "      <th>event_time_zone</th>\n",
       "      <th>event_type</th>\n",
       "      <th>offer_decline_count</th>\n",
       "      <th>user_status</th>\n",
       "      <th>cart_quantity</th>\n",
       "      <th>cart_total</th>\n",
       "      <th>last_offer_type</th>\n",
       "      <th>last_spend_value</th>\n",
       "      <th>offer_display_count</th>\n",
       "      <th>offer_acceptance_state</th>\n",
       "      <th>target</th>\n",
       "    </tr>\n",
       "  </thead>\n",
       "  <tbody>\n",
       "    <tr>\n",
       "      <th>169993</th>\n",
       "      <td>300</td>\n",
       "      <td>PAGE_LOAD</td>\n",
       "      <td>0</td>\n",
       "      <td>OC</td>\n",
       "      <td>1</td>\n",
       "      <td>65.00</td>\n",
       "      <td>F</td>\n",
       "      <td>50.0</td>\n",
       "      <td>1.0</td>\n",
       "      <td>IGNORED</td>\n",
       "      <td>0</td>\n",
       "    </tr>\n",
       "    <tr>\n",
       "      <th>128526</th>\n",
       "      <td>300</td>\n",
       "      <td>PAGE_LOAD</td>\n",
       "      <td>0</td>\n",
       "      <td>OC</td>\n",
       "      <td>0</td>\n",
       "      <td>0.00</td>\n",
       "      <td>P</td>\n",
       "      <td>275.0</td>\n",
       "      <td>1.0</td>\n",
       "      <td>IGNORED</td>\n",
       "      <td>0</td>\n",
       "    </tr>\n",
       "    <tr>\n",
       "      <th>95101</th>\n",
       "      <td>480</td>\n",
       "      <td>PAGE_LOAD</td>\n",
       "      <td>0</td>\n",
       "      <td>OC</td>\n",
       "      <td>2</td>\n",
       "      <td>77.88</td>\n",
       "      <td>C</td>\n",
       "      <td>75.0</td>\n",
       "      <td>1.0</td>\n",
       "      <td>IGNORED</td>\n",
       "      <td>0</td>\n",
       "    </tr>\n",
       "    <tr>\n",
       "      <th>175520</th>\n",
       "      <td>300</td>\n",
       "      <td>PAGE_LOAD</td>\n",
       "      <td>0</td>\n",
       "      <td>NC</td>\n",
       "      <td>1</td>\n",
       "      <td>49.33</td>\n",
       "      <td>C</td>\n",
       "      <td>50.0</td>\n",
       "      <td>1.0</td>\n",
       "      <td>IGNORED</td>\n",
       "      <td>1</td>\n",
       "    </tr>\n",
       "    <tr>\n",
       "      <th>83375</th>\n",
       "      <td>300</td>\n",
       "      <td>PAGE_LOAD</td>\n",
       "      <td>0</td>\n",
       "      <td>OC</td>\n",
       "      <td>0</td>\n",
       "      <td>0.00</td>\n",
       "      <td>P</td>\n",
       "      <td>100.0</td>\n",
       "      <td>1.0</td>\n",
       "      <td>IGNORED</td>\n",
       "      <td>0</td>\n",
       "    </tr>\n",
       "  </tbody>\n",
       "</table>\n",
       "</div>"
      ],
      "text/plain": [
       "        event_time_zone event_type  offer_decline_count user_status  \\\n",
       "169993              300  PAGE_LOAD                    0          OC   \n",
       "128526              300  PAGE_LOAD                    0          OC   \n",
       "95101               480  PAGE_LOAD                    0          OC   \n",
       "175520              300  PAGE_LOAD                    0          NC   \n",
       "83375               300  PAGE_LOAD                    0          OC   \n",
       "\n",
       "        cart_quantity  cart_total last_offer_type  last_spend_value  \\\n",
       "169993              1       65.00               F              50.0   \n",
       "128526              0        0.00               P             275.0   \n",
       "95101               2       77.88               C              75.0   \n",
       "175520              1       49.33               C              50.0   \n",
       "83375               0        0.00               P             100.0   \n",
       "\n",
       "        offer_display_count offer_acceptance_state  target  \n",
       "169993                  1.0                IGNORED       0  \n",
       "128526                  1.0                IGNORED       0  \n",
       "95101                   1.0                IGNORED       0  \n",
       "175520                  1.0                IGNORED       1  \n",
       "83375                   1.0                IGNORED       0  "
      ]
     },
     "execution_count": 53,
     "metadata": {},
     "output_type": "execute_result"
    }
   ],
   "source": [
    "train_copy1.head()"
   ]
  },
  {
   "cell_type": "code",
   "execution_count": 54,
   "id": "04797e5e",
   "metadata": {
    "scrolled": true
   },
   "outputs": [
    {
     "data": {
      "text/html": [
       "<div>\n",
       "<style scoped>\n",
       "    .dataframe tbody tr th:only-of-type {\n",
       "        vertical-align: middle;\n",
       "    }\n",
       "\n",
       "    .dataframe tbody tr th {\n",
       "        vertical-align: top;\n",
       "    }\n",
       "\n",
       "    .dataframe thead th {\n",
       "        text-align: right;\n",
       "    }\n",
       "</style>\n",
       "<table border=\"1\" class=\"dataframe\">\n",
       "  <thead>\n",
       "    <tr style=\"text-align: right;\">\n",
       "      <th></th>\n",
       "      <th>event_time_zone</th>\n",
       "      <th>event_type</th>\n",
       "      <th>offer_decline_count</th>\n",
       "      <th>user_status</th>\n",
       "      <th>cart_quantity</th>\n",
       "      <th>cart_total</th>\n",
       "      <th>last_offer_type</th>\n",
       "      <th>last_spend_value</th>\n",
       "      <th>offer_display_count</th>\n",
       "      <th>offer_acceptance_state</th>\n",
       "      <th>target</th>\n",
       "    </tr>\n",
       "  </thead>\n",
       "  <tbody>\n",
       "    <tr>\n",
       "      <th>201049</th>\n",
       "      <td>360</td>\n",
       "      <td>PAGE_LOAD</td>\n",
       "      <td>0</td>\n",
       "      <td>OC</td>\n",
       "      <td>0</td>\n",
       "      <td>0.00</td>\n",
       "      <td>F</td>\n",
       "      <td>50.0</td>\n",
       "      <td>1.0</td>\n",
       "      <td>IGNORED</td>\n",
       "      <td>0</td>\n",
       "    </tr>\n",
       "    <tr>\n",
       "      <th>224347</th>\n",
       "      <td>300</td>\n",
       "      <td>PAGE_LOAD</td>\n",
       "      <td>0</td>\n",
       "      <td>NC</td>\n",
       "      <td>0</td>\n",
       "      <td>0.00</td>\n",
       "      <td>F</td>\n",
       "      <td>50.0</td>\n",
       "      <td>1.0</td>\n",
       "      <td>IGNORED</td>\n",
       "      <td>0</td>\n",
       "    </tr>\n",
       "    <tr>\n",
       "      <th>386845</th>\n",
       "      <td>300</td>\n",
       "      <td>PAGE_LOAD</td>\n",
       "      <td>0</td>\n",
       "      <td>OC</td>\n",
       "      <td>0</td>\n",
       "      <td>0.00</td>\n",
       "      <td>F</td>\n",
       "      <td>50.0</td>\n",
       "      <td>1.0</td>\n",
       "      <td>IGNORED</td>\n",
       "      <td>0</td>\n",
       "    </tr>\n",
       "    <tr>\n",
       "      <th>26632</th>\n",
       "      <td>420</td>\n",
       "      <td>PAGE_LOAD</td>\n",
       "      <td>0</td>\n",
       "      <td>OC</td>\n",
       "      <td>0</td>\n",
       "      <td>0.00</td>\n",
       "      <td>F</td>\n",
       "      <td>50.0</td>\n",
       "      <td>1.0</td>\n",
       "      <td>IGNORED</td>\n",
       "      <td>0</td>\n",
       "    </tr>\n",
       "    <tr>\n",
       "      <th>117251</th>\n",
       "      <td>360</td>\n",
       "      <td>PAGE_LOAD</td>\n",
       "      <td>0</td>\n",
       "      <td>OC</td>\n",
       "      <td>2</td>\n",
       "      <td>79.98</td>\n",
       "      <td>C</td>\n",
       "      <td>50.0</td>\n",
       "      <td>1.0</td>\n",
       "      <td>IGNORED</td>\n",
       "      <td>0</td>\n",
       "    </tr>\n",
       "  </tbody>\n",
       "</table>\n",
       "</div>"
      ],
      "text/plain": [
       "        event_time_zone event_type  offer_decline_count user_status  \\\n",
       "201049              360  PAGE_LOAD                    0          OC   \n",
       "224347              300  PAGE_LOAD                    0          NC   \n",
       "386845              300  PAGE_LOAD                    0          OC   \n",
       "26632               420  PAGE_LOAD                    0          OC   \n",
       "117251              360  PAGE_LOAD                    0          OC   \n",
       "\n",
       "        cart_quantity  cart_total last_offer_type  last_spend_value  \\\n",
       "201049              0        0.00               F              50.0   \n",
       "224347              0        0.00               F              50.0   \n",
       "386845              0        0.00               F              50.0   \n",
       "26632               0        0.00               F              50.0   \n",
       "117251              2       79.98               C              50.0   \n",
       "\n",
       "        offer_display_count offer_acceptance_state  target  \n",
       "201049                  1.0                IGNORED       0  \n",
       "224347                  1.0                IGNORED       0  \n",
       "386845                  1.0                IGNORED       0  \n",
       "26632                   1.0                IGNORED       0  \n",
       "117251                  1.0                IGNORED       0  "
      ]
     },
     "execution_count": 54,
     "metadata": {},
     "output_type": "execute_result"
    }
   ],
   "source": [
    "valid_copy1.head()"
   ]
  },
  {
   "cell_type": "markdown",
   "id": "f34ecc53",
   "metadata": {},
   "source": [
    "### Preprocessing numerical features\n",
    "\n",
    "Scaling numerical features using StandardScaler()"
   ]
  },
  {
   "cell_type": "code",
   "execution_count": 55,
   "id": "99997067",
   "metadata": {
    "scrolled": false
   },
   "outputs": [
    {
     "data": {
      "text/html": [
       "<div>\n",
       "<style scoped>\n",
       "    .dataframe tbody tr th:only-of-type {\n",
       "        vertical-align: middle;\n",
       "    }\n",
       "\n",
       "    .dataframe tbody tr th {\n",
       "        vertical-align: top;\n",
       "    }\n",
       "\n",
       "    .dataframe thead th {\n",
       "        text-align: right;\n",
       "    }\n",
       "</style>\n",
       "<table border=\"1\" class=\"dataframe\">\n",
       "  <thead>\n",
       "    <tr style=\"text-align: right;\">\n",
       "      <th></th>\n",
       "      <th>event_time_zone</th>\n",
       "      <th>offer_decline_count</th>\n",
       "      <th>cart_quantity</th>\n",
       "      <th>cart_total</th>\n",
       "      <th>last_spend_value</th>\n",
       "      <th>offer_display_count</th>\n",
       "    </tr>\n",
       "  </thead>\n",
       "  <tbody>\n",
       "    <tr>\n",
       "      <th>169993</th>\n",
       "      <td>300</td>\n",
       "      <td>0</td>\n",
       "      <td>1</td>\n",
       "      <td>65.00</td>\n",
       "      <td>50.0</td>\n",
       "      <td>1.0</td>\n",
       "    </tr>\n",
       "    <tr>\n",
       "      <th>128526</th>\n",
       "      <td>300</td>\n",
       "      <td>0</td>\n",
       "      <td>0</td>\n",
       "      <td>0.00</td>\n",
       "      <td>275.0</td>\n",
       "      <td>1.0</td>\n",
       "    </tr>\n",
       "    <tr>\n",
       "      <th>95101</th>\n",
       "      <td>480</td>\n",
       "      <td>0</td>\n",
       "      <td>2</td>\n",
       "      <td>77.88</td>\n",
       "      <td>75.0</td>\n",
       "      <td>1.0</td>\n",
       "    </tr>\n",
       "    <tr>\n",
       "      <th>175520</th>\n",
       "      <td>300</td>\n",
       "      <td>0</td>\n",
       "      <td>1</td>\n",
       "      <td>49.33</td>\n",
       "      <td>50.0</td>\n",
       "      <td>1.0</td>\n",
       "    </tr>\n",
       "    <tr>\n",
       "      <th>83375</th>\n",
       "      <td>300</td>\n",
       "      <td>0</td>\n",
       "      <td>0</td>\n",
       "      <td>0.00</td>\n",
       "      <td>100.0</td>\n",
       "      <td>1.0</td>\n",
       "    </tr>\n",
       "    <tr>\n",
       "      <th>...</th>\n",
       "      <td>...</td>\n",
       "      <td>...</td>\n",
       "      <td>...</td>\n",
       "      <td>...</td>\n",
       "      <td>...</td>\n",
       "      <td>...</td>\n",
       "    </tr>\n",
       "    <tr>\n",
       "      <th>188317</th>\n",
       "      <td>300</td>\n",
       "      <td>0</td>\n",
       "      <td>0</td>\n",
       "      <td>0.00</td>\n",
       "      <td>100.0</td>\n",
       "      <td>1.0</td>\n",
       "    </tr>\n",
       "    <tr>\n",
       "      <th>51668</th>\n",
       "      <td>300</td>\n",
       "      <td>0</td>\n",
       "      <td>0</td>\n",
       "      <td>0.00</td>\n",
       "      <td>50.0</td>\n",
       "      <td>1.0</td>\n",
       "    </tr>\n",
       "    <tr>\n",
       "      <th>117583</th>\n",
       "      <td>300</td>\n",
       "      <td>0</td>\n",
       "      <td>0</td>\n",
       "      <td>0.00</td>\n",
       "      <td>75.0</td>\n",
       "      <td>1.0</td>\n",
       "    </tr>\n",
       "    <tr>\n",
       "      <th>73349</th>\n",
       "      <td>300</td>\n",
       "      <td>0</td>\n",
       "      <td>0</td>\n",
       "      <td>0.00</td>\n",
       "      <td>50.0</td>\n",
       "      <td>1.0</td>\n",
       "    </tr>\n",
       "    <tr>\n",
       "      <th>128037</th>\n",
       "      <td>300</td>\n",
       "      <td>0</td>\n",
       "      <td>0</td>\n",
       "      <td>0.00</td>\n",
       "      <td>50.0</td>\n",
       "      <td>1.0</td>\n",
       "    </tr>\n",
       "  </tbody>\n",
       "</table>\n",
       "<p>109890 rows × 6 columns</p>\n",
       "</div>"
      ],
      "text/plain": [
       "        event_time_zone  offer_decline_count  cart_quantity  cart_total  \\\n",
       "169993              300                    0              1       65.00   \n",
       "128526              300                    0              0        0.00   \n",
       "95101               480                    0              2       77.88   \n",
       "175520              300                    0              1       49.33   \n",
       "83375               300                    0              0        0.00   \n",
       "...                 ...                  ...            ...         ...   \n",
       "188317              300                    0              0        0.00   \n",
       "51668               300                    0              0        0.00   \n",
       "117583              300                    0              0        0.00   \n",
       "73349               300                    0              0        0.00   \n",
       "128037              300                    0              0        0.00   \n",
       "\n",
       "        last_spend_value  offer_display_count  \n",
       "169993              50.0                  1.0  \n",
       "128526             275.0                  1.0  \n",
       "95101               75.0                  1.0  \n",
       "175520              50.0                  1.0  \n",
       "83375              100.0                  1.0  \n",
       "...                  ...                  ...  \n",
       "188317             100.0                  1.0  \n",
       "51668               50.0                  1.0  \n",
       "117583              75.0                  1.0  \n",
       "73349               50.0                  1.0  \n",
       "128037              50.0                  1.0  \n",
       "\n",
       "[109890 rows x 6 columns]"
      ]
     },
     "execution_count": 55,
     "metadata": {},
     "output_type": "execute_result"
    }
   ],
   "source": [
    "num = ['event_time_zone', 'offer_decline_count','cart_quantity','cart_total', 'last_spend_value', 'offer_display_count']\n",
    "train_copy1[num]"
   ]
  },
  {
   "cell_type": "code",
   "execution_count": 56,
   "id": "a37e859d",
   "metadata": {},
   "outputs": [],
   "source": [
    "# create at MinMaxScaler Object\n",
    "scaler = MinMaxScaler()"
   ]
  },
  {
   "cell_type": "code",
   "execution_count": 57,
   "id": "fe058453",
   "metadata": {},
   "outputs": [
    {
     "data": {
      "text/plain": [
       "MinMaxScaler()"
      ]
     },
     "execution_count": 57,
     "metadata": {},
     "output_type": "execute_result"
    }
   ],
   "source": [
    "# fit the scaler on the numerical columns\n",
    "scaler.fit(train_copy1[num])"
   ]
  },
  {
   "cell_type": "code",
   "execution_count": 58,
   "id": "c20bebf8",
   "metadata": {},
   "outputs": [],
   "source": [
    "# Transform the numerical columns of the train dataset\n",
    "train_copy1[num] = scaler.transform(train_copy1[num])"
   ]
  },
  {
   "cell_type": "code",
   "execution_count": 59,
   "id": "c40968c9",
   "metadata": {},
   "outputs": [],
   "source": [
    "# Transform the numerical columns of the validation dataset\n",
    "valid_copy1[num] = scaler.transform(valid_copy1[num])"
   ]
  },
  {
   "cell_type": "code",
   "execution_count": 60,
   "id": "200daf10",
   "metadata": {
    "scrolled": false
   },
   "outputs": [
    {
     "data": {
      "text/html": [
       "<div>\n",
       "<style scoped>\n",
       "    .dataframe tbody tr th:only-of-type {\n",
       "        vertical-align: middle;\n",
       "    }\n",
       "\n",
       "    .dataframe tbody tr th {\n",
       "        vertical-align: top;\n",
       "    }\n",
       "\n",
       "    .dataframe thead th {\n",
       "        text-align: right;\n",
       "    }\n",
       "</style>\n",
       "<table border=\"1\" class=\"dataframe\">\n",
       "  <thead>\n",
       "    <tr style=\"text-align: right;\">\n",
       "      <th></th>\n",
       "      <th>event_time_zone</th>\n",
       "      <th>offer_decline_count</th>\n",
       "      <th>cart_quantity</th>\n",
       "      <th>cart_total</th>\n",
       "      <th>last_spend_value</th>\n",
       "      <th>offer_display_count</th>\n",
       "    </tr>\n",
       "  </thead>\n",
       "  <tbody>\n",
       "    <tr>\n",
       "      <th>169993</th>\n",
       "      <td>0.750</td>\n",
       "      <td>0.0</td>\n",
       "      <td>0.003534</td>\n",
       "      <td>0.000285</td>\n",
       "      <td>0.000000</td>\n",
       "      <td>0.0</td>\n",
       "    </tr>\n",
       "    <tr>\n",
       "      <th>128526</th>\n",
       "      <td>0.750</td>\n",
       "      <td>0.0</td>\n",
       "      <td>0.000000</td>\n",
       "      <td>0.000000</td>\n",
       "      <td>0.115385</td>\n",
       "      <td>0.0</td>\n",
       "    </tr>\n",
       "    <tr>\n",
       "      <th>95101</th>\n",
       "      <td>0.875</td>\n",
       "      <td>0.0</td>\n",
       "      <td>0.007067</td>\n",
       "      <td>0.000342</td>\n",
       "      <td>0.012821</td>\n",
       "      <td>0.0</td>\n",
       "    </tr>\n",
       "    <tr>\n",
       "      <th>175520</th>\n",
       "      <td>0.750</td>\n",
       "      <td>0.0</td>\n",
       "      <td>0.003534</td>\n",
       "      <td>0.000216</td>\n",
       "      <td>0.000000</td>\n",
       "      <td>0.0</td>\n",
       "    </tr>\n",
       "    <tr>\n",
       "      <th>83375</th>\n",
       "      <td>0.750</td>\n",
       "      <td>0.0</td>\n",
       "      <td>0.000000</td>\n",
       "      <td>0.000000</td>\n",
       "      <td>0.025641</td>\n",
       "      <td>0.0</td>\n",
       "    </tr>\n",
       "    <tr>\n",
       "      <th>...</th>\n",
       "      <td>...</td>\n",
       "      <td>...</td>\n",
       "      <td>...</td>\n",
       "      <td>...</td>\n",
       "      <td>...</td>\n",
       "      <td>...</td>\n",
       "    </tr>\n",
       "    <tr>\n",
       "      <th>188317</th>\n",
       "      <td>0.750</td>\n",
       "      <td>0.0</td>\n",
       "      <td>0.000000</td>\n",
       "      <td>0.000000</td>\n",
       "      <td>0.025641</td>\n",
       "      <td>0.0</td>\n",
       "    </tr>\n",
       "    <tr>\n",
       "      <th>51668</th>\n",
       "      <td>0.750</td>\n",
       "      <td>0.0</td>\n",
       "      <td>0.000000</td>\n",
       "      <td>0.000000</td>\n",
       "      <td>0.000000</td>\n",
       "      <td>0.0</td>\n",
       "    </tr>\n",
       "    <tr>\n",
       "      <th>117583</th>\n",
       "      <td>0.750</td>\n",
       "      <td>0.0</td>\n",
       "      <td>0.000000</td>\n",
       "      <td>0.000000</td>\n",
       "      <td>0.012821</td>\n",
       "      <td>0.0</td>\n",
       "    </tr>\n",
       "    <tr>\n",
       "      <th>73349</th>\n",
       "      <td>0.750</td>\n",
       "      <td>0.0</td>\n",
       "      <td>0.000000</td>\n",
       "      <td>0.000000</td>\n",
       "      <td>0.000000</td>\n",
       "      <td>0.0</td>\n",
       "    </tr>\n",
       "    <tr>\n",
       "      <th>128037</th>\n",
       "      <td>0.750</td>\n",
       "      <td>0.0</td>\n",
       "      <td>0.000000</td>\n",
       "      <td>0.000000</td>\n",
       "      <td>0.000000</td>\n",
       "      <td>0.0</td>\n",
       "    </tr>\n",
       "  </tbody>\n",
       "</table>\n",
       "<p>109890 rows × 6 columns</p>\n",
       "</div>"
      ],
      "text/plain": [
       "        event_time_zone  offer_decline_count  cart_quantity  cart_total  \\\n",
       "169993            0.750                  0.0       0.003534    0.000285   \n",
       "128526            0.750                  0.0       0.000000    0.000000   \n",
       "95101             0.875                  0.0       0.007067    0.000342   \n",
       "175520            0.750                  0.0       0.003534    0.000216   \n",
       "83375             0.750                  0.0       0.000000    0.000000   \n",
       "...                 ...                  ...            ...         ...   \n",
       "188317            0.750                  0.0       0.000000    0.000000   \n",
       "51668             0.750                  0.0       0.000000    0.000000   \n",
       "117583            0.750                  0.0       0.000000    0.000000   \n",
       "73349             0.750                  0.0       0.000000    0.000000   \n",
       "128037            0.750                  0.0       0.000000    0.000000   \n",
       "\n",
       "        last_spend_value  offer_display_count  \n",
       "169993          0.000000                  0.0  \n",
       "128526          0.115385                  0.0  \n",
       "95101           0.012821                  0.0  \n",
       "175520          0.000000                  0.0  \n",
       "83375           0.025641                  0.0  \n",
       "...                  ...                  ...  \n",
       "188317          0.025641                  0.0  \n",
       "51668           0.000000                  0.0  \n",
       "117583          0.012821                  0.0  \n",
       "73349           0.000000                  0.0  \n",
       "128037          0.000000                  0.0  \n",
       "\n",
       "[109890 rows x 6 columns]"
      ]
     },
     "execution_count": 60,
     "metadata": {},
     "output_type": "execute_result"
    }
   ],
   "source": [
    "train_copy1[num]"
   ]
  },
  {
   "cell_type": "markdown",
   "id": "c1e7afc8",
   "metadata": {},
   "source": [
    "### Preprocessing categorical features\n",
    "\n",
    "Encoding categorical features"
   ]
  },
  {
   "cell_type": "code",
   "execution_count": 61,
   "id": "48e19c39",
   "metadata": {},
   "outputs": [
    {
     "data": {
      "text/html": [
       "<div>\n",
       "<style scoped>\n",
       "    .dataframe tbody tr th:only-of-type {\n",
       "        vertical-align: middle;\n",
       "    }\n",
       "\n",
       "    .dataframe tbody tr th {\n",
       "        vertical-align: top;\n",
       "    }\n",
       "\n",
       "    .dataframe thead th {\n",
       "        text-align: right;\n",
       "    }\n",
       "</style>\n",
       "<table border=\"1\" class=\"dataframe\">\n",
       "  <thead>\n",
       "    <tr style=\"text-align: right;\">\n",
       "      <th></th>\n",
       "      <th>event_type</th>\n",
       "      <th>user_status</th>\n",
       "      <th>last_offer_type</th>\n",
       "      <th>offer_acceptance_state</th>\n",
       "    </tr>\n",
       "  </thead>\n",
       "  <tbody>\n",
       "    <tr>\n",
       "      <th>169993</th>\n",
       "      <td>PAGE_LOAD</td>\n",
       "      <td>OC</td>\n",
       "      <td>F</td>\n",
       "      <td>IGNORED</td>\n",
       "    </tr>\n",
       "    <tr>\n",
       "      <th>128526</th>\n",
       "      <td>PAGE_LOAD</td>\n",
       "      <td>OC</td>\n",
       "      <td>P</td>\n",
       "      <td>IGNORED</td>\n",
       "    </tr>\n",
       "    <tr>\n",
       "      <th>95101</th>\n",
       "      <td>PAGE_LOAD</td>\n",
       "      <td>OC</td>\n",
       "      <td>C</td>\n",
       "      <td>IGNORED</td>\n",
       "    </tr>\n",
       "    <tr>\n",
       "      <th>175520</th>\n",
       "      <td>PAGE_LOAD</td>\n",
       "      <td>NC</td>\n",
       "      <td>C</td>\n",
       "      <td>IGNORED</td>\n",
       "    </tr>\n",
       "    <tr>\n",
       "      <th>83375</th>\n",
       "      <td>PAGE_LOAD</td>\n",
       "      <td>OC</td>\n",
       "      <td>P</td>\n",
       "      <td>IGNORED</td>\n",
       "    </tr>\n",
       "    <tr>\n",
       "      <th>...</th>\n",
       "      <td>...</td>\n",
       "      <td>...</td>\n",
       "      <td>...</td>\n",
       "      <td>...</td>\n",
       "    </tr>\n",
       "    <tr>\n",
       "      <th>188317</th>\n",
       "      <td>PAGE_LOAD</td>\n",
       "      <td>OC</td>\n",
       "      <td>P</td>\n",
       "      <td>IGNORED</td>\n",
       "    </tr>\n",
       "    <tr>\n",
       "      <th>51668</th>\n",
       "      <td>PAGE_LOAD</td>\n",
       "      <td>OC</td>\n",
       "      <td>P</td>\n",
       "      <td>IGNORED</td>\n",
       "    </tr>\n",
       "    <tr>\n",
       "      <th>117583</th>\n",
       "      <td>PAGE_LOAD</td>\n",
       "      <td>OC</td>\n",
       "      <td>P</td>\n",
       "      <td>IGNORED</td>\n",
       "    </tr>\n",
       "    <tr>\n",
       "      <th>73349</th>\n",
       "      <td>PAGE_LOAD</td>\n",
       "      <td>NC</td>\n",
       "      <td>F</td>\n",
       "      <td>IGNORED</td>\n",
       "    </tr>\n",
       "    <tr>\n",
       "      <th>128037</th>\n",
       "      <td>PAGE_LOAD</td>\n",
       "      <td>OC</td>\n",
       "      <td>F</td>\n",
       "      <td>IGNORED</td>\n",
       "    </tr>\n",
       "  </tbody>\n",
       "</table>\n",
       "<p>109890 rows × 4 columns</p>\n",
       "</div>"
      ],
      "text/plain": [
       "       event_type user_status last_offer_type offer_acceptance_state\n",
       "169993  PAGE_LOAD          OC               F                IGNORED\n",
       "128526  PAGE_LOAD          OC               P                IGNORED\n",
       "95101   PAGE_LOAD          OC               C                IGNORED\n",
       "175520  PAGE_LOAD          NC               C                IGNORED\n",
       "83375   PAGE_LOAD          OC               P                IGNORED\n",
       "...           ...         ...             ...                    ...\n",
       "188317  PAGE_LOAD          OC               P                IGNORED\n",
       "51668   PAGE_LOAD          OC               P                IGNORED\n",
       "117583  PAGE_LOAD          OC               P                IGNORED\n",
       "73349   PAGE_LOAD          NC               F                IGNORED\n",
       "128037  PAGE_LOAD          OC               F                IGNORED\n",
       "\n",
       "[109890 rows x 4 columns]"
      ]
     },
     "execution_count": 61,
     "metadata": {},
     "output_type": "execute_result"
    }
   ],
   "source": [
    "cat = ['event_type', 'user_status', 'last_offer_type', 'offer_acceptance_state']\n",
    "train_copy1[cat]"
   ]
  },
  {
   "cell_type": "code",
   "execution_count": 62,
   "id": "64731bae",
   "metadata": {
    "scrolled": true
   },
   "outputs": [
    {
     "data": {
      "text/plain": [
       "array(['PAGE_LOAD', 'CART_CHANGE'], dtype=object)"
      ]
     },
     "execution_count": 62,
     "metadata": {},
     "output_type": "execute_result"
    }
   ],
   "source": [
    "# Not ordinal but binary (loading a page or changing the cart)\n",
    "train_copy1['event_type'].unique()"
   ]
  },
  {
   "cell_type": "code",
   "execution_count": 63,
   "id": "57faa468",
   "metadata": {},
   "outputs": [
    {
     "data": {
      "text/plain": [
       "array(['OC', 'NC'], dtype=object)"
      ]
     },
     "execution_count": 63,
     "metadata": {},
     "output_type": "execute_result"
    }
   ],
   "source": [
    "# Not ordinal but binary (new customer or old customer)\n",
    "train_copy1['user_status'].unique()"
   ]
  },
  {
   "cell_type": "code",
   "execution_count": 64,
   "id": "e9a17567",
   "metadata": {},
   "outputs": [
    {
     "data": {
      "text/plain": [
       "array(['F', 'P', 'C', 'S'], dtype=object)"
      ]
     },
     "execution_count": 64,
     "metadata": {},
     "output_type": "execute_result"
    }
   ],
   "source": [
    "# Not ordinal (One hot encoding)\n",
    "train_copy1['last_offer_type'].unique()"
   ]
  },
  {
   "cell_type": "code",
   "execution_count": 65,
   "id": "804db46a",
   "metadata": {},
   "outputs": [
    {
     "data": {
      "text/plain": [
       "array(['IGNORED', 'DECLINED', 'ACCEPTED'], dtype=object)"
      ]
     },
     "execution_count": 65,
     "metadata": {},
     "output_type": "execute_result"
    }
   ],
   "source": [
    "# Not ordinal (One hot encoding)\n",
    "train_copy1['offer_acceptance_state'].unique()"
   ]
  },
  {
   "cell_type": "markdown",
   "id": "a563e925",
   "metadata": {},
   "source": [
    "#### Encoding"
   ]
  },
  {
   "cell_type": "markdown",
   "id": "a6c4f58f",
   "metadata": {},
   "source": [
    "##### event_type:"
   ]
  },
  {
   "cell_type": "code",
   "execution_count": 66,
   "id": "cc043ccc",
   "metadata": {},
   "outputs": [],
   "source": [
    "# create a LabelEncoder instance \n",
    "label_encoder = LabelEncoder()\n",
    "\n",
    "#train:\n",
    "# fit_transform the event_type column in the train\n",
    "train_copy1['event_type'] = label_encoder.fit_transform(train_copy1['event_type'])\n",
    "\n",
    "#__________________________________________________________\n",
    "#valid:\n",
    "# transform the event_type column in the valid\n",
    "valid_copy1['event_type'] = label_encoder.transform(valid_copy1['event_type'])"
   ]
  },
  {
   "cell_type": "markdown",
   "id": "965db16f",
   "metadata": {},
   "source": [
    "##### user_status:"
   ]
  },
  {
   "cell_type": "code",
   "execution_count": 67,
   "id": "f865b3d7",
   "metadata": {},
   "outputs": [],
   "source": [
    "# create a LabelEncoder instance \n",
    "label_encoder = LabelEncoder()\n",
    "\n",
    "#train:\n",
    "# fit_transform the user_status column in the train\n",
    "train_copy1['user_status'] = label_encoder.fit_transform(train_copy1['user_status'])\n",
    "\n",
    "#___________________________________________________________\n",
    "#valid:\n",
    "# transform the user_status column in the valid\n",
    "valid_copy1['user_status'] = label_encoder.transform(valid_copy1['user_status'])"
   ]
  },
  {
   "cell_type": "markdown",
   "id": "6ed7c925",
   "metadata": {},
   "source": [
    "##### last_offer_type:"
   ]
  },
  {
   "cell_type": "code",
   "execution_count": 68,
   "id": "0de1c9ea",
   "metadata": {},
   "outputs": [],
   "source": [
    "# create a OneHotEncoder instance\n",
    "onehot_encoder = OneHotEncoder()\n",
    "\n",
    "#train:\n",
    "# fit_transform the last_offer_type column in the train\n",
    "train_encoded = onehot_encoder.fit_transform(train_copy1.last_offer_type.values.reshape(-1, 1)).toarray()\n",
    "\n",
    "# convert encoded_data into a DataFrame and add column names\n",
    "train_encoded_data = pd.DataFrame(train_encoded, columns=onehot_encoder.get_feature_names_out(['last_offer_type']))\n",
    "\n",
    "# concatenate the encoded dataset with the original train dataset\n",
    "train_copy_encoded = pd.concat([train_copy1.reset_index(drop = True), train_encoded_data.reset_index(drop = True)], axis=1)\n",
    "\n",
    "# drop the last_offer_type column from the train_copy_encoded\n",
    "train_copy_encoded = train_copy_encoded.drop(['last_offer_type'], axis = 1)\n",
    "\n",
    "#______________________________________________________\n",
    "#valid:\n",
    "# transform the last_offer_type column in the valid\n",
    "valid_encoded = onehot_encoder.transform(valid_copy1.last_offer_type.values.reshape(-1, 1)).toarray()\n",
    "\n",
    "# convert encoded_data into a DataFrame and add column names\n",
    "valid_encoded_data = pd.DataFrame(valid_encoded, columns=onehot_encoder.get_feature_names_out(['last_offer_type']))\n",
    "\n",
    "# concatenate the encoded dataset with the original valid dataset\n",
    "valid_copy_encoded = pd.concat([valid_copy1.reset_index(drop = True), valid_encoded_data.reset_index(drop = True)], axis=1)\n",
    "\n",
    "# drop the last_offer_type column from the valid_copy_encoded\n",
    "valid_copy_encoded = valid_copy_encoded.drop(['last_offer_type'], axis = 1)"
   ]
  },
  {
   "cell_type": "markdown",
   "id": "74b58c72",
   "metadata": {},
   "source": [
    "##### offer_acceptance_state:"
   ]
  },
  {
   "cell_type": "code",
   "execution_count": 69,
   "id": "7765cf04",
   "metadata": {},
   "outputs": [],
   "source": [
    "# create a OneHotEncoder instance\n",
    "onehot_encoder = OneHotEncoder()\n",
    "\n",
    "#train:\n",
    "# fit_transform the offer_acceptance_state column in the train\n",
    "train_encoded2 = onehot_encoder.fit_transform(train_copy_encoded.offer_acceptance_state.values.reshape(-1, 1)).toarray()\n",
    "\n",
    "# convert encoded_data into a DataFrame and add column names\n",
    "train_encoded_data2 = pd.DataFrame(train_encoded2, columns=onehot_encoder.get_feature_names_out(['offer_acceptance_state']))\n",
    "\n",
    "# concatenate the encoded dataset with the original train dataset\n",
    "train_copy_encoded = pd.concat([train_copy_encoded.reset_index(drop = True), train_encoded_data2.reset_index(drop = True)], axis=1)\n",
    "\n",
    "# drop the offer_acceptance_state column from the train_copy_encoded\n",
    "train_copy_encoded = train_copy_encoded.drop(['offer_acceptance_state'], axis = 1)\n",
    "\n",
    "#______________________________________________________\n",
    "#valid:\n",
    "# transform the offer_acceptance_state column in the valid\n",
    "valid_encoded2 = onehot_encoder.transform(valid_copy1.offer_acceptance_state.values.reshape(-1, 1)).toarray()\n",
    "\n",
    "# convert encoded_data into a DataFrame and add column names\n",
    "valid_encoded_data2 = pd.DataFrame(valid_encoded2, columns=onehot_encoder.get_feature_names_out(['offer_acceptance_state']))\n",
    "\n",
    "# concatenate the encoded dataset with the original valid dataset\n",
    "valid_copy_encoded = pd.concat([valid_copy_encoded.reset_index(drop = True), valid_encoded_data2.reset_index(drop = True)], axis=1)\n",
    "\n",
    "# drop the offer_acceptance_state column from the valid_copy_encoded\n",
    "valid_copy_encoded = valid_copy_encoded.drop(['offer_acceptance_state'], axis = 1)"
   ]
  },
  {
   "cell_type": "code",
   "execution_count": 70,
   "id": "42ec24d3",
   "metadata": {
    "scrolled": false
   },
   "outputs": [
    {
     "data": {
      "text/html": [
       "<div>\n",
       "<style scoped>\n",
       "    .dataframe tbody tr th:only-of-type {\n",
       "        vertical-align: middle;\n",
       "    }\n",
       "\n",
       "    .dataframe tbody tr th {\n",
       "        vertical-align: top;\n",
       "    }\n",
       "\n",
       "    .dataframe thead th {\n",
       "        text-align: right;\n",
       "    }\n",
       "</style>\n",
       "<table border=\"1\" class=\"dataframe\">\n",
       "  <thead>\n",
       "    <tr style=\"text-align: right;\">\n",
       "      <th></th>\n",
       "      <th>event_time_zone</th>\n",
       "      <th>event_type</th>\n",
       "      <th>offer_decline_count</th>\n",
       "      <th>user_status</th>\n",
       "      <th>cart_quantity</th>\n",
       "      <th>cart_total</th>\n",
       "      <th>last_spend_value</th>\n",
       "      <th>offer_display_count</th>\n",
       "      <th>target</th>\n",
       "      <th>last_offer_type_C</th>\n",
       "      <th>last_offer_type_F</th>\n",
       "      <th>last_offer_type_P</th>\n",
       "      <th>last_offer_type_S</th>\n",
       "      <th>offer_acceptance_state_ACCEPTED</th>\n",
       "      <th>offer_acceptance_state_DECLINED</th>\n",
       "      <th>offer_acceptance_state_IGNORED</th>\n",
       "    </tr>\n",
       "  </thead>\n",
       "  <tbody>\n",
       "    <tr>\n",
       "      <th>0</th>\n",
       "      <td>0.791667</td>\n",
       "      <td>1</td>\n",
       "      <td>0.0</td>\n",
       "      <td>1</td>\n",
       "      <td>0.000000</td>\n",
       "      <td>0.000000</td>\n",
       "      <td>0.000000</td>\n",
       "      <td>0.0</td>\n",
       "      <td>0</td>\n",
       "      <td>0.0</td>\n",
       "      <td>1.0</td>\n",
       "      <td>0.0</td>\n",
       "      <td>0.0</td>\n",
       "      <td>0.0</td>\n",
       "      <td>0.0</td>\n",
       "      <td>1.0</td>\n",
       "    </tr>\n",
       "    <tr>\n",
       "      <th>1</th>\n",
       "      <td>0.750000</td>\n",
       "      <td>1</td>\n",
       "      <td>0.0</td>\n",
       "      <td>0</td>\n",
       "      <td>0.000000</td>\n",
       "      <td>0.000000</td>\n",
       "      <td>0.000000</td>\n",
       "      <td>0.0</td>\n",
       "      <td>0</td>\n",
       "      <td>0.0</td>\n",
       "      <td>1.0</td>\n",
       "      <td>0.0</td>\n",
       "      <td>0.0</td>\n",
       "      <td>0.0</td>\n",
       "      <td>0.0</td>\n",
       "      <td>1.0</td>\n",
       "    </tr>\n",
       "    <tr>\n",
       "      <th>2</th>\n",
       "      <td>0.750000</td>\n",
       "      <td>1</td>\n",
       "      <td>0.0</td>\n",
       "      <td>1</td>\n",
       "      <td>0.000000</td>\n",
       "      <td>0.000000</td>\n",
       "      <td>0.000000</td>\n",
       "      <td>0.0</td>\n",
       "      <td>0</td>\n",
       "      <td>0.0</td>\n",
       "      <td>1.0</td>\n",
       "      <td>0.0</td>\n",
       "      <td>0.0</td>\n",
       "      <td>0.0</td>\n",
       "      <td>0.0</td>\n",
       "      <td>1.0</td>\n",
       "    </tr>\n",
       "    <tr>\n",
       "      <th>3</th>\n",
       "      <td>0.833333</td>\n",
       "      <td>1</td>\n",
       "      <td>0.0</td>\n",
       "      <td>1</td>\n",
       "      <td>0.000000</td>\n",
       "      <td>0.000000</td>\n",
       "      <td>0.000000</td>\n",
       "      <td>0.0</td>\n",
       "      <td>0</td>\n",
       "      <td>0.0</td>\n",
       "      <td>1.0</td>\n",
       "      <td>0.0</td>\n",
       "      <td>0.0</td>\n",
       "      <td>0.0</td>\n",
       "      <td>0.0</td>\n",
       "      <td>1.0</td>\n",
       "    </tr>\n",
       "    <tr>\n",
       "      <th>4</th>\n",
       "      <td>0.791667</td>\n",
       "      <td>1</td>\n",
       "      <td>0.0</td>\n",
       "      <td>1</td>\n",
       "      <td>0.007067</td>\n",
       "      <td>0.000351</td>\n",
       "      <td>0.000000</td>\n",
       "      <td>0.0</td>\n",
       "      <td>0</td>\n",
       "      <td>1.0</td>\n",
       "      <td>0.0</td>\n",
       "      <td>0.0</td>\n",
       "      <td>0.0</td>\n",
       "      <td>0.0</td>\n",
       "      <td>0.0</td>\n",
       "      <td>1.0</td>\n",
       "    </tr>\n",
       "    <tr>\n",
       "      <th>...</th>\n",
       "      <td>...</td>\n",
       "      <td>...</td>\n",
       "      <td>...</td>\n",
       "      <td>...</td>\n",
       "      <td>...</td>\n",
       "      <td>...</td>\n",
       "      <td>...</td>\n",
       "      <td>...</td>\n",
       "      <td>...</td>\n",
       "      <td>...</td>\n",
       "      <td>...</td>\n",
       "      <td>...</td>\n",
       "      <td>...</td>\n",
       "      <td>...</td>\n",
       "      <td>...</td>\n",
       "      <td>...</td>\n",
       "    </tr>\n",
       "    <tr>\n",
       "      <th>60078</th>\n",
       "      <td>0.687500</td>\n",
       "      <td>1</td>\n",
       "      <td>0.0</td>\n",
       "      <td>0</td>\n",
       "      <td>0.000000</td>\n",
       "      <td>0.000000</td>\n",
       "      <td>0.000000</td>\n",
       "      <td>0.0</td>\n",
       "      <td>0</td>\n",
       "      <td>0.0</td>\n",
       "      <td>1.0</td>\n",
       "      <td>0.0</td>\n",
       "      <td>0.0</td>\n",
       "      <td>0.0</td>\n",
       "      <td>0.0</td>\n",
       "      <td>1.0</td>\n",
       "    </tr>\n",
       "    <tr>\n",
       "      <th>60079</th>\n",
       "      <td>0.750000</td>\n",
       "      <td>1</td>\n",
       "      <td>0.0</td>\n",
       "      <td>1</td>\n",
       "      <td>0.003534</td>\n",
       "      <td>0.000132</td>\n",
       "      <td>0.000000</td>\n",
       "      <td>0.0</td>\n",
       "      <td>0</td>\n",
       "      <td>1.0</td>\n",
       "      <td>0.0</td>\n",
       "      <td>0.0</td>\n",
       "      <td>0.0</td>\n",
       "      <td>0.0</td>\n",
       "      <td>0.0</td>\n",
       "      <td>1.0</td>\n",
       "    </tr>\n",
       "    <tr>\n",
       "      <th>60080</th>\n",
       "      <td>0.750000</td>\n",
       "      <td>1</td>\n",
       "      <td>0.0</td>\n",
       "      <td>1</td>\n",
       "      <td>0.003534</td>\n",
       "      <td>0.000197</td>\n",
       "      <td>0.000000</td>\n",
       "      <td>0.0</td>\n",
       "      <td>0</td>\n",
       "      <td>1.0</td>\n",
       "      <td>0.0</td>\n",
       "      <td>0.0</td>\n",
       "      <td>0.0</td>\n",
       "      <td>0.0</td>\n",
       "      <td>0.0</td>\n",
       "      <td>1.0</td>\n",
       "    </tr>\n",
       "    <tr>\n",
       "      <th>60081</th>\n",
       "      <td>0.750000</td>\n",
       "      <td>1</td>\n",
       "      <td>0.0</td>\n",
       "      <td>0</td>\n",
       "      <td>0.000000</td>\n",
       "      <td>0.000000</td>\n",
       "      <td>0.000000</td>\n",
       "      <td>0.0</td>\n",
       "      <td>0</td>\n",
       "      <td>0.0</td>\n",
       "      <td>0.0</td>\n",
       "      <td>1.0</td>\n",
       "      <td>0.0</td>\n",
       "      <td>0.0</td>\n",
       "      <td>0.0</td>\n",
       "      <td>1.0</td>\n",
       "    </tr>\n",
       "    <tr>\n",
       "      <th>60082</th>\n",
       "      <td>0.750000</td>\n",
       "      <td>1</td>\n",
       "      <td>0.0</td>\n",
       "      <td>0</td>\n",
       "      <td>0.000000</td>\n",
       "      <td>0.000000</td>\n",
       "      <td>0.102564</td>\n",
       "      <td>0.0</td>\n",
       "      <td>0</td>\n",
       "      <td>0.0</td>\n",
       "      <td>0.0</td>\n",
       "      <td>1.0</td>\n",
       "      <td>0.0</td>\n",
       "      <td>0.0</td>\n",
       "      <td>0.0</td>\n",
       "      <td>1.0</td>\n",
       "    </tr>\n",
       "  </tbody>\n",
       "</table>\n",
       "<p>60083 rows × 16 columns</p>\n",
       "</div>"
      ],
      "text/plain": [
       "       event_time_zone  event_type  offer_decline_count  user_status  \\\n",
       "0             0.791667           1                  0.0            1   \n",
       "1             0.750000           1                  0.0            0   \n",
       "2             0.750000           1                  0.0            1   \n",
       "3             0.833333           1                  0.0            1   \n",
       "4             0.791667           1                  0.0            1   \n",
       "...                ...         ...                  ...          ...   \n",
       "60078         0.687500           1                  0.0            0   \n",
       "60079         0.750000           1                  0.0            1   \n",
       "60080         0.750000           1                  0.0            1   \n",
       "60081         0.750000           1                  0.0            0   \n",
       "60082         0.750000           1                  0.0            0   \n",
       "\n",
       "       cart_quantity  cart_total  last_spend_value  offer_display_count  \\\n",
       "0           0.000000    0.000000          0.000000                  0.0   \n",
       "1           0.000000    0.000000          0.000000                  0.0   \n",
       "2           0.000000    0.000000          0.000000                  0.0   \n",
       "3           0.000000    0.000000          0.000000                  0.0   \n",
       "4           0.007067    0.000351          0.000000                  0.0   \n",
       "...              ...         ...               ...                  ...   \n",
       "60078       0.000000    0.000000          0.000000                  0.0   \n",
       "60079       0.003534    0.000132          0.000000                  0.0   \n",
       "60080       0.003534    0.000197          0.000000                  0.0   \n",
       "60081       0.000000    0.000000          0.000000                  0.0   \n",
       "60082       0.000000    0.000000          0.102564                  0.0   \n",
       "\n",
       "       target  last_offer_type_C  last_offer_type_F  last_offer_type_P  \\\n",
       "0           0                0.0                1.0                0.0   \n",
       "1           0                0.0                1.0                0.0   \n",
       "2           0                0.0                1.0                0.0   \n",
       "3           0                0.0                1.0                0.0   \n",
       "4           0                1.0                0.0                0.0   \n",
       "...       ...                ...                ...                ...   \n",
       "60078       0                0.0                1.0                0.0   \n",
       "60079       0                1.0                0.0                0.0   \n",
       "60080       0                1.0                0.0                0.0   \n",
       "60081       0                0.0                0.0                1.0   \n",
       "60082       0                0.0                0.0                1.0   \n",
       "\n",
       "       last_offer_type_S  offer_acceptance_state_ACCEPTED  \\\n",
       "0                    0.0                              0.0   \n",
       "1                    0.0                              0.0   \n",
       "2                    0.0                              0.0   \n",
       "3                    0.0                              0.0   \n",
       "4                    0.0                              0.0   \n",
       "...                  ...                              ...   \n",
       "60078                0.0                              0.0   \n",
       "60079                0.0                              0.0   \n",
       "60080                0.0                              0.0   \n",
       "60081                0.0                              0.0   \n",
       "60082                0.0                              0.0   \n",
       "\n",
       "       offer_acceptance_state_DECLINED  offer_acceptance_state_IGNORED  \n",
       "0                                  0.0                             1.0  \n",
       "1                                  0.0                             1.0  \n",
       "2                                  0.0                             1.0  \n",
       "3                                  0.0                             1.0  \n",
       "4                                  0.0                             1.0  \n",
       "...                                ...                             ...  \n",
       "60078                              0.0                             1.0  \n",
       "60079                              0.0                             1.0  \n",
       "60080                              0.0                             1.0  \n",
       "60081                              0.0                             1.0  \n",
       "60082                              0.0                             1.0  \n",
       "\n",
       "[60083 rows x 16 columns]"
      ]
     },
     "execution_count": 70,
     "metadata": {},
     "output_type": "execute_result"
    }
   ],
   "source": [
    "valid_copy_encoded"
   ]
  },
  {
   "cell_type": "markdown",
   "id": "e8ccbb03",
   "metadata": {},
   "source": [
    "### Deploying the LogisticRegression() model"
   ]
  },
  {
   "cell_type": "code",
   "execution_count": 71,
   "id": "cdee52f4",
   "metadata": {},
   "outputs": [],
   "source": [
    "# Extract X and y from the train dataset\n",
    "X_train = train_copy_encoded.drop('target', axis=1)\n",
    "y_train = train_copy_encoded[['target']]"
   ]
  },
  {
   "cell_type": "code",
   "execution_count": 72,
   "id": "70ad6b08",
   "metadata": {},
   "outputs": [],
   "source": [
    "# Extract X and y from the valid dataset\n",
    "X_valid = valid_copy_encoded.drop('target', axis=1)\n",
    "y_valid = valid_copy_encoded[['target']]"
   ]
  },
  {
   "cell_type": "code",
   "execution_count": 73,
   "id": "65bb6e2a",
   "metadata": {},
   "outputs": [],
   "source": [
    "y_train = y_train.reset_index(drop = True)\n",
    "y_valid = y_valid.reset_index(drop = True)"
   ]
  },
  {
   "cell_type": "code",
   "execution_count": 78,
   "id": "918d8802",
   "metadata": {},
   "outputs": [
    {
     "name": "stderr",
     "output_type": "stream",
     "text": [
      "C:\\Users\\Lenovo\\anaconda3\\lib\\site-packages\\sklearn\\linear_model\\_logistic.py:814: ConvergenceWarning: lbfgs failed to converge (status=1):\n",
      "STOP: TOTAL NO. of ITERATIONS REACHED LIMIT.\n",
      "\n",
      "Increase the number of iterations (max_iter) or scale the data as shown in:\n",
      "    https://scikit-learn.org/stable/modules/preprocessing.html\n",
      "Please also refer to the documentation for alternative solver options:\n",
      "    https://scikit-learn.org/stable/modules/linear_model.html#logistic-regression\n",
      "  n_iter_i = _check_optimize_result(\n"
     ]
    },
    {
     "data": {
      "text/plain": [
       "LogisticRegression(class_weight='balanced')"
      ]
     },
     "execution_count": 78,
     "metadata": {},
     "output_type": "execute_result"
    }
   ],
   "source": [
    "# Define and fit the model\n",
    "model = LogisticRegression(class_weight='balanced')\n",
    "model.fit(X_train, y_train.to_numpy().ravel())"
   ]
  },
  {
   "cell_type": "code",
   "execution_count": 79,
   "id": "a683ca55",
   "metadata": {},
   "outputs": [],
   "source": [
    "# predict probabilities on train and valid sets\n",
    "y_train_scores = model.predict_proba(X_train)[:, 1]\n",
    "y_valid_scores = model.predict_proba(X_valid)[:,1]"
   ]
  },
  {
   "cell_type": "code",
   "execution_count": 80,
   "id": "afa9dd29",
   "metadata": {},
   "outputs": [],
   "source": [
    "# calculate AUC scores on train and valid sets\n",
    "train_auc = roc_auc_score(y_train, y_train_scores)\n",
    "valid_auc = roc_auc_score(y_valid, y_valid_scores)"
   ]
  },
  {
   "cell_type": "code",
   "execution_count": 81,
   "id": "b12f9902",
   "metadata": {},
   "outputs": [],
   "source": [
    "# calculate false positive rates and true positive rates for ROC curves\n",
    "train_fpr, train_tpr, _ = roc_curve(y_train, y_train_scores)\n",
    "valid_fpr, valid_tpr, _ = roc_curve(y_valid, y_valid_scores)"
   ]
  },
  {
   "cell_type": "code",
   "execution_count": 82,
   "id": "26e1ea61",
   "metadata": {},
   "outputs": [
    {
     "data": {
      "image/png": "[encoded data removed]",
      "text/plain": [
       "<Figure size 432x288 with 1 Axes>"
      ]
     },
     "metadata": {
      "needs_background": "light"
     },
     "output_type": "display_data"
    }
   ],
   "source": [
    "# plot ROC curves\n",
    "plt.plot(train_fpr, train_tpr,'-r', label=f\"Train AUC = {train_auc:.3f}\")\n",
    "plt.plot(valid_fpr, valid_tpr,'-b',  label=f\"Valid AUC = {valid_auc:.3f}\")\n",
    "plt.plot([0, 1], [0, 1], color='grey', linestyle='--', label = 'Random')\n",
    "plt.xlabel('False Positive Rate')\n",
    "plt.ylabel('True Positive Rate')\n",
    "plt.title('ROC Curves')\n",
    "plt.legend(loc = 'lower right')\n",
    "plt.legend()\n",
    "plt.show()"
   ]
  },
  {
   "cell_type": "code",
   "execution_count": 83,
   "id": "4b169c96",
   "metadata": {},
   "outputs": [
    {
     "name": "stdout",
     "output_type": "stream",
     "text": [
      "Training Accuracy: 0.8034125034125034\n",
      "Validation Accuracy: 0.7891583309754839\n"
     ]
    }
   ],
   "source": [
    "print(f'Training Accuracy: {model.score(X_train, y_train)}')\n",
    "print(f'Validation Accuracy: {model.score(X_valid, y_valid)}')"
   ]
  },
  {
   "cell_type": "code",
   "execution_count": 84,
   "id": "30db9b02",
   "metadata": {},
   "outputs": [
    {
     "data": {
      "text/plain": [
       "Text(0.5, 1.0, 'Confusion Matrix for Baseline')"
      ]
     },
     "execution_count": 84,
     "metadata": {},
     "output_type": "execute_result"
    },
    {
     "data": {
      "image/png": "[encoded data removed]",
      "text/plain": [
       "<Figure size 432x288 with 2 Axes>"
      ]
     },
     "metadata": {
      "needs_background": "light"
     },
     "output_type": "display_data"
    }
   ],
   "source": [
    "# Confusion Matrix\n",
    "y_pred_values = model.predict(X_valid)\n",
    "cf_matrix = confusion_matrix(y_valid, y_pred_values)\n",
    "sns.heatmap(cf_matrix, annot = True)\n",
    "plt.title('Confusion Matrix for Baseline')"
   ]
  },
  {
   "cell_type": "code",
   "execution_count": 85,
   "id": "744fd8a6",
   "metadata": {},
   "outputs": [
    {
     "name": "stdout",
     "output_type": "stream",
     "text": [
      "              precision    recall  f1-score   support\n",
      "\n",
      "           0       0.99      0.79      0.88     57885\n",
      "           1       0.12      0.79      0.21      2198\n",
      "\n",
      "    accuracy                           0.79     60083\n",
      "   macro avg       0.56      0.79      0.55     60083\n",
      "weighted avg       0.96      0.79      0.85     60083\n",
      "\n"
     ]
    }
   ],
   "source": [
    "print(classification_report(y_valid, y_pred_values))"
   ]
  },
  {
   "cell_type": "markdown",
   "id": "0d4baa19",
   "metadata": {},
   "source": [
    "##### Results:\n",
    "- The Logistic Regression performed well on both the training dataset and the validation dataset with an almost 0.83 auc score for both\n",
    "- However, the confusion matrix and the classification report reveal that it was only able to capture the 0's (users who didn't purchase) but failed to capture the 1's  (users who purchased)\n",
    "- This may be because this model uses a very naive baseline\n",
    "\n",
    "Let us improve the performance:"
   ]
  },
  {
   "cell_type": "markdown",
   "id": "2fbe4eee",
   "metadata": {},
   "source": [
    "___\n",
    "# 3 Improved System\n",
    "\n",
    "In this section, I will iteratively refine my preprocessing techniques and features (e.g., by including all features, engineering new ones, and then selecting the most powerful ones) to improve the performance of my model on the validation set.\n",
    "\n",
    "1. Removing all user duplicates\n",
    "2. Dropping the id columns\n",
    "3. Defining a function to extract datetime features from datetime columns and to calculate a new feature represented by the time elapsed between session start and session expiry (session_duration) \n",
    "4. Defining the preprocessing step for numerical columns which includes SimpleImputer() by median (since the data is skewed) and MinMaxScaler()\n",
    "5. Defining the preprocessing step for categorical columns which includes SimpleImputer() by mode and OneHotEncoder()\n",
    "6. Combine the feature engineering step and preprocessing steps using a pipeline\n",
    "7. Prepare the X_train and X_test using the defined pipeline\n",
    "8. Defining the feature selection step to select the most important features\n",
    "9. Deploying the LogisticRegression() model on the final selected features"
   ]
  },
  {
   "cell_type": "code",
   "execution_count": 86,
   "id": "3b463daf",
   "metadata": {},
   "outputs": [],
   "source": [
    "# Let's create a new copy of the train and valid datasets\n",
    "train_copy2 = train.copy()\n",
    "valid_copy2 = valid.copy()"
   ]
  },
  {
   "cell_type": "markdown",
   "id": "8befbd98",
   "metadata": {},
   "source": [
    "**Removing user duplicates**"
   ]
  },
  {
   "cell_type": "code",
   "execution_count": 87,
   "id": "72dec05c",
   "metadata": {},
   "outputs": [],
   "source": [
    "train_copy2 = train_copy2.drop_duplicates(subset=['user_id'], keep='first')"
   ]
  },
  {
   "cell_type": "code",
   "execution_count": 88,
   "id": "0c9c5d65",
   "metadata": {},
   "outputs": [],
   "source": [
    "valid_copy2 = valid_copy2.drop_duplicates(subset=['user_id'], keep='first')"
   ]
  },
  {
   "cell_type": "markdown",
   "id": "471c053a",
   "metadata": {},
   "source": [
    "**Dropping the id columns and extracting X and y**"
   ]
  },
  {
   "cell_type": "code",
   "execution_count": 89,
   "id": "dee5bc8f",
   "metadata": {},
   "outputs": [],
   "source": [
    "train_copy2 = train_copy2.drop(['user_id', 'session_id'], axis = 1)\n",
    "valid_copy2 = valid_copy2.drop(['user_id', 'session_id'], axis = 1)"
   ]
  },
  {
   "cell_type": "code",
   "execution_count": 90,
   "id": "0987eb1a",
   "metadata": {},
   "outputs": [],
   "source": [
    "# Extract X and y from the train dataset\n",
    "X_train = train_copy2.drop('target', axis=1)\n",
    "y_train = train_copy2[['target']]"
   ]
  },
  {
   "cell_type": "code",
   "execution_count": 91,
   "id": "5a40b293",
   "metadata": {},
   "outputs": [],
   "source": [
    "# Extract X and y from the valid dataset\n",
    "X_valid = valid_copy2.drop('target', axis=1)\n",
    "y_valid = valid_copy2[['target']]"
   ]
  },
  {
   "cell_type": "markdown",
   "id": "027f2792",
   "metadata": {},
   "source": [
    "## Feature Engineering"
   ]
  },
  {
   "cell_type": "markdown",
   "id": "f70c436e",
   "metadata": {},
   "source": [
    "Let's derive some useful features:\n",
    "- The datetime features for the event_time datetime variable\n",
    "- The session duration which shows the amount of time every user spent surfing the Ecommerce shop in seconds"
   ]
  },
  {
   "cell_type": "code",
   "execution_count": 92,
   "id": "3071dfcd",
   "metadata": {},
   "outputs": [],
   "source": [
    "datetimefeatures_ix = [0, 1, 2]"
   ]
  },
  {
   "cell_type": "code",
   "execution_count": 93,
   "id": "f5928cbf",
   "metadata": {},
   "outputs": [],
   "source": [
    "def add_extra_features(df):\n",
    "    # extract datetime features from a event_time column\n",
    "    event_time_year = df['event_time'].dt.year\n",
    "    event_time_month = df['event_time'].dt.month\n",
    "    event_time_day = df['event_time'].dt.day\n",
    "    event_time_hour = df['event_time'].dt.hour\n",
    "    event_time_minute = df['event_time'].dt.minute\n",
    "    event_time_second = df['event_time'].dt.second\n",
    "    # create a session duration (in seconds)\n",
    "    session_duration = (df['session_expiry_time'] - df['session_start_time']).dt.total_seconds()\n",
    "    return np.c_[df, event_time_year, event_time_month, event_time_day, event_time_hour, event_time_minute, event_time_second, \n",
    "                 session_duration]"
   ]
  },
  {
   "cell_type": "code",
   "execution_count": 94,
   "id": "aaa24ef7",
   "metadata": {},
   "outputs": [],
   "source": [
    "add_extra_features = FunctionTransformer(add_extra_features, validate = False)"
   ]
  },
  {
   "cell_type": "markdown",
   "id": "7a7a62d1",
   "metadata": {},
   "source": [
    "#### Testing the feature engineering transformer"
   ]
  },
  {
   "cell_type": "code",
   "execution_count": 95,
   "id": "5c880bea",
   "metadata": {},
   "outputs": [],
   "source": [
    "X_train_sample = X_train.sample(n=400, random_state = 0)"
   ]
  },
  {
   "cell_type": "code",
   "execution_count": 96,
   "id": "46848bcf",
   "metadata": {},
   "outputs": [],
   "source": [
    "X_train_sample_tr = add_extra_features.fit_transform(X_train_sample)"
   ]
  },
  {
   "cell_type": "code",
   "execution_count": 97,
   "id": "2dc7171c",
   "metadata": {},
   "outputs": [
    {
     "data": {
      "text/plain": [
       "array([[Timestamp('2017-03-04 02:49:37.897000+0000', tz='UTC'),\n",
       "        Timestamp('2017-03-04 03:19:37.897000+0000', tz='UTC'),\n",
       "        Timestamp('2017-03-04 02:49:28.046000+0000', tz='UTC'), ..., 49,\n",
       "        28, 1800.0],\n",
       "       [Timestamp('2017-03-05 03:44:56.164000+0000', tz='UTC'),\n",
       "        Timestamp('2017-03-05 04:14:56.164000+0000', tz='UTC'),\n",
       "        Timestamp('2017-03-05 03:44:55.857000+0000', tz='UTC'), ..., 44,\n",
       "        55, 1800.0],\n",
       "       [Timestamp('2017-03-07 03:34:32.190000+0000', tz='UTC'),\n",
       "        Timestamp('2017-03-07 04:04:32.490000+0000', tz='UTC'),\n",
       "        Timestamp('2017-03-07 03:43:10.333000+0000', tz='UTC'), ..., 43,\n",
       "        10, 1800.3000000000002],\n",
       "       ...,\n",
       "       [Timestamp('2017-03-06 23:24:09.995000+0000', tz='UTC'),\n",
       "        Timestamp('2017-03-06 23:57:30.263000+0000', tz='UTC'),\n",
       "        Timestamp('2017-03-06 23:27:52.774000+0000', tz='UTC'), ..., 27,\n",
       "        52, 2000.268],\n",
       "       [Timestamp('2017-03-03 21:38:01.784000+0000', tz='UTC'),\n",
       "        Timestamp('2017-03-03 22:08:01.784000+0000', tz='UTC'),\n",
       "        Timestamp('2017-03-03 21:38:01.290000+0000', tz='UTC'), ..., 38,\n",
       "        1, 1800.0],\n",
       "       [Timestamp('2017-03-04 18:18:27.437000+0000', tz='UTC'),\n",
       "        Timestamp('2017-03-04 18:48:27.437000+0000', tz='UTC'),\n",
       "        Timestamp('2017-03-04 18:18:26.829000+0000', tz='UTC'), ..., 18,\n",
       "        26, 1800.0]], dtype=object)"
      ]
     },
     "execution_count": 97,
     "metadata": {},
     "output_type": "execute_result"
    }
   ],
   "source": [
    "X_train_sample_tr"
   ]
  },
  {
   "cell_type": "code",
   "execution_count": 98,
   "id": "9db309c3",
   "metadata": {},
   "outputs": [],
   "source": [
    "# Package it into a df for a better visualization\n",
    "X_train_sample_tr = pd.DataFrame(X_train_sample_tr, columns = list(X_train_sample.columns) + \n",
    "                ['event_time_year', 'event_time_month', 'event_time_day', 'event_time_hour', 'event_time_minute', 'event_time_second', \n",
    "                 'session_duration'], index = X_train_sample.index)"
   ]
  },
  {
   "cell_type": "code",
   "execution_count": 99,
   "id": "c085761b",
   "metadata": {
    "scrolled": false
   },
   "outputs": [
    {
     "data": {
      "text/html": [
       "<div>\n",
       "<style scoped>\n",
       "    .dataframe tbody tr th:only-of-type {\n",
       "        vertical-align: middle;\n",
       "    }\n",
       "\n",
       "    .dataframe tbody tr th {\n",
       "        vertical-align: top;\n",
       "    }\n",
       "\n",
       "    .dataframe thead th {\n",
       "        text-align: right;\n",
       "    }\n",
       "</style>\n",
       "<table border=\"1\" class=\"dataframe\">\n",
       "  <thead>\n",
       "    <tr style=\"text-align: right;\">\n",
       "      <th></th>\n",
       "      <th>session_start_time</th>\n",
       "      <th>session_expiry_time</th>\n",
       "      <th>event_time</th>\n",
       "      <th>event_time_zone</th>\n",
       "      <th>event_type</th>\n",
       "      <th>offer_decline_count</th>\n",
       "      <th>user_status</th>\n",
       "      <th>cart_quantity</th>\n",
       "      <th>cart_total</th>\n",
       "      <th>last_offer_type</th>\n",
       "      <th>...</th>\n",
       "      <th>offer_display_count</th>\n",
       "      <th>user_screen_size</th>\n",
       "      <th>offer_acceptance_state</th>\n",
       "      <th>event_time_year</th>\n",
       "      <th>event_time_month</th>\n",
       "      <th>event_time_day</th>\n",
       "      <th>event_time_hour</th>\n",
       "      <th>event_time_minute</th>\n",
       "      <th>event_time_second</th>\n",
       "      <th>session_duration</th>\n",
       "    </tr>\n",
       "  </thead>\n",
       "  <tbody>\n",
       "    <tr>\n",
       "      <th>109722</th>\n",
       "      <td>2017-03-04 02:49:37.897000+00:00</td>\n",
       "      <td>2017-03-04 03:19:37.897000+00:00</td>\n",
       "      <td>2017-03-04 02:49:28.046000+00:00</td>\n",
       "      <td>480</td>\n",
       "      <td>PAGE_LOAD</td>\n",
       "      <td>0</td>\n",
       "      <td>NC</td>\n",
       "      <td>0</td>\n",
       "      <td>0.0</td>\n",
       "      <td>NaN</td>\n",
       "      <td>...</td>\n",
       "      <td>NaN</td>\n",
       "      <td>1049088.0</td>\n",
       "      <td>NaN</td>\n",
       "      <td>2017</td>\n",
       "      <td>3</td>\n",
       "      <td>4</td>\n",
       "      <td>2</td>\n",
       "      <td>49</td>\n",
       "      <td>28</td>\n",
       "      <td>1800.0</td>\n",
       "    </tr>\n",
       "    <tr>\n",
       "      <th>199610</th>\n",
       "      <td>2017-03-05 03:44:56.164000+00:00</td>\n",
       "      <td>2017-03-05 04:14:56.164000+00:00</td>\n",
       "      <td>2017-03-05 03:44:55.857000+00:00</td>\n",
       "      <td>360</td>\n",
       "      <td>PAGE_LOAD</td>\n",
       "      <td>0</td>\n",
       "      <td>NC</td>\n",
       "      <td>0</td>\n",
       "      <td>0.0</td>\n",
       "      <td>NaN</td>\n",
       "      <td>...</td>\n",
       "      <td>NaN</td>\n",
       "      <td>2962440.0</td>\n",
       "      <td>NaN</td>\n",
       "      <td>2017</td>\n",
       "      <td>3</td>\n",
       "      <td>5</td>\n",
       "      <td>3</td>\n",
       "      <td>44</td>\n",
       "      <td>55</td>\n",
       "      <td>1800.0</td>\n",
       "    </tr>\n",
       "    <tr>\n",
       "      <th>390754</th>\n",
       "      <td>2017-03-07 03:34:32.190000+00:00</td>\n",
       "      <td>2017-03-07 04:04:32.490000+00:00</td>\n",
       "      <td>2017-03-07 03:43:10.333000+00:00</td>\n",
       "      <td>300</td>\n",
       "      <td>PAGE_LOAD</td>\n",
       "      <td>0</td>\n",
       "      <td>OC</td>\n",
       "      <td>1</td>\n",
       "      <td>79.99</td>\n",
       "      <td>C</td>\n",
       "      <td>...</td>\n",
       "      <td>2.0</td>\n",
       "      <td>1483776.0</td>\n",
       "      <td>DECLINED</td>\n",
       "      <td>2017</td>\n",
       "      <td>3</td>\n",
       "      <td>7</td>\n",
       "      <td>3</td>\n",
       "      <td>43</td>\n",
       "      <td>10</td>\n",
       "      <td>1800.3</td>\n",
       "    </tr>\n",
       "    <tr>\n",
       "      <th>374425</th>\n",
       "      <td>2017-03-06 23:52:21.140000+00:00</td>\n",
       "      <td>2017-03-07 00:22:21.140000+00:00</td>\n",
       "      <td>2017-03-06 23:52:11.276000+00:00</td>\n",
       "      <td>480</td>\n",
       "      <td>PAGE_LOAD</td>\n",
       "      <td>0</td>\n",
       "      <td>NC</td>\n",
       "      <td>0</td>\n",
       "      <td>0.0</td>\n",
       "      <td>NaN</td>\n",
       "      <td>...</td>\n",
       "      <td>NaN</td>\n",
       "      <td>301584.0</td>\n",
       "      <td>NaN</td>\n",
       "      <td>2017</td>\n",
       "      <td>3</td>\n",
       "      <td>6</td>\n",
       "      <td>23</td>\n",
       "      <td>52</td>\n",
       "      <td>11</td>\n",
       "      <td>1800.0</td>\n",
       "    </tr>\n",
       "    <tr>\n",
       "      <th>34030</th>\n",
       "      <td>2017-03-03 12:19:02.809000+00:00</td>\n",
       "      <td>2017-03-03 12:49:02.809000+00:00</td>\n",
       "      <td>2017-03-03 12:19:02.509000+00:00</td>\n",
       "      <td>300</td>\n",
       "      <td>PAGE_LOAD</td>\n",
       "      <td>0</td>\n",
       "      <td>NC</td>\n",
       "      <td>0</td>\n",
       "      <td>0.0</td>\n",
       "      <td>NaN</td>\n",
       "      <td>...</td>\n",
       "      <td>NaN</td>\n",
       "      <td>1995840.0</td>\n",
       "      <td>NaN</td>\n",
       "      <td>2017</td>\n",
       "      <td>3</td>\n",
       "      <td>3</td>\n",
       "      <td>12</td>\n",
       "      <td>19</td>\n",
       "      <td>2</td>\n",
       "      <td>1800.0</td>\n",
       "    </tr>\n",
       "  </tbody>\n",
       "</table>\n",
       "<p>5 rows × 22 columns</p>\n",
       "</div>"
      ],
      "text/plain": [
       "                     session_start_time              session_expiry_time  \\\n",
       "109722 2017-03-04 02:49:37.897000+00:00 2017-03-04 03:19:37.897000+00:00   \n",
       "199610 2017-03-05 03:44:56.164000+00:00 2017-03-05 04:14:56.164000+00:00   \n",
       "390754 2017-03-07 03:34:32.190000+00:00 2017-03-07 04:04:32.490000+00:00   \n",
       "374425 2017-03-06 23:52:21.140000+00:00 2017-03-07 00:22:21.140000+00:00   \n",
       "34030  2017-03-03 12:19:02.809000+00:00 2017-03-03 12:49:02.809000+00:00   \n",
       "\n",
       "                             event_time event_time_zone event_type  \\\n",
       "109722 2017-03-04 02:49:28.046000+00:00             480  PAGE_LOAD   \n",
       "199610 2017-03-05 03:44:55.857000+00:00             360  PAGE_LOAD   \n",
       "390754 2017-03-07 03:43:10.333000+00:00             300  PAGE_LOAD   \n",
       "374425 2017-03-06 23:52:11.276000+00:00             480  PAGE_LOAD   \n",
       "34030  2017-03-03 12:19:02.509000+00:00             300  PAGE_LOAD   \n",
       "\n",
       "       offer_decline_count user_status cart_quantity cart_total  \\\n",
       "109722                   0          NC             0        0.0   \n",
       "199610                   0          NC             0        0.0   \n",
       "390754                   0          OC             1      79.99   \n",
       "374425                   0          NC             0        0.0   \n",
       "34030                    0          NC             0        0.0   \n",
       "\n",
       "       last_offer_type  ... offer_display_count user_screen_size  \\\n",
       "109722             NaN  ...                 NaN        1049088.0   \n",
       "199610             NaN  ...                 NaN        2962440.0   \n",
       "390754               C  ...                 2.0        1483776.0   \n",
       "374425             NaN  ...                 NaN         301584.0   \n",
       "34030              NaN  ...                 NaN        1995840.0   \n",
       "\n",
       "       offer_acceptance_state event_time_year event_time_month event_time_day  \\\n",
       "109722                    NaN            2017                3              4   \n",
       "199610                    NaN            2017                3              5   \n",
       "390754               DECLINED            2017                3              7   \n",
       "374425                    NaN            2017                3              6   \n",
       "34030                     NaN            2017                3              3   \n",
       "\n",
       "       event_time_hour event_time_minute event_time_second session_duration  \n",
       "109722               2                49                28           1800.0  \n",
       "199610               3                44                55           1800.0  \n",
       "390754               3                43                10           1800.3  \n",
       "374425              23                52                11           1800.0  \n",
       "34030               12                19                 2           1800.0  \n",
       "\n",
       "[5 rows x 22 columns]"
      ]
     },
     "execution_count": 99,
     "metadata": {},
     "output_type": "execute_result"
    }
   ],
   "source": [
    "X_train_sample_tr.head()"
   ]
  },
  {
   "cell_type": "markdown",
   "id": "54bc2700",
   "metadata": {},
   "source": [
    "#### Deploying the feature engineering transformer"
   ]
  },
  {
   "cell_type": "code",
   "execution_count": 100,
   "id": "295bc6ce",
   "metadata": {},
   "outputs": [],
   "source": [
    "X_train = add_extra_features.fit_transform(X_train)\n",
    "X_valid = add_extra_features.transform(X_valid)"
   ]
  },
  {
   "cell_type": "code",
   "execution_count": 101,
   "id": "8b334ba8",
   "metadata": {},
   "outputs": [],
   "source": [
    "# Package them into a df \n",
    "X_train = pd.DataFrame(X_train, columns = ['session_start_time', 'session_expiry_time','event_time', 'event_time_zone', 'event_type', 'offer_decline_count','user_status', 'cart_quantity', 'cart_total', 'last_offer_type','last_reward_value', 'last_spend_value', 'offer_display_count','user_screen_size', 'offer_acceptance_state','event_time_year', 'event_time_month', 'event_time_day', 'event_time_hour', 'event_time_minute', 'event_time_second', 'session_duration'])\n",
    "X_valid = pd.DataFrame(X_valid, columns = ['session_start_time', 'session_expiry_time','event_time', 'event_time_zone', 'event_type', 'offer_decline_count','user_status', 'cart_quantity', 'cart_total', 'last_offer_type','last_reward_value', 'last_spend_value', 'offer_display_count','user_screen_size', 'offer_acceptance_state','event_time_year', 'event_time_month', 'event_time_day', 'event_time_hour', 'event_time_minute', 'event_time_second', 'session_duration'])"
   ]
  },
  {
   "cell_type": "markdown",
   "id": "e0a5acb1",
   "metadata": {},
   "source": [
    "#### Dropping the features of type datetime"
   ]
  },
  {
   "cell_type": "code",
   "execution_count": 102,
   "id": "fc37cf9d",
   "metadata": {},
   "outputs": [],
   "source": [
    "X_train_new = X_train.iloc[:, 3:]\n",
    "X_valid_new = X_valid.iloc[:, 3:]"
   ]
  },
  {
   "cell_type": "code",
   "execution_count": 103,
   "id": "aea8052c",
   "metadata": {},
   "outputs": [
    {
     "name": "stdout",
     "output_type": "stream",
     "text": [
      "<class 'pandas.core.frame.DataFrame'>\n",
      "RangeIndex: 191694 entries, 0 to 191693\n",
      "Data columns (total 19 columns):\n",
      " #   Column                  Non-Null Count   Dtype \n",
      "---  ------                  --------------   ----- \n",
      " 0   event_time_zone         191694 non-null  object\n",
      " 1   event_type              191694 non-null  object\n",
      " 2   offer_decline_count     191694 non-null  object\n",
      " 3   user_status             191694 non-null  object\n",
      " 4   cart_quantity           191694 non-null  object\n",
      " 5   cart_total              191694 non-null  object\n",
      " 6   last_offer_type         109014 non-null  object\n",
      " 7   last_reward_value       109014 non-null  object\n",
      " 8   last_spend_value        109014 non-null  object\n",
      " 9   offer_display_count     109014 non-null  object\n",
      " 10  user_screen_size        191694 non-null  object\n",
      " 11  offer_acceptance_state  109014 non-null  object\n",
      " 12  event_time_year         191694 non-null  object\n",
      " 13  event_time_month        191694 non-null  object\n",
      " 14  event_time_day          191694 non-null  object\n",
      " 15  event_time_hour         191694 non-null  object\n",
      " 16  event_time_minute       191694 non-null  object\n",
      " 17  event_time_second       191694 non-null  object\n",
      " 18  session_duration        191694 non-null  object\n",
      "dtypes: object(19)\n",
      "memory usage: 27.8+ MB\n"
     ]
    }
   ],
   "source": [
    "X_train_new.info()"
   ]
  },
  {
   "cell_type": "code",
   "execution_count": 104,
   "id": "c5d35562",
   "metadata": {},
   "outputs": [],
   "source": [
    "# Convert all numeric columns to numeric data types\n",
    "numerical_cols = ['event_time_zone', 'offer_decline_count', 'cart_quantity', 'cart_total', 'last_reward_value', 'last_spend_value', 'offer_display_count', 'user_screen_size', 'event_time_year', 'event_time_month', 'event_time_day', 'event_time_hour', 'event_time_minute', 'event_time_second', 'session_duration']\n",
    "X_train_new[numerical_cols] = X_train_new[numerical_cols].apply(pd.to_numeric, errors='coerce')\n",
    "X_valid_new[numerical_cols] = X_valid_new[numerical_cols].apply(pd.to_numeric, errors='coerce')"
   ]
  },
  {
   "cell_type": "code",
   "execution_count": 105,
   "id": "e71b2bec",
   "metadata": {},
   "outputs": [
    {
     "name": "stdout",
     "output_type": "stream",
     "text": [
      "<class 'pandas.core.frame.DataFrame'>\n",
      "RangeIndex: 191694 entries, 0 to 191693\n",
      "Data columns (total 19 columns):\n",
      " #   Column                  Non-Null Count   Dtype  \n",
      "---  ------                  --------------   -----  \n",
      " 0   event_time_zone         191694 non-null  int64  \n",
      " 1   event_type              191694 non-null  object \n",
      " 2   offer_decline_count     191694 non-null  int64  \n",
      " 3   user_status             191694 non-null  object \n",
      " 4   cart_quantity           191694 non-null  int64  \n",
      " 5   cart_total              191694 non-null  float64\n",
      " 6   last_offer_type         109014 non-null  object \n",
      " 7   last_reward_value       109014 non-null  float64\n",
      " 8   last_spend_value        109014 non-null  float64\n",
      " 9   offer_display_count     109014 non-null  float64\n",
      " 10  user_screen_size        191694 non-null  float64\n",
      " 11  offer_acceptance_state  109014 non-null  object \n",
      " 12  event_time_year         191694 non-null  int64  \n",
      " 13  event_time_month        191694 non-null  int64  \n",
      " 14  event_time_day          191694 non-null  int64  \n",
      " 15  event_time_hour         191694 non-null  int64  \n",
      " 16  event_time_minute       191694 non-null  int64  \n",
      " 17  event_time_second       191694 non-null  int64  \n",
      " 18  session_duration        191694 non-null  float64\n",
      "dtypes: float64(6), int64(9), object(4)\n",
      "memory usage: 27.8+ MB\n"
     ]
    }
   ],
   "source": [
    "X_train_new.info()"
   ]
  },
  {
   "cell_type": "markdown",
   "id": "e46f8e24",
   "metadata": {},
   "source": [
    "## Preprocessing"
   ]
  },
  {
   "cell_type": "markdown",
   "id": "a3d039a4",
   "metadata": {},
   "source": [
    "#### Pipeline\n",
    "\n",
    "Now let's build a pipeline for preprocessing the numerical and categorical attributes"
   ]
  },
  {
   "cell_type": "code",
   "execution_count": 106,
   "id": "f37f62ee",
   "metadata": {},
   "outputs": [
    {
     "name": "stdout",
     "output_type": "stream",
     "text": [
      "number of numerical features: 15\n",
      "number of categorical features: 4\n"
     ]
    }
   ],
   "source": [
    "numerical_cols = X_train_new.select_dtypes(include=['int64', 'float64']).columns\n",
    "categorical_cols = X_train_new.select_dtypes(include=['object']).columns\n",
    "\n",
    "print(f\"number of numerical features: {len(numerical_cols)}\\nnumber of categorical features: {len(categorical_cols)}\")"
   ]
  },
  {
   "cell_type": "code",
   "execution_count": 107,
   "id": "0eff1530",
   "metadata": {},
   "outputs": [],
   "source": [
    "# We will use the index of the columns\n",
    "numerical_cols_ix = X_train_new.columns.get_indexer(numerical_cols)\n",
    "categorical_cols_ix = X_train_new.columns.get_indexer(categorical_cols)"
   ]
  },
  {
   "cell_type": "code",
   "execution_count": 108,
   "id": "8b93df53",
   "metadata": {},
   "outputs": [],
   "source": [
    "# Define the preprocessing steps for numerical features\n",
    "numerical_transformer = Pipeline(steps=[\n",
    "    ('imputer', SimpleImputer(strategy='median')),\n",
    "    ('scaler', MinMaxScaler())\n",
    "])"
   ]
  },
  {
   "cell_type": "code",
   "execution_count": 109,
   "id": "3bb0a219",
   "metadata": {},
   "outputs": [],
   "source": [
    "# Define the preprocessing steps for categorical features\n",
    "categorical_transformer = Pipeline(steps=[\n",
    "    ('imputer', SimpleImputer(strategy='most_frequent')),\n",
    "    ('onehot', OneHotEncoder(handle_unknown='ignore'))\n",
    "])"
   ]
  },
  {
   "cell_type": "markdown",
   "id": "40dc722e",
   "metadata": {},
   "source": [
    "#### Combine the preprocessing steps into one using ColumnTransformer\n"
   ]
  },
  {
   "cell_type": "code",
   "execution_count": 110,
   "id": "f7dcb30f",
   "metadata": {},
   "outputs": [],
   "source": [
    "pipeline = ColumnTransformer(transformers=[\n",
    "    ('num', numerical_transformer, numerical_cols_ix),\n",
    "    ('cat', categorical_transformer, categorical_cols_ix)\n",
    "], remainder='passthrough')"
   ]
  },
  {
   "cell_type": "markdown",
   "id": "79ab5bb5",
   "metadata": {},
   "source": [
    "#### Deploying the pipeline on X_train and X_valid"
   ]
  },
  {
   "cell_type": "code",
   "execution_count": 111,
   "id": "443ed319",
   "metadata": {
    "scrolled": false
   },
   "outputs": [
    {
     "data": {
      "text/plain": [
       "ColumnTransformer(remainder='passthrough',\n",
       "                  transformers=[('num',\n",
       "                                 Pipeline(steps=[('imputer',\n",
       "                                                  SimpleImputer(strategy='median')),\n",
       "                                                 ('scaler', MinMaxScaler())]),\n",
       "                                 array([ 0,  2,  4,  5,  7,  8,  9, 10, 12, 13, 14, 15, 16, 17, 18],\n",
       "      dtype=int64)),\n",
       "                                ('cat',\n",
       "                                 Pipeline(steps=[('imputer',\n",
       "                                                  SimpleImputer(strategy='most_frequent')),\n",
       "                                                 ('onehot',\n",
       "                                                  OneHotEncoder(handle_unknown='ignore'))]),\n",
       "                                 array([ 1,  3,  6, 11], dtype=int64))])"
      ]
     },
     "execution_count": 111,
     "metadata": {},
     "output_type": "execute_result"
    }
   ],
   "source": [
    "# Fit the pipeline to the training data \n",
    "pipeline.fit(X_train_new)"
   ]
  },
  {
   "cell_type": "code",
   "execution_count": 112,
   "id": "310890c6",
   "metadata": {},
   "outputs": [],
   "source": [
    "# Transform the training and validation data\n",
    "X_train_prepared = pipeline.transform(X_train_new)\n",
    "X_valid_prepared = pipeline.transform(X_valid_new)"
   ]
  },
  {
   "cell_type": "code",
   "execution_count": 113,
   "id": "75085c0d",
   "metadata": {},
   "outputs": [
    {
     "data": {
      "text/plain": [
       "array([8.00000000e-01, 0.00000000e+00, 3.53356890e-03, 1.97393736e-04,\n",
       "       5.26315789e-02, 0.00000000e+00, 0.00000000e+00, 3.26530612e-01,\n",
       "       0.00000000e+00, 1.00000000e+00, 1.92307692e-01, 8.69565217e-02,\n",
       "       8.98305085e-01, 9.49152542e-01, 0.00000000e+00, 0.00000000e+00,\n",
       "       1.00000000e+00, 1.00000000e+00, 0.00000000e+00, 0.00000000e+00,\n",
       "       1.00000000e+00, 0.00000000e+00, 0.00000000e+00, 0.00000000e+00,\n",
       "       0.00000000e+00, 1.00000000e+00])"
      ]
     },
     "execution_count": 113,
     "metadata": {},
     "output_type": "execute_result"
    }
   ],
   "source": [
    "X_train_prepared[0]"
   ]
  },
  {
   "cell_type": "code",
   "execution_count": 114,
   "id": "7ad107df",
   "metadata": {
    "scrolled": true
   },
   "outputs": [
    {
     "data": {
      "text/plain": [
       "26"
      ]
     },
     "execution_count": 114,
     "metadata": {},
     "output_type": "execute_result"
    }
   ],
   "source": [
    "len(X_train_prepared[0])"
   ]
  },
  {
   "cell_type": "markdown",
   "id": "e3289269",
   "metadata": {},
   "source": [
    "#### X_train now includes 26 columns which are: \n",
    "\n",
    "\n",
    "_**Numerical Features**: 15_\n",
    "\n",
    "['event_time_zone', 'offer_decline_count', 'cart_quantity', 'cart_total',\n",
    "       'last_reward_value', 'last_spend_value', 'offer_display_count',\n",
    "       'user_screen_size', 'event_time_year', 'event_time_month', 'event_time_day', 'event_time_hour', 'event_time_minute', 'event_time_second', 'session_duration']\n",
    "       \n",
    "_**Categorical Features**: 11_\n",
    "\n",
    "['event_type_PAGE_LOAD', 'event_type_CART_CHANGE', 'user_status_NC', 'user_status_OC', \n",
    "'last_offer_type_F', 'last_offer_type_P', 'last_offer_type_C', 'last_offer_type_S', \n",
    "'offer_acceptance_state_IGNORED', 'offer_acceptance_state_DECLINED', 'offer_acceptance_state_ACCEPTED']"
   ]
  },
  {
   "cell_type": "code",
   "execution_count": 115,
   "id": "d774d130",
   "metadata": {},
   "outputs": [],
   "source": [
    "columns = ['event_time_zone', 'offer_decline_count', 'cart_quantity', 'cart_total', 'last_reward_value', 'last_spend_value', 'offer_display_count', 'user_screen_size','event_time_year', 'event_time_month', 'event_time_day', 'event_time_hour', 'event_time_minute', 'event_time_second','session_duration', 'event_type_PAGE_LOAD', 'event_type_CART_CHANGE', 'user_status_NC', 'user_status_OC', 'last_offer_type_F','last_offer_type_P', 'last_offer_type_C', 'last_offer_type_S', 'offer_acceptance_state_IGNORED', 'offer_acceptance_state_DECLINED', 'offer_acceptance_state_ACCEPTED']\n",
    "X_train = pd.DataFrame(X_train_prepared, columns = columns)\n",
    "X_valid = pd.DataFrame(X_valid_prepared, columns = columns)"
   ]
  },
  {
   "cell_type": "code",
   "execution_count": 116,
   "id": "bf4c3837",
   "metadata": {},
   "outputs": [],
   "source": [
    "# We will use them later on for cross-validation\n",
    "X = pd.concat([X_train_new, X_valid_new], axis = 0)\n",
    "y = pd.concat([y_train, y_valid], axis = 0)"
   ]
  },
  {
   "cell_type": "markdown",
   "id": "87956e9f",
   "metadata": {},
   "source": [
    "#### Defining our model"
   ]
  },
  {
   "cell_type": "code",
   "execution_count": 117,
   "id": "129bb503",
   "metadata": {},
   "outputs": [],
   "source": [
    "model = LogisticRegression(class_weight= 'balanced')"
   ]
  },
  {
   "cell_type": "markdown",
   "id": "acea9022",
   "metadata": {},
   "source": [
    "## Feature Selection"
   ]
  },
  {
   "cell_type": "markdown",
   "id": "2202dac4",
   "metadata": {},
   "source": [
    "### Evaluating the model using all features"
   ]
  },
  {
   "cell_type": "code",
   "execution_count": 118,
   "id": "29776a4e",
   "metadata": {},
   "outputs": [
    {
     "name": "stderr",
     "output_type": "stream",
     "text": [
      "C:\\Users\\Lenovo\\anaconda3\\lib\\site-packages\\sklearn\\linear_model\\_logistic.py:814: ConvergenceWarning: lbfgs failed to converge (status=1):\n",
      "STOP: TOTAL NO. of ITERATIONS REACHED LIMIT.\n",
      "\n",
      "Increase the number of iterations (max_iter) or scale the data as shown in:\n",
      "    https://scikit-learn.org/stable/modules/preprocessing.html\n",
      "Please also refer to the documentation for alternative solver options:\n",
      "    https://scikit-learn.org/stable/modules/linear_model.html#logistic-regression\n",
      "  n_iter_i = _check_optimize_result(\n"
     ]
    },
    {
     "data": {
      "text/plain": [
       "LogisticRegression(class_weight='balanced')"
      ]
     },
     "execution_count": 118,
     "metadata": {},
     "output_type": "execute_result"
    }
   ],
   "source": [
    "model.fit(X_train, y_train.to_numpy().ravel())"
   ]
  },
  {
   "cell_type": "code",
   "execution_count": 119,
   "id": "9f77af74",
   "metadata": {},
   "outputs": [
    {
     "data": {
      "image/png": "[encoded data removed]",
      "text/plain": [
       "<Figure size 432x288 with 1 Axes>"
      ]
     },
     "metadata": {
      "needs_background": "light"
     },
     "output_type": "display_data"
    }
   ],
   "source": [
    "# predict probabilities on train and valid sets\n",
    "y_train_scores = model.predict_proba(X_train)[:, 1]\n",
    "y_valid_scores = model.predict_proba(X_valid)[:,1]\n",
    "\n",
    "# calculate AUC scores on train and valid sets\n",
    "train_auc = roc_auc_score(y_train, y_train_scores)\n",
    "valid_auc = roc_auc_score(y_valid, y_valid_scores)\n",
    "\n",
    "# calculate false positive rates and true positive rates for ROC curves\n",
    "train_fpr, train_tpr, _ = roc_curve(y_train, y_train_scores)\n",
    "valid_fpr, valid_tpr, _ = roc_curve(y_valid, y_valid_scores)\n",
    "\n",
    "# plot ROC curves\n",
    "plt.plot(train_fpr, train_tpr,'-r', label=f\"Train AUC = {train_auc:.3f}\")\n",
    "plt.plot(valid_fpr, valid_tpr,'-b',  label=f\"Valid AUC = {valid_auc:.3f}\")\n",
    "plt.plot([0, 1], [0, 1], color='grey', linestyle='--', label = 'Random')\n",
    "plt.xlabel('False Positive Rate')\n",
    "plt.ylabel('True Positive Rate')\n",
    "plt.title('ROC Curves')\n",
    "plt.legend(loc = 'lower right')\n",
    "plt.legend()\n",
    "plt.show()"
   ]
  },
  {
   "cell_type": "markdown",
   "id": "ff6033e8",
   "metadata": {},
   "source": [
    "### Dropping Unimportant Features Based on Feature Importance"
   ]
  },
  {
   "cell_type": "code",
   "execution_count": 120,
   "id": "f7f26b69",
   "metadata": {
    "scrolled": false
   },
   "outputs": [
    {
     "name": "stdout",
     "output_type": "stream",
     "text": [
      "Feature 0: event_time_zone, Score:  2.795\n",
      "Feature 1: offer_decline_count, Score:  3.685\n",
      "Feature 2: cart_quantity, Score: 14.483\n",
      "Feature 3: cart_total, Score:  0.827\n",
      "Feature 4: last_reward_value, Score: -0.494\n",
      "Feature 5: last_spend_value, Score: -0.509\n",
      "Feature 6: offer_display_count, Score: -0.032\n",
      "Feature 7: user_screen_size, Score:  3.503\n",
      "Feature 8: event_time_year, Score:  0.000\n",
      "Feature 9: event_time_month, Score: -1.539\n",
      "Feature 10: event_time_day, Score: -0.556\n",
      "Feature 11: event_time_hour, Score:  0.006\n",
      "Feature 12: event_time_minute, Score: -0.090\n",
      "Feature 13: event_time_second, Score:  0.034\n",
      "Feature 14: session_duration, Score: 49.769\n",
      "Feature 15: event_type_PAGE_LOAD, Score: -2.380\n",
      "Feature 16: event_type_CART_CHANGE, Score:  1.601\n",
      "Feature 17: user_status_NC, Score: -0.649\n",
      "Feature 18: user_status_OC, Score: -0.130\n",
      "Feature 19: last_offer_type_F, Score:  0.429\n",
      "Feature 20: last_offer_type_P, Score: -1.768\n",
      "Feature 21: last_offer_type_C, Score: -1.752\n",
      "Feature 22: last_offer_type_S, Score:  2.311\n",
      "Feature 23: offer_acceptance_state_IGNORED, Score:  2.167\n",
      "Feature 24: offer_acceptance_state_DECLINED, Score: -2.447\n",
      "Feature 25: offer_acceptance_state_ACCEPTED, Score: -0.499\n"
     ]
    },
    {
     "data": {
      "image/png": "[encoded data removed]",
      "text/plain": [
       "<Figure size 1152x432 with 1 Axes>"
      ]
     },
     "metadata": {
      "needs_background": "light"
     },
     "output_type": "display_data"
    }
   ],
   "source": [
    "# get importance\n",
    "importance = model.coef_[0]\n",
    "\n",
    "# summarize feature importance\n",
    "for i,v in enumerate(importance):\n",
    "\tprint(f'Feature {i:0d}: {X_train.columns[i]}, Score: {v:6.3f}')\n",
    "    \n",
    "# plot feature importance\n",
    "fig, ax = plt.subplots(figsize=(16, 6))  \n",
    "ax.bar([x for x in range(len(importance))], importance)\n",
    "plt.show()"
   ]
  },
  {
   "cell_type": "code",
   "execution_count": 121,
   "id": "aa32d254",
   "metadata": {},
   "outputs": [],
   "source": [
    "# Let's select the features with |score|> 0.05:\n",
    "features_to_select = []\n",
    "for i,v in enumerate(importance):\n",
    "    if v > 0.05 or v < -0.05:\n",
    "        features_to_select.append(X_train.columns[i])"
   ]
  },
  {
   "cell_type": "code",
   "execution_count": 122,
   "id": "e2d2329f",
   "metadata": {},
   "outputs": [
    {
     "data": {
      "text/plain": [
       "['event_time_zone',\n",
       " 'offer_decline_count',\n",
       " 'cart_quantity',\n",
       " 'cart_total',\n",
       " 'last_reward_value',\n",
       " 'last_spend_value',\n",
       " 'user_screen_size',\n",
       " 'event_time_month',\n",
       " 'event_time_day',\n",
       " 'event_time_minute',\n",
       " 'session_duration',\n",
       " 'event_type_PAGE_LOAD',\n",
       " 'event_type_CART_CHANGE',\n",
       " 'user_status_NC',\n",
       " 'user_status_OC',\n",
       " 'last_offer_type_F',\n",
       " 'last_offer_type_P',\n",
       " 'last_offer_type_C',\n",
       " 'last_offer_type_S',\n",
       " 'offer_acceptance_state_IGNORED',\n",
       " 'offer_acceptance_state_DECLINED',\n",
       " 'offer_acceptance_state_ACCEPTED']"
      ]
     },
     "execution_count": 122,
     "metadata": {},
     "output_type": "execute_result"
    }
   ],
   "source": [
    "features_to_select"
   ]
  },
  {
   "cell_type": "code",
   "execution_count": 123,
   "id": "fb59719c",
   "metadata": {},
   "outputs": [],
   "source": [
    "X_train_imp = X_train[features_to_select]\n",
    "X_valid_imp = X_valid[features_to_select]"
   ]
  },
  {
   "cell_type": "code",
   "execution_count": 124,
   "id": "7ed24b37",
   "metadata": {
    "scrolled": false
   },
   "outputs": [
    {
     "data": {
      "text/html": [
       "<div>\n",
       "<style scoped>\n",
       "    .dataframe tbody tr th:only-of-type {\n",
       "        vertical-align: middle;\n",
       "    }\n",
       "\n",
       "    .dataframe tbody tr th {\n",
       "        vertical-align: top;\n",
       "    }\n",
       "\n",
       "    .dataframe thead th {\n",
       "        text-align: right;\n",
       "    }\n",
       "</style>\n",
       "<table border=\"1\" class=\"dataframe\">\n",
       "  <thead>\n",
       "    <tr style=\"text-align: right;\">\n",
       "      <th></th>\n",
       "      <th>event_time_zone</th>\n",
       "      <th>offer_decline_count</th>\n",
       "      <th>cart_quantity</th>\n",
       "      <th>cart_total</th>\n",
       "      <th>last_reward_value</th>\n",
       "      <th>last_spend_value</th>\n",
       "      <th>user_screen_size</th>\n",
       "      <th>event_time_month</th>\n",
       "      <th>event_time_day</th>\n",
       "      <th>event_time_minute</th>\n",
       "      <th>...</th>\n",
       "      <th>event_type_CART_CHANGE</th>\n",
       "      <th>user_status_NC</th>\n",
       "      <th>user_status_OC</th>\n",
       "      <th>last_offer_type_F</th>\n",
       "      <th>last_offer_type_P</th>\n",
       "      <th>last_offer_type_C</th>\n",
       "      <th>last_offer_type_S</th>\n",
       "      <th>offer_acceptance_state_IGNORED</th>\n",
       "      <th>offer_acceptance_state_DECLINED</th>\n",
       "      <th>offer_acceptance_state_ACCEPTED</th>\n",
       "    </tr>\n",
       "  </thead>\n",
       "  <tbody>\n",
       "    <tr>\n",
       "      <th>0</th>\n",
       "      <td>0.80</td>\n",
       "      <td>0.0</td>\n",
       "      <td>0.003534</td>\n",
       "      <td>0.000197</td>\n",
       "      <td>0.052632</td>\n",
       "      <td>0.000000</td>\n",
       "      <td>0.326531</td>\n",
       "      <td>1.0</td>\n",
       "      <td>0.192308</td>\n",
       "      <td>0.898305</td>\n",
       "      <td>...</td>\n",
       "      <td>1.0</td>\n",
       "      <td>1.0</td>\n",
       "      <td>0.0</td>\n",
       "      <td>0.0</td>\n",
       "      <td>1.0</td>\n",
       "      <td>0.0</td>\n",
       "      <td>0.0</td>\n",
       "      <td>0.0</td>\n",
       "      <td>0.0</td>\n",
       "      <td>1.0</td>\n",
       "    </tr>\n",
       "    <tr>\n",
       "      <th>1</th>\n",
       "      <td>0.72</td>\n",
       "      <td>0.0</td>\n",
       "      <td>0.003534</td>\n",
       "      <td>0.000285</td>\n",
       "      <td>0.052632</td>\n",
       "      <td>0.000000</td>\n",
       "      <td>0.044196</td>\n",
       "      <td>1.0</td>\n",
       "      <td>0.076923</td>\n",
       "      <td>0.661017</td>\n",
       "      <td>...</td>\n",
       "      <td>1.0</td>\n",
       "      <td>0.0</td>\n",
       "      <td>1.0</td>\n",
       "      <td>0.0</td>\n",
       "      <td>1.0</td>\n",
       "      <td>0.0</td>\n",
       "      <td>0.0</td>\n",
       "      <td>0.0</td>\n",
       "      <td>0.0</td>\n",
       "      <td>1.0</td>\n",
       "    </tr>\n",
       "    <tr>\n",
       "      <th>2</th>\n",
       "      <td>0.72</td>\n",
       "      <td>0.0</td>\n",
       "      <td>0.000000</td>\n",
       "      <td>0.000000</td>\n",
       "      <td>0.263158</td>\n",
       "      <td>0.115385</td>\n",
       "      <td>0.022155</td>\n",
       "      <td>1.0</td>\n",
       "      <td>0.076923</td>\n",
       "      <td>0.610169</td>\n",
       "      <td>...</td>\n",
       "      <td>1.0</td>\n",
       "      <td>0.0</td>\n",
       "      <td>1.0</td>\n",
       "      <td>0.0</td>\n",
       "      <td>0.0</td>\n",
       "      <td>1.0</td>\n",
       "      <td>0.0</td>\n",
       "      <td>0.0</td>\n",
       "      <td>0.0</td>\n",
       "      <td>1.0</td>\n",
       "    </tr>\n",
       "    <tr>\n",
       "      <th>3</th>\n",
       "      <td>0.68</td>\n",
       "      <td>0.0</td>\n",
       "      <td>0.000000</td>\n",
       "      <td>0.000000</td>\n",
       "      <td>0.052632</td>\n",
       "      <td>0.000000</td>\n",
       "      <td>0.077487</td>\n",
       "      <td>1.0</td>\n",
       "      <td>0.115385</td>\n",
       "      <td>0.220339</td>\n",
       "      <td>...</td>\n",
       "      <td>1.0</td>\n",
       "      <td>1.0</td>\n",
       "      <td>0.0</td>\n",
       "      <td>0.0</td>\n",
       "      <td>1.0</td>\n",
       "      <td>0.0</td>\n",
       "      <td>0.0</td>\n",
       "      <td>0.0</td>\n",
       "      <td>0.0</td>\n",
       "      <td>1.0</td>\n",
       "    </tr>\n",
       "    <tr>\n",
       "      <th>4</th>\n",
       "      <td>0.84</td>\n",
       "      <td>0.0</td>\n",
       "      <td>0.007067</td>\n",
       "      <td>0.000342</td>\n",
       "      <td>0.000000</td>\n",
       "      <td>0.012821</td>\n",
       "      <td>0.077487</td>\n",
       "      <td>1.0</td>\n",
       "      <td>0.038462</td>\n",
       "      <td>0.322034</td>\n",
       "      <td>...</td>\n",
       "      <td>1.0</td>\n",
       "      <td>0.0</td>\n",
       "      <td>1.0</td>\n",
       "      <td>1.0</td>\n",
       "      <td>0.0</td>\n",
       "      <td>0.0</td>\n",
       "      <td>0.0</td>\n",
       "      <td>0.0</td>\n",
       "      <td>0.0</td>\n",
       "      <td>1.0</td>\n",
       "    </tr>\n",
       "    <tr>\n",
       "      <th>...</th>\n",
       "      <td>...</td>\n",
       "      <td>...</td>\n",
       "      <td>...</td>\n",
       "      <td>...</td>\n",
       "      <td>...</td>\n",
       "      <td>...</td>\n",
       "      <td>...</td>\n",
       "      <td>...</td>\n",
       "      <td>...</td>\n",
       "      <td>...</td>\n",
       "      <td>...</td>\n",
       "      <td>...</td>\n",
       "      <td>...</td>\n",
       "      <td>...</td>\n",
       "      <td>...</td>\n",
       "      <td>...</td>\n",
       "      <td>...</td>\n",
       "      <td>...</td>\n",
       "      <td>...</td>\n",
       "      <td>...</td>\n",
       "      <td>...</td>\n",
       "    </tr>\n",
       "    <tr>\n",
       "      <th>191689</th>\n",
       "      <td>0.72</td>\n",
       "      <td>0.0</td>\n",
       "      <td>0.000000</td>\n",
       "      <td>0.000000</td>\n",
       "      <td>0.000000</td>\n",
       "      <td>0.012821</td>\n",
       "      <td>0.056017</td>\n",
       "      <td>1.0</td>\n",
       "      <td>0.076923</td>\n",
       "      <td>0.220339</td>\n",
       "      <td>...</td>\n",
       "      <td>1.0</td>\n",
       "      <td>0.0</td>\n",
       "      <td>1.0</td>\n",
       "      <td>0.0</td>\n",
       "      <td>0.0</td>\n",
       "      <td>1.0</td>\n",
       "      <td>0.0</td>\n",
       "      <td>0.0</td>\n",
       "      <td>0.0</td>\n",
       "      <td>1.0</td>\n",
       "    </tr>\n",
       "    <tr>\n",
       "      <th>191690</th>\n",
       "      <td>0.72</td>\n",
       "      <td>0.0</td>\n",
       "      <td>0.000000</td>\n",
       "      <td>0.000000</td>\n",
       "      <td>0.052632</td>\n",
       "      <td>0.000000</td>\n",
       "      <td>0.016100</td>\n",
       "      <td>1.0</td>\n",
       "      <td>0.038462</td>\n",
       "      <td>0.796610</td>\n",
       "      <td>...</td>\n",
       "      <td>1.0</td>\n",
       "      <td>1.0</td>\n",
       "      <td>0.0</td>\n",
       "      <td>0.0</td>\n",
       "      <td>1.0</td>\n",
       "      <td>0.0</td>\n",
       "      <td>0.0</td>\n",
       "      <td>0.0</td>\n",
       "      <td>0.0</td>\n",
       "      <td>1.0</td>\n",
       "    </tr>\n",
       "    <tr>\n",
       "      <th>191691</th>\n",
       "      <td>0.84</td>\n",
       "      <td>0.0</td>\n",
       "      <td>0.000000</td>\n",
       "      <td>0.000000</td>\n",
       "      <td>0.052632</td>\n",
       "      <td>0.000000</td>\n",
       "      <td>0.023231</td>\n",
       "      <td>1.0</td>\n",
       "      <td>0.153846</td>\n",
       "      <td>0.101695</td>\n",
       "      <td>...</td>\n",
       "      <td>1.0</td>\n",
       "      <td>1.0</td>\n",
       "      <td>0.0</td>\n",
       "      <td>0.0</td>\n",
       "      <td>1.0</td>\n",
       "      <td>0.0</td>\n",
       "      <td>0.0</td>\n",
       "      <td>0.0</td>\n",
       "      <td>0.0</td>\n",
       "      <td>1.0</td>\n",
       "    </tr>\n",
       "    <tr>\n",
       "      <th>191692</th>\n",
       "      <td>0.84</td>\n",
       "      <td>0.0</td>\n",
       "      <td>0.000000</td>\n",
       "      <td>0.000000</td>\n",
       "      <td>0.052632</td>\n",
       "      <td>0.000000</td>\n",
       "      <td>0.023231</td>\n",
       "      <td>1.0</td>\n",
       "      <td>0.115385</td>\n",
       "      <td>0.322034</td>\n",
       "      <td>...</td>\n",
       "      <td>1.0</td>\n",
       "      <td>1.0</td>\n",
       "      <td>0.0</td>\n",
       "      <td>0.0</td>\n",
       "      <td>1.0</td>\n",
       "      <td>0.0</td>\n",
       "      <td>0.0</td>\n",
       "      <td>0.0</td>\n",
       "      <td>0.0</td>\n",
       "      <td>1.0</td>\n",
       "    </tr>\n",
       "    <tr>\n",
       "      <th>191693</th>\n",
       "      <td>0.72</td>\n",
       "      <td>0.0</td>\n",
       "      <td>0.000000</td>\n",
       "      <td>0.000000</td>\n",
       "      <td>0.052632</td>\n",
       "      <td>0.000000</td>\n",
       "      <td>0.026972</td>\n",
       "      <td>1.0</td>\n",
       "      <td>0.076923</td>\n",
       "      <td>0.152542</td>\n",
       "      <td>...</td>\n",
       "      <td>1.0</td>\n",
       "      <td>0.0</td>\n",
       "      <td>1.0</td>\n",
       "      <td>0.0</td>\n",
       "      <td>1.0</td>\n",
       "      <td>0.0</td>\n",
       "      <td>0.0</td>\n",
       "      <td>0.0</td>\n",
       "      <td>0.0</td>\n",
       "      <td>1.0</td>\n",
       "    </tr>\n",
       "  </tbody>\n",
       "</table>\n",
       "<p>191694 rows × 22 columns</p>\n",
       "</div>"
      ],
      "text/plain": [
       "        event_time_zone  offer_decline_count  cart_quantity  cart_total  \\\n",
       "0                  0.80                  0.0       0.003534    0.000197   \n",
       "1                  0.72                  0.0       0.003534    0.000285   \n",
       "2                  0.72                  0.0       0.000000    0.000000   \n",
       "3                  0.68                  0.0       0.000000    0.000000   \n",
       "4                  0.84                  0.0       0.007067    0.000342   \n",
       "...                 ...                  ...            ...         ...   \n",
       "191689             0.72                  0.0       0.000000    0.000000   \n",
       "191690             0.72                  0.0       0.000000    0.000000   \n",
       "191691             0.84                  0.0       0.000000    0.000000   \n",
       "191692             0.84                  0.0       0.000000    0.000000   \n",
       "191693             0.72                  0.0       0.000000    0.000000   \n",
       "\n",
       "        last_reward_value  last_spend_value  user_screen_size  \\\n",
       "0                0.052632          0.000000          0.326531   \n",
       "1                0.052632          0.000000          0.044196   \n",
       "2                0.263158          0.115385          0.022155   \n",
       "3                0.052632          0.000000          0.077487   \n",
       "4                0.000000          0.012821          0.077487   \n",
       "...                   ...               ...               ...   \n",
       "191689           0.000000          0.012821          0.056017   \n",
       "191690           0.052632          0.000000          0.016100   \n",
       "191691           0.052632          0.000000          0.023231   \n",
       "191692           0.052632          0.000000          0.023231   \n",
       "191693           0.052632          0.000000          0.026972   \n",
       "\n",
       "        event_time_month  event_time_day  event_time_minute  ...  \\\n",
       "0                    1.0        0.192308           0.898305  ...   \n",
       "1                    1.0        0.076923           0.661017  ...   \n",
       "2                    1.0        0.076923           0.610169  ...   \n",
       "3                    1.0        0.115385           0.220339  ...   \n",
       "4                    1.0        0.038462           0.322034  ...   \n",
       "...                  ...             ...                ...  ...   \n",
       "191689               1.0        0.076923           0.220339  ...   \n",
       "191690               1.0        0.038462           0.796610  ...   \n",
       "191691               1.0        0.153846           0.101695  ...   \n",
       "191692               1.0        0.115385           0.322034  ...   \n",
       "191693               1.0        0.076923           0.152542  ...   \n",
       "\n",
       "        event_type_CART_CHANGE  user_status_NC  user_status_OC  \\\n",
       "0                          1.0             1.0             0.0   \n",
       "1                          1.0             0.0             1.0   \n",
       "2                          1.0             0.0             1.0   \n",
       "3                          1.0             1.0             0.0   \n",
       "4                          1.0             0.0             1.0   \n",
       "...                        ...             ...             ...   \n",
       "191689                     1.0             0.0             1.0   \n",
       "191690                     1.0             1.0             0.0   \n",
       "191691                     1.0             1.0             0.0   \n",
       "191692                     1.0             1.0             0.0   \n",
       "191693                     1.0             0.0             1.0   \n",
       "\n",
       "        last_offer_type_F  last_offer_type_P  last_offer_type_C  \\\n",
       "0                     0.0                1.0                0.0   \n",
       "1                     0.0                1.0                0.0   \n",
       "2                     0.0                0.0                1.0   \n",
       "3                     0.0                1.0                0.0   \n",
       "4                     1.0                0.0                0.0   \n",
       "...                   ...                ...                ...   \n",
       "191689                0.0                0.0                1.0   \n",
       "191690                0.0                1.0                0.0   \n",
       "191691                0.0                1.0                0.0   \n",
       "191692                0.0                1.0                0.0   \n",
       "191693                0.0                1.0                0.0   \n",
       "\n",
       "        last_offer_type_S  offer_acceptance_state_IGNORED  \\\n",
       "0                     0.0                             0.0   \n",
       "1                     0.0                             0.0   \n",
       "2                     0.0                             0.0   \n",
       "3                     0.0                             0.0   \n",
       "4                     0.0                             0.0   \n",
       "...                   ...                             ...   \n",
       "191689                0.0                             0.0   \n",
       "191690                0.0                             0.0   \n",
       "191691                0.0                             0.0   \n",
       "191692                0.0                             0.0   \n",
       "191693                0.0                             0.0   \n",
       "\n",
       "        offer_acceptance_state_DECLINED  offer_acceptance_state_ACCEPTED  \n",
       "0                                   0.0                              1.0  \n",
       "1                                   0.0                              1.0  \n",
       "2                                   0.0                              1.0  \n",
       "3                                   0.0                              1.0  \n",
       "4                                   0.0                              1.0  \n",
       "...                                 ...                              ...  \n",
       "191689                              0.0                              1.0  \n",
       "191690                              0.0                              1.0  \n",
       "191691                              0.0                              1.0  \n",
       "191692                              0.0                              1.0  \n",
       "191693                              0.0                              1.0  \n",
       "\n",
       "[191694 rows x 22 columns]"
      ]
     },
     "execution_count": 124,
     "metadata": {},
     "output_type": "execute_result"
    }
   ],
   "source": [
    "X_train_imp"
   ]
  },
  {
   "cell_type": "code",
   "execution_count": 125,
   "id": "45170585",
   "metadata": {},
   "outputs": [
    {
     "name": "stderr",
     "output_type": "stream",
     "text": [
      "C:\\Users\\Lenovo\\anaconda3\\lib\\site-packages\\sklearn\\linear_model\\_logistic.py:814: ConvergenceWarning: lbfgs failed to converge (status=1):\n",
      "STOP: TOTAL NO. of ITERATIONS REACHED LIMIT.\n",
      "\n",
      "Increase the number of iterations (max_iter) or scale the data as shown in:\n",
      "    https://scikit-learn.org/stable/modules/preprocessing.html\n",
      "Please also refer to the documentation for alternative solver options:\n",
      "    https://scikit-learn.org/stable/modules/linear_model.html#logistic-regression\n",
      "  n_iter_i = _check_optimize_result(\n"
     ]
    }
   ],
   "source": [
    "# Fit the logistic regression\n",
    "model.fit(X_train_imp, y_train.to_numpy().ravel())\n",
    "# Predict \n",
    "y_pred = model.predict(X_valid_imp)\n",
    "# evaluate model predictions\n",
    "accuracy = accuracy_score(y_valid, y_pred)"
   ]
  },
  {
   "cell_type": "code",
   "execution_count": 126,
   "id": "8bae1f37",
   "metadata": {},
   "outputs": [
    {
     "data": {
      "image/png": "[encoded data removed]",
      "text/plain": [
       "<Figure size 432x288 with 1 Axes>"
      ]
     },
     "metadata": {
      "needs_background": "light"
     },
     "output_type": "display_data"
    }
   ],
   "source": [
    "# predict probabilities on train and valid sets\n",
    "y_train_scores = model.predict_proba(X_train_imp)[:, 1]\n",
    "y_valid_scores = model.predict_proba(X_valid_imp)[:,1]\n",
    "\n",
    "# calculate AUC scores on train and valid sets\n",
    "train_auc = roc_auc_score(y_train, y_train_scores)\n",
    "valid_auc = roc_auc_score(y_valid, y_valid_scores)\n",
    "\n",
    "# calculate false positive rates and true positive rates for ROC curves\n",
    "train_fpr, train_tpr, _ = roc_curve(y_train, y_train_scores)\n",
    "valid_fpr, valid_tpr, _ = roc_curve(y_valid, y_valid_scores)\n",
    "\n",
    "# plot ROC curves\n",
    "plt.plot(train_fpr, train_tpr,'-r', label=f\"Train AUC = {train_auc:.3f}\")\n",
    "plt.plot(valid_fpr, valid_tpr,'-b',  label=f\"Valid AUC = {valid_auc:.3f}\")\n",
    "plt.plot([0, 1], [0, 1], color='grey', linestyle='--', label = 'Random')\n",
    "plt.xlabel('False Positive Rate')\n",
    "plt.ylabel('True Positive Rate')\n",
    "plt.title('ROC Curves')\n",
    "plt.legend(loc = 'lower right')\n",
    "plt.legend()\n",
    "plt.show()"
   ]
  },
  {
   "cell_type": "markdown",
   "id": "497e7308",
   "metadata": {},
   "source": [
    "### Using Recursive Feature Elimination (RFE) to evaluate the model with different numbers of features\n",
    "\n",
    "The main idea behind the wrapper/scoring method is to train and evaluate the model with different subsets of features and select the best subset (on validation)"
   ]
  },
  {
   "cell_type": "markdown",
   "id": "8b31cdcb",
   "metadata": {},
   "source": [
    "##### RFE with Logistic Regression"
   ]
  },
  {
   "cell_type": "code",
   "execution_count": 128,
   "id": "8ce8657a",
   "metadata": {},
   "outputs": [],
   "source": [
    "import warnings\n",
    "warnings.filterwarnings('ignore')\n",
    "\n",
    "valid_auc_scores = []\n",
    "number_of_features = []\n",
    "\n",
    "# I will evaluate the model on different number of features ranging between 5 and 22\n",
    "# I will use the new X_train and X_valid which only include the important features\n",
    "for i in range(5, 23):\n",
    "    # Define RFE which selects i features and uses DecisionTreeClassifier as an estimator\n",
    "    rfe = RFE(estimator= LogisticRegression(), n_features_to_select=i)\n",
    "    # Fit RFE\n",
    "    rfe.fit(X_train_imp, y_train.to_numpy().ravel())\n",
    "    # Keep the selected feature and drop the rest\n",
    "    X_train_selected = X_train_imp.loc[:, rfe.support_]\n",
    "    X_valid_selected = X_valid_imp.loc[:, rfe.support_]\n",
    "    # Fit the logistic regression\n",
    "    model.fit(X_train_selected, y_train.to_numpy().ravel())\n",
    "    # Predict \n",
    "    y_valid_scores = model.predict_proba(X_valid_selected)[:,1]\n",
    "    # evaluate model predictions\n",
    "    valid_auc = roc_auc_score(y_valid, y_valid_scores)\n",
    "    \n",
    "    number_of_features.append(i)\n",
    "    valid_auc_scores.append(valid_auc)"
   ]
  },
  {
   "cell_type": "code",
   "execution_count": 129,
   "id": "7fb870b2",
   "metadata": {},
   "outputs": [
    {
     "data": {
      "image/png": "[encoded data removed]",
      "text/plain": [
       "<Figure size 1080x432 with 1 Axes>"
      ]
     },
     "metadata": {
      "needs_background": "light"
     },
     "output_type": "display_data"
    }
   ],
   "source": [
    "# plot model performance for comparison\n",
    "fig = plt.figure(figsize = (15, 6))\n",
    "plt.bar(number_of_features, valid_auc_scores)\n",
    "plt.xlabel(\"Number of Features\")\n",
    "plt.ylabel(\"AUC Score on the Validation Dataset\")\n",
    "plt.show()"
   ]
  },
  {
   "cell_type": "code",
   "execution_count": 130,
   "id": "81870126",
   "metadata": {},
   "outputs": [
    {
     "data": {
      "text/plain": [
       "[0.9102867550549264,\n",
       " 0.8934848713309562,\n",
       " 0.8939977570657873,\n",
       " 0.8931093296401262,\n",
       " 0.8930698907844403,\n",
       " 0.8933313544006721,\n",
       " 0.8932004161800844,\n",
       " 0.8965322723507108,\n",
       " 0.9032926349862741,\n",
       " 0.9035209107608798,\n",
       " 0.902373069770127,\n",
       " 0.9031051866603463,\n",
       " 0.9023948181387437,\n",
       " 0.9025709583450531,\n",
       " 0.9005725924187682,\n",
       " 0.9005121698588495,\n",
       " 0.9002682020451966,\n",
       " 0.9007144986475151]"
      ]
     },
     "execution_count": 130,
     "metadata": {},
     "output_type": "execute_result"
    }
   ],
   "source": [
    "valid_auc_scores"
   ]
  },
  {
   "cell_type": "markdown",
   "id": "dc846fa5",
   "metadata": {},
   "source": [
    "- I will choose the model with the 5 features selected from the RFE that uses logistic regresion as an estimator since it achieved the highest auc score"
   ]
  },
  {
   "cell_type": "code",
   "execution_count": 131,
   "id": "be4d076f",
   "metadata": {
    "scrolled": true
   },
   "outputs": [
    {
     "name": "stdout",
     "output_type": "stream",
     "text": [
      "Selected Features: \n",
      "\t- session_duration\n",
      "\t- event_type_CART_CHANGE\n",
      "\t- last_offer_type_P\n",
      "\t- last_offer_type_C\n",
      "\t- offer_acceptance_state_IGNORED\n"
     ]
    }
   ],
   "source": [
    "rfe = RFE(estimator=LogisticRegression(), n_features_to_select=5)\n",
    "# fit RFE\n",
    "rfe.fit(X_train_imp, y_train)\n",
    "\n",
    "print(\"Selected Features: \")\n",
    "for i in range(X_train_imp.shape[1]):\n",
    "    if rfe.support_[i]:\n",
    "        print(\"\\t- \" + str(X_train_imp.columns[i]))"
   ]
  },
  {
   "cell_type": "code",
   "execution_count": 132,
   "id": "69497c29",
   "metadata": {},
   "outputs": [],
   "source": [
    "# Keep the selected feature and drop the rest\n",
    "X_train = X_train_imp.loc[:, rfe.support_]\n",
    "X_valid = X_valid_imp.loc[:, rfe.support_]"
   ]
  },
  {
   "cell_type": "markdown",
   "id": "4e76688d",
   "metadata": {},
   "source": [
    "### The ROC curves and AUC values on the training and validation of the best preprocessing techniques and features"
   ]
  },
  {
   "cell_type": "code",
   "execution_count": 133,
   "id": "fc0b66f1",
   "metadata": {},
   "outputs": [
    {
     "data": {
      "image/png": "[encoded data removed]",
      "text/plain": [
       "<Figure size 432x288 with 1 Axes>"
      ]
     },
     "metadata": {
      "needs_background": "light"
     },
     "output_type": "display_data"
    }
   ],
   "source": [
    "# Fit the logistic regression\n",
    "model.fit(X_train, y_train.to_numpy().ravel())\n",
    "\n",
    "# predict probabilities on train and valid sets\n",
    "y_train_scores = model.predict_proba(X_train)[:, 1]\n",
    "y_valid_scores = model.predict_proba(X_valid)[:,1]\n",
    "\n",
    "# calculate AUC scores on train and valid sets\n",
    "train_auc = roc_auc_score(y_train, y_train_scores)\n",
    "valid_auc = roc_auc_score(y_valid, y_valid_scores)\n",
    "\n",
    "# calculate false positive rates and true positive rates for ROC curves\n",
    "train_fpr, train_tpr, _ = roc_curve(y_train, y_train_scores)\n",
    "valid_fpr, valid_tpr, _ = roc_curve(y_valid, y_valid_scores)\n",
    "\n",
    "# plot ROC curves\n",
    "plt.plot(train_fpr, train_tpr,'-r', label=f\"Train AUC = {train_auc:.3f}\")\n",
    "plt.plot(valid_fpr, valid_tpr,'-b',  label=f\"Valid AUC = {valid_auc:.3f}\")\n",
    "plt.plot([0, 1], [0, 1], color='grey', linestyle='--', label = 'Random')\n",
    "plt.xlabel('False Positive Rate')\n",
    "plt.ylabel('True Positive Rate')\n",
    "plt.title('ROC Curves')\n",
    "plt.legend(loc = 'lower right')\n",
    "plt.legend()\n",
    "plt.show()"
   ]
  },
  {
   "cell_type": "markdown",
   "id": "940f381e",
   "metadata": {},
   "source": [
    "_**Results:**_\n",
    "- **Preprocessing techniques that helped improve the model performance**:\n",
    "1. Using the MinMaxScaler() instead of StandardScaler() and RobustScaler() highly increased our valid auc score.\n",
    "2. Using OneHotEncoder() instead of LabelEncoder() highly increased our valid auc score.\n",
    "3. Using imputation (SimpleImputer(strategy='most_frequent') for categorical variables and SimpleImputer(strategy='mean')) instead of dropping all the nulls highly increased our valid auc score.\n",
    "4. Using MinMaxScaler() on the new extracted features highly improved the model's performance.\n",
    "\n",
    "- **The most powerful features that helped improve the model performance**:\n",
    "1. The new session_duration feature turned out to have the highest importance score based on the model coefficient.\n",
    "2. The new event_time_day feature (which represents the day of the month) was also effective at improving our model.\n",
    "3. The final selected features are: \n",
    "\t- event_time_zone\n",
    "\t- cart_quantity\n",
    "\t- cart_total\n",
    "\t- last_reward_value\n",
    "\t- last_spend_value\n",
    "\t- offer_display_count\n",
    "\t- user_screen_size\n",
    "\t- event_time_day\n",
    "\t- session_duration\n",
    "\t- event_type_CART_CHANGE\n",
    "\t- last_offer_type_F"
   ]
  },
  {
   "cell_type": "markdown",
   "id": "93d9bad9",
   "metadata": {},
   "source": [
    "___\n",
    "# 4 Model Optimization and Selection\n",
    "\n",
    "In this section, I will train and optimize the hyperparameters of LogReg, KNN, and Naïve Bayes (Gaussian and Multinomial) and SVM to further improve the AUC on validation dataset."
   ]
  },
  {
   "cell_type": "markdown",
   "id": "bbcf5aa9",
   "metadata": {},
   "source": [
    "## Logistic Regression"
   ]
  },
  {
   "cell_type": "code",
   "execution_count": 134,
   "id": "0021705e",
   "metadata": {},
   "outputs": [],
   "source": [
    "lr = LogisticRegression(class_weight='balanced')"
   ]
  },
  {
   "cell_type": "markdown",
   "id": "4302597c",
   "metadata": {},
   "source": [
    "#### Evaluating the model with default parameters"
   ]
  },
  {
   "cell_type": "code",
   "execution_count": 135,
   "id": "b0db9354",
   "metadata": {},
   "outputs": [
    {
     "data": {
      "image/png": "[encoded data removed]",
      "text/plain": [
       "<Figure size 432x288 with 1 Axes>"
      ]
     },
     "metadata": {
      "needs_background": "light"
     },
     "output_type": "display_data"
    }
   ],
   "source": [
    "# Fit the logistic regression\n",
    "lr.fit(X_train, y_train.to_numpy().ravel())\n",
    "\n",
    "# predict probabilities on train and valid sets\n",
    "y_train_scores = lr.predict_proba(X_train)[:, 1]\n",
    "y_valid_scores = lr.predict_proba(X_valid)[:,1]\n",
    "\n",
    "# calculate AUC scores on train and valid sets\n",
    "train_auc = roc_auc_score(y_train, y_train_scores)\n",
    "valid_auc = roc_auc_score(y_valid, y_valid_scores)\n",
    "\n",
    "# calculate false positive rates and true positive rates for ROC curves\n",
    "train_fpr, train_tpr, _ = roc_curve(y_train, y_train_scores)\n",
    "valid_fpr, valid_tpr, _ = roc_curve(y_valid, y_valid_scores)\n",
    "\n",
    "# plot ROC curves\n",
    "plt.plot(train_fpr, train_tpr,'-r', label=f\"Train AUC = {train_auc:.3f}\")\n",
    "plt.plot(valid_fpr, valid_tpr,'-b',  label=f\"Valid AUC = {valid_auc:.3f}\")\n",
    "plt.plot([0, 1], [0, 1], color='grey', linestyle='--', label = 'Random')\n",
    "plt.xlabel('False Positive Rate')\n",
    "plt.ylabel('True Positive Rate')\n",
    "plt.title('ROC Curves')\n",
    "plt.legend(loc = 'lower right')\n",
    "plt.legend()\n",
    "plt.show()"
   ]
  },
  {
   "cell_type": "markdown",
   "id": "deceed6d",
   "metadata": {},
   "source": [
    "#### Hyperparameter tuning"
   ]
  },
  {
   "cell_type": "code",
   "execution_count": 136,
   "id": "94c6da13",
   "metadata": {
    "scrolled": false
   },
   "outputs": [
    {
     "name": "stdout",
     "output_type": "stream",
     "text": [
      "Logistic Regression: \n",
      "Best Hyperparameters: {'C': 100, 'max_iter': 100}\n",
      "Train AUC: 0.9187580718278916\n",
      "Valid AUC: 0.9115361791289464\n"
     ]
    }
   ],
   "source": [
    "import warnings\n",
    "warnings.filterwarnings('ignore')\n",
    "\n",
    "# Define the parameter grid for Grid Search\n",
    "param_grid = { \n",
    "    'C': [0.1, 1, 10, 100],\n",
    "    'max_iter' : [100, 200, 500]\n",
    "}\n",
    "\n",
    "# Perform grid search with 5-fold cross-validation for each model\n",
    "lr_gs = GridSearchCV(lr, param_grid=param_grid, scoring='roc_auc', cv=5)\n",
    "\n",
    "# Fit the model on the training data\n",
    "lr_gs.fit(X_train, y_train.to_numpy().ravel())\n",
    "\n",
    "# Predict on the training and validation data\n",
    "y_train_pred = lr_gs.predict_proba(X_train)[:, 1]\n",
    "y_valid_pred = lr_gs.predict_proba(X_valid)[:, 1]\n",
    "\n",
    "# Calculate the AUC score for the training and validation data\n",
    "train_auc = roc_auc_score(y_train, y_train_pred)\n",
    "valid_auc = roc_auc_score(y_valid, y_valid_pred)\n",
    "\n",
    "# Print the best hyperparameters and AUC scores for the model\n",
    "print('Logistic Regression: \\nBest Hyperparameters:', lr_gs.best_params_)\n",
    "print('Train AUC:', train_auc)\n",
    "print('Valid AUC:', valid_auc)"
   ]
  },
  {
   "cell_type": "markdown",
   "id": "d2587560",
   "metadata": {},
   "source": [
    "##  K-Nearest Neighbors"
   ]
  },
  {
   "cell_type": "code",
   "execution_count": 137,
   "id": "fdb85a78",
   "metadata": {},
   "outputs": [],
   "source": [
    "knn = KNeighborsClassifier()"
   ]
  },
  {
   "cell_type": "markdown",
   "id": "6cccfa40",
   "metadata": {},
   "source": [
    "#### Evaluating the model with default parameters"
   ]
  },
  {
   "cell_type": "code",
   "execution_count": 138,
   "id": "260a179f",
   "metadata": {
    "scrolled": true
   },
   "outputs": [
    {
     "data": {
      "image/png": "[encoded data removed]",
      "text/plain": [
       "<Figure size 432x288 with 1 Axes>"
      ]
     },
     "metadata": {
      "needs_background": "light"
     },
     "output_type": "display_data"
    }
   ],
   "source": [
    "# Fit the model\n",
    "knn.fit(X_train, y_train)\n",
    "\n",
    "# predict probabilities on train and valid sets\n",
    "y_train_scores = knn.predict_proba(X_train)[:, 1]\n",
    "y_valid_scores = knn.predict_proba(X_valid)[:,1]\n",
    "\n",
    "# calculate AUC scores on train and valid sets\n",
    "train_auc = roc_auc_score(y_train, y_train_scores)\n",
    "valid_auc = roc_auc_score(y_valid, y_valid_scores)\n",
    "\n",
    "# calculate false positive rates and true positive rates for ROC curves\n",
    "train_fpr, train_tpr, _ = roc_curve(y_train, y_train_scores)\n",
    "valid_fpr, valid_tpr, _ = roc_curve(y_valid, y_valid_scores)\n",
    "\n",
    "# plot ROC curves\n",
    "plt.plot(train_fpr, train_tpr,'-r', label=f\"Train AUC = {train_auc:.3f}\")\n",
    "plt.plot(valid_fpr, valid_tpr,'-b',  label=f\"Valid AUC = {valid_auc:.3f}\")\n",
    "plt.plot([0, 1], [0, 1], color='grey', linestyle='--', label = 'Random')\n",
    "plt.xlabel('False Positive Rate')\n",
    "plt.ylabel('True Positive Rate')\n",
    "plt.title('ROC Curves')\n",
    "plt.legend(loc = 'lower right')\n",
    "plt.legend()\n",
    "plt.show()"
   ]
  },
  {
   "cell_type": "markdown",
   "id": "b468a082",
   "metadata": {},
   "source": [
    "- Overfitting"
   ]
  },
  {
   "cell_type": "markdown",
   "id": "f26eba56",
   "metadata": {},
   "source": [
    "#### Hyperparameter tuning"
   ]
  },
  {
   "cell_type": "code",
   "execution_count": 139,
   "id": "60dc8260",
   "metadata": {
    "scrolled": false
   },
   "outputs": [
    {
     "name": "stdout",
     "output_type": "stream",
     "text": [
      "K-Nearest Neighbors: \n",
      "Best Hyperparameters: {'n_neighbors': 9, 'weights': 'uniform'}\n",
      "Train AUC: 0.9657527978657495\n",
      "Valid AUC: 0.7973029879040321\n"
     ]
    }
   ],
   "source": [
    "# Define the parameter grid for Grid Search\n",
    "param_grid = {\n",
    "    'weights': ['uniform'],\n",
    "    'n_neighbors': [3, 5, 7, 9]\n",
    "}\n",
    "\n",
    "# Perform grid search with 5-fold cross-validation for each model\n",
    "knn_gs = GridSearchCV(knn, param_grid=param_grid, scoring='roc_auc', cv=5)\n",
    "\n",
    "# Fit the model on the training data\n",
    "knn_gs.fit(X_train, y_train)\n",
    "\n",
    "# Predict on the training and validation data\n",
    "y_train_pred = knn_gs.predict_proba(X_train)[:, 1]\n",
    "y_valid_pred = knn_gs.predict_proba(X_valid)[:, 1]\n",
    "\n",
    "# Calculate the AUC score for the training and validation data\n",
    "train_auc = roc_auc_score(y_train, y_train_pred)\n",
    "valid_auc = roc_auc_score(y_valid, y_valid_pred)\n",
    "\n",
    "# Print the best hyperparameters and AUC scores for the model\n",
    "print('K-Nearest Neighbors: \\nBest Hyperparameters:', knn_gs.best_params_)\n",
    "print('Train AUC:', train_auc)\n",
    "print('Valid AUC:', valid_auc)"
   ]
  },
  {
   "cell_type": "markdown",
   "id": "ccc33d2d",
   "metadata": {},
   "source": [
    "## Gaussian Naive Bayes"
   ]
  },
  {
   "cell_type": "code",
   "execution_count": 140,
   "id": "9689591f",
   "metadata": {},
   "outputs": [],
   "source": [
    "g_nb = GaussianNB()"
   ]
  },
  {
   "cell_type": "markdown",
   "id": "eb134473",
   "metadata": {},
   "source": [
    "#### Evaluating the model with default parameters"
   ]
  },
  {
   "cell_type": "code",
   "execution_count": 141,
   "id": "39edc2c1",
   "metadata": {},
   "outputs": [
    {
     "data": {
      "image/png": "[encoded data removed]",
      "text/plain": [
       "<Figure size 432x288 with 1 Axes>"
      ]
     },
     "metadata": {
      "needs_background": "light"
     },
     "output_type": "display_data"
    }
   ],
   "source": [
    "# Fit the model\n",
    "g_nb.fit(X_train, y_train)\n",
    "\n",
    "# predict probabilities on train and valid sets\n",
    "y_train_scores = g_nb.predict_proba(X_train)[:, 1]\n",
    "y_valid_scores = g_nb.predict_proba(X_valid)[:,1]\n",
    "\n",
    "# calculate AUC scores on train and valid sets\n",
    "train_auc = roc_auc_score(y_train, y_train_scores)\n",
    "valid_auc = roc_auc_score(y_valid, y_valid_scores)\n",
    "\n",
    "# calculate false positive rates and true positive rates for ROC curves\n",
    "train_fpr, train_tpr, _ = roc_curve(y_train, y_train_scores)\n",
    "valid_fpr, valid_tpr, _ = roc_curve(y_valid, y_valid_scores)\n",
    "\n",
    "# plot ROC curves\n",
    "plt.plot(train_fpr, train_tpr,'-r', label=f\"Train AUC = {train_auc:.3f}\")\n",
    "plt.plot(valid_fpr, valid_tpr,'-b',  label=f\"Valid AUC = {valid_auc:.3f}\")\n",
    "plt.plot([0, 1], [0, 1], color='grey', linestyle='--', label = 'Random')\n",
    "plt.xlabel('False Positive Rate')\n",
    "plt.ylabel('True Positive Rate')\n",
    "plt.title('ROC Curves')\n",
    "plt.legend(loc = 'lower right')\n",
    "plt.legend()\n",
    "plt.show()"
   ]
  },
  {
   "cell_type": "markdown",
   "id": "dc7215e1",
   "metadata": {},
   "source": [
    "#### Hyperparameter tuning"
   ]
  },
  {
   "cell_type": "code",
   "execution_count": 142,
   "id": "4d57deea",
   "metadata": {
    "scrolled": false
   },
   "outputs": [
    {
     "name": "stdout",
     "output_type": "stream",
     "text": [
      "Gaussian Naive Bayes: \n",
      "Best Hyperparameters: {'priors': None, 'var_smoothing': 1e-05}\n",
      "Train AUC: 0.9013637266823449\n",
      "Valid AUC: 0.8954614583958728\n"
     ]
    }
   ],
   "source": [
    "# Define the parameter grid for Grid Search\n",
    "param_grid = {\n",
    "    'priors': [None, [0.3, 0.7]], # to account for the imbalanced target\n",
    "    'var_smoothing': [1e-9, 1e-7, 1e-5]\n",
    "}\n",
    "\n",
    "# Perform grid search with 5-fold cross-validation for each model\n",
    "g_nb_gs = GridSearchCV(g_nb, param_grid=param_grid, scoring='roc_auc', cv=5)\n",
    "\n",
    "# Fit the model on the training data\n",
    "g_nb_gs.fit(X_train, y_train.to_numpy().ravel())\n",
    "\n",
    "# Predict on the training and validation data\n",
    "y_train_pred = g_nb_gs.predict_proba(X_train)[:, 1]\n",
    "y_valid_pred = g_nb_gs.predict_proba(X_valid)[:, 1]\n",
    "\n",
    "# Calculate the AUC score for the training and validation data\n",
    "train_auc = roc_auc_score(y_train, y_train_pred)\n",
    "valid_auc = roc_auc_score(y_valid, y_valid_pred)\n",
    "\n",
    "# Print the best hyperparameters and AUC scores for the model\n",
    "print('Gaussian Naive Bayes: \\nBest Hyperparameters:', g_nb_gs.best_params_)\n",
    "print('Train AUC:', train_auc)\n",
    "print('Valid AUC:', valid_auc)"
   ]
  },
  {
   "cell_type": "markdown",
   "id": "fcb0aa46",
   "metadata": {},
   "source": [
    "## Multinomial Naive Bayes"
   ]
  },
  {
   "cell_type": "code",
   "execution_count": 143,
   "id": "0e2f48be",
   "metadata": {},
   "outputs": [],
   "source": [
    "m_nb = MultinomialNB()"
   ]
  },
  {
   "cell_type": "markdown",
   "id": "bcd9efdb",
   "metadata": {},
   "source": [
    "#### Evaluating the model with default parameters"
   ]
  },
  {
   "cell_type": "code",
   "execution_count": 144,
   "id": "8c67520d",
   "metadata": {},
   "outputs": [
    {
     "data": {
      "image/png": "[encoded data removed]",
      "text/plain": [
       "<Figure size 432x288 with 1 Axes>"
      ]
     },
     "metadata": {
      "needs_background": "light"
     },
     "output_type": "display_data"
    }
   ],
   "source": [
    "# Fit the model\n",
    "m_nb.fit(X_train, y_train)\n",
    "\n",
    "# predict probabilities on train and valid sets\n",
    "y_train_scores = m_nb.predict_proba(X_train)[:, 1]\n",
    "y_valid_scores = m_nb.predict_proba(X_valid)[:,1]\n",
    "\n",
    "# calculate AUC scores on train and valid sets\n",
    "train_auc = roc_auc_score(y_train, y_train_scores)\n",
    "valid_auc = roc_auc_score(y_valid, y_valid_scores)\n",
    "\n",
    "# calculate false positive rates and true positive rates for ROC curves\n",
    "train_fpr, train_tpr, _ = roc_curve(y_train, y_train_scores)\n",
    "valid_fpr, valid_tpr, _ = roc_curve(y_valid, y_valid_scores)\n",
    "\n",
    "# plot ROC curves\n",
    "plt.plot(train_fpr, train_tpr,'-r', label=f\"Train AUC = {train_auc:.3f}\")\n",
    "plt.plot(valid_fpr, valid_tpr,'-b',  label=f\"Valid AUC = {valid_auc:.3f}\")\n",
    "plt.plot([0, 1], [0, 1], color='grey', linestyle='--', label = 'Random')\n",
    "plt.xlabel('False Positive Rate')\n",
    "plt.ylabel('True Positive Rate')\n",
    "plt.title('ROC Curves')\n",
    "plt.legend(loc = 'lower right')\n",
    "plt.legend()\n",
    "plt.show()"
   ]
  },
  {
   "cell_type": "markdown",
   "id": "d63ea3a5",
   "metadata": {},
   "source": [
    "#### Hyperparameter tuning"
   ]
  },
  {
   "cell_type": "code",
   "execution_count": 145,
   "id": "7ed963b0",
   "metadata": {
    "scrolled": false
   },
   "outputs": [
    {
     "name": "stdout",
     "output_type": "stream",
     "text": [
      "Multinomial Naive Bayes: \n",
      "Best Hyperparameters: {'alpha': 0.01, 'class_prior': None}\n",
      "Train AUC: 0.899201552107101\n",
      "Valid AUC: 0.891170586425432\n"
     ]
    }
   ],
   "source": [
    "# Define the parameter grid for Grid Search\n",
    "param_grid = {\n",
    "    'class_prior': [None, [0.3, 0.7]], # to account for the imbalanced target\n",
    "    'alpha': [0.01, 0.1, 1.0, 10.0]\n",
    "}\n",
    "\n",
    "# Perform grid search with 5-fold cross-validation for each model\n",
    "m_nb_gs = GridSearchCV(m_nb, param_grid=param_grid, scoring='roc_auc', cv=5)\n",
    "\n",
    "# Fit the model on the training data\n",
    "m_nb_gs.fit(X_train, y_train)\n",
    "\n",
    "# Predict on the training and validation data\n",
    "y_train_pred = m_nb_gs.predict_proba(X_train)[:, 1]\n",
    "y_valid_pred = m_nb_gs.predict_proba(X_valid)[:, 1]\n",
    "\n",
    "# Calculate the AUC score for the training and validation data\n",
    "train_auc = roc_auc_score(y_train, y_train_pred)\n",
    "valid_auc = roc_auc_score(y_valid, y_valid_pred)\n",
    "\n",
    "# Print the best hyperparameters and AUC scores for the model\n",
    "print('Multinomial Naive Bayes: \\nBest Hyperparameters:', m_nb_gs.best_params_)\n",
    "print('Train AUC:', train_auc)\n",
    "print('Valid AUC:', valid_auc)"
   ]
  },
  {
   "cell_type": "markdown",
   "id": "dc2ed09d",
   "metadata": {},
   "source": [
    "### Gradient Boosting Classifier"
   ]
  },
  {
   "cell_type": "code",
   "execution_count": 146,
   "id": "4a880800",
   "metadata": {},
   "outputs": [
    {
     "data": {
      "text/plain": [
       "GradientBoostingClassifier()"
      ]
     },
     "execution_count": 146,
     "metadata": {},
     "output_type": "execute_result"
    }
   ],
   "source": [
    "gb = GradientBoostingClassifier()\n",
    "gb.fit(X_train_selected, y_train)"
   ]
  },
  {
   "cell_type": "code",
   "execution_count": 147,
   "id": "bf85b362",
   "metadata": {
    "scrolled": true
   },
   "outputs": [
    {
     "data": {
      "image/png": "[encoded data removed]",
      "text/plain": [
       "<Figure size 432x288 with 1 Axes>"
      ]
     },
     "metadata": {
      "needs_background": "light"
     },
     "output_type": "display_data"
    }
   ],
   "source": [
    "# predict probabilities on train and valid sets\n",
    "y_train_scores = gb.predict_proba(X_train_selected)[:, 1]\n",
    "y_valid_scores = gb.predict_proba(X_valid_selected)[:,1]\n",
    "\n",
    "# calculate AUC scores on train and valid sets\n",
    "train_auc = roc_auc_score(y_train, y_train_scores)\n",
    "valid_auc = roc_auc_score(y_valid, y_valid_scores)\n",
    "\n",
    "# calculate false positive rates and true positive rates for ROC curves\n",
    "train_fpr, train_tpr, _ = roc_curve(y_train, y_train_scores)\n",
    "valid_fpr, valid_tpr, _ = roc_curve(y_valid, y_valid_scores)\n",
    "\n",
    "# plot ROC curves\n",
    "plt.plot(train_fpr, train_tpr,'-r', label=f\"Train AUC = {train_auc:.3f}\")\n",
    "plt.plot(valid_fpr, valid_tpr,'-b',  label=f\"Valid AUC = {valid_auc:.3f}\")\n",
    "plt.plot([0, 1], [0, 1], color='grey', linestyle='--', label = 'Random')\n",
    "plt.xlabel('False Positive Rate')\n",
    "plt.ylabel('True Positive Rate')\n",
    "plt.title('ROC Curves')\n",
    "plt.legend(loc = 'lower right')\n",
    "plt.legend()\n",
    "plt.show()"
   ]
  },
  {
   "cell_type": "markdown",
   "id": "95826c22",
   "metadata": {},
   "source": [
    "### XGBoost"
   ]
  },
  {
   "cell_type": "code",
   "execution_count": 148,
   "id": "51c31140",
   "metadata": {},
   "outputs": [
    {
     "data": {
      "text/plain": [
       "XGBClassifier(base_score=None, booster=None, callbacks=None,\n",
       "              colsample_bylevel=None, colsample_bynode=None,\n",
       "              colsample_bytree=None, early_stopping_rounds=None,\n",
       "              enable_categorical=False, eval_metric=None, feature_types=None,\n",
       "              gamma=None, gpu_id=None, grow_policy=None, importance_type=None,\n",
       "              interaction_constraints=None, learning_rate=None, max_bin=None,\n",
       "              max_cat_threshold=None, max_cat_to_onehot=None,\n",
       "              max_delta_step=None, max_depth=None, max_leaves=None,\n",
       "              min_child_weight=None, missing=nan, monotone_constraints=None,\n",
       "              n_estimators=100, n_jobs=None, num_parallel_tree=None,\n",
       "              predictor=None, random_state=None, ...)"
      ]
     },
     "execution_count": 148,
     "metadata": {},
     "output_type": "execute_result"
    }
   ],
   "source": [
    "xgb= xgb.XGBClassifier()\n",
    "xgb.fit(X_train_selected, y_train)"
   ]
  },
  {
   "cell_type": "code",
   "execution_count": 149,
   "id": "35c74104",
   "metadata": {},
   "outputs": [
    {
     "data": {
      "image/png": "[encoded data removed]",
      "text/plain": [
       "<Figure size 432x288 with 1 Axes>"
      ]
     },
     "metadata": {
      "needs_background": "light"
     },
     "output_type": "display_data"
    }
   ],
   "source": [
    "# predict probabilities on train and valid sets\n",
    "y_train_scores = xgb.predict_proba(X_train_selected)[:, 1]\n",
    "y_valid_scores = xgb.predict_proba(X_valid_selected)[:,1]\n",
    "\n",
    "# calculate AUC scores on train and valid sets\n",
    "train_auc = roc_auc_score(y_train, y_train_scores)\n",
    "valid_auc = roc_auc_score(y_valid, y_valid_scores)\n",
    "\n",
    "# calculate false positive rates and true positive rates for ROC curves\n",
    "train_fpr, train_tpr, _ = roc_curve(y_train, y_train_scores)\n",
    "valid_fpr, valid_tpr, _ = roc_curve(y_valid, y_valid_scores)\n",
    "\n",
    "# plot ROC curves\n",
    "plt.plot(train_fpr, train_tpr,'-r', label=f\"Train AUC = {train_auc:.3f}\")\n",
    "plt.plot(valid_fpr, valid_tpr,'-b',  label=f\"Valid AUC = {valid_auc:.3f}\")\n",
    "plt.plot([0, 1], [0, 1], color='grey', linestyle='--', label = 'Random')\n",
    "plt.xlabel('False Positive Rate')\n",
    "plt.ylabel('True Positive Rate')\n",
    "plt.title('ROC Curves')\n",
    "plt.legend(loc = 'lower right')\n",
    "plt.legend()\n",
    "plt.show()"
   ]
  },
  {
   "cell_type": "markdown",
   "id": "2ca2d86d",
   "metadata": {},
   "source": [
    "## Model Combination: Combining the two best performing models, Logistic Regression and Gaussian Naive Bayes"
   ]
  },
  {
   "cell_type": "code",
   "execution_count": 270,
   "id": "8101f143",
   "metadata": {},
   "outputs": [],
   "source": [
    "lr = LogisticRegression(C=100, class_weight='balanced', max_iter=200)\n",
    "g_nb = GaussianNB(priors=[0.3, 0.7], var_smoothing=1e-09)"
   ]
  },
  {
   "cell_type": "markdown",
   "id": "129959c3",
   "metadata": {},
   "source": [
    "- Using VotingClassifier from scikit-learn to combine the predictions of the logistic regression and Gaussian Naive Bayes models."
   ]
  },
  {
   "cell_type": "code",
   "execution_count": 277,
   "id": "47ac7c84",
   "metadata": {},
   "outputs": [
    {
     "name": "stdout",
     "output_type": "stream",
     "text": [
      "Voting Classifier Model:\n",
      "AUC on train: 0.9103328358960876\n",
      "AUC on validation: 0.904016342913865\n"
     ]
    }
   ],
   "source": [
    "from sklearn.ensemble import VotingClassifier\n",
    "\n",
    "# Define the ensemble model\n",
    "ensemble_model = VotingClassifier(estimators=[('lr', lr), ('nb', g_nb)], voting='soft')\n",
    "\n",
    "# Train and evaluate the ensemble model\n",
    "ensemble_scores_train = cross_val_score(ensemble_model, X_train, y_train, cv=5, scoring='roc_auc')\n",
    "ensemble_auc_train = ensemble_scores_train.mean()\n",
    "print(\"Voting Classifier Model:\")\n",
    "print('AUC on train:', ensemble_auc_train)\n",
    "\n",
    "# Fit the ensemble model on the entire training data\n",
    "ensemble_model.fit(X_train, y_train)\n",
    "\n",
    "ensemble_scores_valid = ensemble_model.predict_proba(X_valid)[:, 1]\n",
    "ensemble_auc_valid = roc_auc_score(y_valid, ensemble_scores_valid)\n",
    "print('AUC on validation:', ensemble_auc_valid)"
   ]
  },
  {
   "cell_type": "markdown",
   "id": "0fd5c075",
   "metadata": {},
   "source": [
    "- Using StackedClassifier from scikit-learn to train LogisticRegresiion on the training data, and then training a Guassian Naive Bayes on the predictions made by the base model, Logit."
   ]
  },
  {
   "cell_type": "code",
   "execution_count": 278,
   "id": "b09b1b50",
   "metadata": {},
   "outputs": [
    {
     "name": "stdout",
     "output_type": "stream",
     "text": [
      "Stacked Classifier Model:\n",
      "Train AUC: 0.9118191626609373\n",
      "Valid AUC: 0.9042271463418545\n"
     ]
    }
   ],
   "source": [
    "from sklearn.ensemble import StackingClassifier\n",
    "# Create the stacked classifier\n",
    "stacked_model = StackingClassifier(\n",
    "    estimators=[('lr', lr), ('nb', g_nb)],\n",
    "    final_estimator=lr\n",
    ")\n",
    "\n",
    "\n",
    "# Fit the stacked classifier on the train set and predict on the validation set\n",
    "stacked_model.fit(X_train, y_train)\n",
    "stacked_train_preds = stacked_model.predict_proba(X_train)[:, 1]\n",
    "stacked_valid_preds = stacked_model.predict_proba(X_valid)[:, 1]\n",
    "\n",
    "# Calculate the AUC score on the train and validation sets\n",
    "stacked_train_auc = roc_auc_score(y_train, stacked_train_preds)\n",
    "stacked_valid_auc = roc_auc_score(y_valid, stacked_valid_preds)\n",
    "\n",
    "\n",
    "print(\"Stacked Classifier Model:\")\n",
    "print(\"Train AUC:\", stacked_train_auc)\n",
    "print(\"Valid AUC:\", stacked_valid_auc)"
   ]
  },
  {
   "cell_type": "markdown",
   "id": "0b8b9dd8",
   "metadata": {},
   "source": [
    "## Conclusion:\n",
    "\n",
    "The best AUC values for each optimized model on train and valid:\n",
    "- After tuning the hyperparameters, the results show that the logistic regression and the gaussian naive bayes provide the best AUC on the validation\n",
    "- Even though KNN has a higher score on the training (0.98), it has a much lower score on the validation, which suggests that it is overfitting.\n",
    "\n",
    "The model I choose:\n",
    "- I decided to create an ensemble model that uses the two best performing model, logistic regression and gaussian naive bayes and i trained it using two different methods (VotingClassifier and StackedClassifier) and both resulted in similar scores:\n",
    "- I choose the stacked ensemble model since it is trained by correcting the errors of the logistic regression using the naive bayes.\n",
    "\n",
    "Issues I faced during training or testing:\n",
    "1. The KNN Model took so much time to execute, even when i tried to reduce dimensionality through PCA. So, I choose to use 11 features instead of 16 features to make it run faster.\n",
    "2. I tried the SVM, but it also took so much time to execute, so I decided to abort the trial."
   ]
  }
 ],
 "metadata": {
  "kernelspec": {
   "display_name": "Python 3",
   "language": "python",
   "name": "python3"
  },
  "language_info": {
   "codemirror_mode": {
    "name": "ipython",
    "version": 3
   },
   "file_extension": ".py",
   "mimetype": "text/x-python",
   "name": "python",
   "nbconvert_exporter": "python",
   "pygments_lexer": "ipython3",
   "version": "3.9.5"
  }
 },
 "nbformat": 4,
 "nbformat_minor": 5
}
